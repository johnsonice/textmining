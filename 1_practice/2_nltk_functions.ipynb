{
 "cells": [
  {
   "cell_type": "code",
   "execution_count": 1,
   "metadata": {
    "collapsed": true
   },
   "outputs": [],
   "source": [
    "import nltk\n",
    "from nltk.stem.porter import PorterStemmer\n",
    "from nltk.stem import WordNetLemmatizer"
   ]
  },
  {
   "cell_type": "code",
   "execution_count": 2,
   "metadata": {
    "collapsed": true
   },
   "outputs": [],
   "source": [
    "# nltk.download_shell()\n",
    "# install averaged_perceptron_tagger\n",
    "# install maxent_ne_chunker\n",
    "# install words"
   ]
  },
  {
   "cell_type": "markdown",
   "metadata": {},
   "source": [
    "##### example of pos tagging "
   ]
  },
  {
   "cell_type": "code",
   "execution_count": 3,
   "metadata": {
    "collapsed": false,
    "scrolled": true
   },
   "outputs": [
    {
     "data": {
      "text/plain": [
       "[('Machine', 'NN'), ('learning', 'NN'), ('is', 'VBZ'), ('great', 'JJ')]"
      ]
     },
     "execution_count": 3,
     "metadata": {},
     "output_type": "execute_result"
    }
   ],
   "source": [
    "## example of pos tagging \n",
    "nltk.pos_tag(\"Machine learning is great\".split())"
   ]
  },
  {
   "cell_type": "markdown",
   "metadata": {},
   "source": [
    "##### example of stemming and lemmatization "
   ]
  },
  {
   "cell_type": "code",
   "execution_count": 4,
   "metadata": {
    "collapsed": false
   },
   "outputs": [
    {
     "name": "stdout",
     "output_type": "stream",
     "text": [
      "stemming: wolv\n",
      "lemmatizing: wolf\n"
     ]
    }
   ],
   "source": [
    "## example of stemming and lemmatization \n",
    "## lemmatization is usually smoother than stamming\n",
    "## you can see stamming as a more curde version of lemmatization\n",
    "\n",
    "## this is stemming -- not very good \n",
    "porter_stemmer = PorterStemmer()\n",
    "print('stemming:', porter_stemmer.stem('wolves'))\n",
    "\n",
    "## this is lemmatizing\n",
    "lemmatizer = WordNetLemmatizer()\n",
    "print('lemmatizing:', lemmatizer.lemmatize('wolves'))"
   ]
  },
  {
   "cell_type": "markdown",
   "metadata": {},
   "source": [
    "#### Named entity recognition"
   ]
  },
  {
   "cell_type": "code",
   "execution_count": 15,
   "metadata": {
    "collapsed": false
   },
   "outputs": [],
   "source": [
    "###\n",
    "s = \"Albert Einstein was born on March 14, 1879\"\n",
    "s = \"Chengyu Huang is a chinese name\"\n",
    "tags = nltk.pos_tag(s.split())\n",
    "result = nltk.ne_chunk(tags)  ## stored the reulst,for some reason, when you tried to print it out, it will give you an error  \n",
    "result.draw()                 ## it will draw a recognized chart"
   ]
  }
 ],
 "metadata": {
  "kernelspec": {
   "display_name": "Python 3",
   "language": "python",
   "name": "python3"
  },
  "language_info": {
   "codemirror_mode": {
    "name": "ipython",
    "version": 3
   },
   "file_extension": ".py",
   "mimetype": "text/x-python",
   "name": "python",
   "nbconvert_exporter": "python",
   "pygments_lexer": "ipython3",
   "version": "3.6.0"
  }
 },
 "nbformat": 4,
 "nbformat_minor": 2
}
