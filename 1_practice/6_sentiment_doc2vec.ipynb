{
 "cells": [
  {
   "cell_type": "markdown",
   "metadata": {},
   "source": [
    "### Sentiment analysis Doc2Vec"
   ]
  },
  {
   "cell_type": "code",
   "execution_count": 1,
   "metadata": {},
   "outputs": [],
   "source": [
    "import gensim\n",
    "from sklearn.model_selection import train_test_split  \n",
    "import numpy as np\n",
    "import glob\n",
    "import os \n",
    "import imdb_preprocess"
   ]
  },
  {
   "cell_type": "markdown",
   "metadata": {},
   "source": [
    "#### Read data"
   ]
  },
  {
   "cell_type": "code",
   "execution_count": 2,
   "metadata": {},
   "outputs": [
    {
     "name": "stdout",
     "output_type": "stream",
     "text": [
      "load pickle data from disk\n"
     ]
    }
   ],
   "source": [
    "data_path = '../../imdb'\n",
    "file_path = os.path.join(data_path,'imdb.p')\n",
    "if os.path.exists(file_path): \n",
    "    print('load pickle data from disk')\n",
    "    x,y = imdb_preprocess.load_processed_data(file_path)\n",
    "else:\n",
    "    print('process and load data')\n",
    "    imdb_preprocess.save_processed_data(data_path)\n",
    "    x,y = imdb_preprocess.load_processed_data(file_path)"
   ]
  },
  {
   "cell_type": "code",
   "execution_count": 3,
   "metadata": {},
   "outputs": [
    {
     "name": "stdout",
     "output_type": "stream",
     "text": [
      "20000   20000\n"
     ]
    }
   ],
   "source": [
    "## train and test split data \n",
    "x_train, x_test, y_train, y_test = train_test_split(x, y, test_size=0.2)\n",
    "print(len(x_train),\" \",len(y_train))"
   ]
  },
  {
   "cell_type": "markdown",
   "metadata": {},
   "source": [
    "### Gensim doc2vec model"
   ]
  },
  {
   "cell_type": "markdown",
   "metadata": {},
   "source": [
    "Gensim's Doc2Vec implementation requires each document/paragraph to have a label associated with it.\n",
    "We do this by using the LabeledSentence method. The format will be \"TRAIN_i\" or \"TEST_i\" where \"i\" is\n",
    "a dummy index of the review."
   ]
  },
  {
   "cell_type": "code",
   "execution_count": 4,
   "metadata": {
    "collapsed": true
   },
   "outputs": [],
   "source": [
    "## use labeledSentence object\n",
    "#LabeledSentence = gensim.models.doc2vec.LabeledSentence\n",
    "from gensim.models.doc2vec import TaggedDocument\n",
    "import random\n",
    "from gensim.models import Doc2Vec"
   ]
  },
  {
   "cell_type": "code",
   "execution_count": 5,
   "metadata": {
    "collapsed": true
   },
   "outputs": [],
   "source": [
    "def read_corpus(reviews):\n",
    "    for i,doc in enumerate(reviews):\n",
    "        yield TaggedDocument(doc,[i])\n",
    "\n",
    "train_corpus = list(read_corpus(x_train))"
   ]
  },
  {
   "cell_type": "code",
   "execution_count": null,
   "metadata": {},
   "outputs": [],
   "source": [
    "cores = os.cpu_count()\n",
    "size = 200\n",
    "window = 5 \n",
    "iteration = 20 \n",
    "\n",
    "model = Doc2Vec(size=size, min_count=2, window = window,iter=iteration)\n",
    "model.build_vocab(train_corpus)\n",
    "model.train(train_corpus, total_examples=model.corpus_count, epochs=model.iter)\n",
    "\n",
    "## after you trained your model, you can train them again \n",
    "# model.train(train_corpus, total_examples=model.corpus_count, epochs=model.iter)"
   ]
  },
  {
   "cell_type": "code",
   "execution_count": null,
   "metadata": {},
   "outputs": [],
   "source": [
    "model.save(os.path.join(data_path,'trained','imdb.d2v'))\n",
    "## save model \n",
    "if not os.path.exists(os.path.join(data_path,\"trained\")):\n",
    "    os.makedirs(os.path.join(data_path,\"trained\"))\n",
    "    model.save(os.path.join(data_path,'trained','imdb.d2v'))\n",
    "else:\n",
    "    model = Doc2Vec.load(os.path.join(data_path,'trained','imdb.d2v'))"
   ]
  },
  {
   "cell_type": "markdown",
   "metadata": {},
   "source": [
    "### look at some samples "
   ]
  },
  {
   "cell_type": "code",
   "execution_count": 8,
   "metadata": {
    "scrolled": true
   },
   "outputs": [
    {
     "data": {
      "text/plain": [
       "[(4528, 0.6481720805168152),\n",
       " (6347, 0.6399887800216675),\n",
       " (7782, 0.6349166035652161),\n",
       " (280, 0.6317951083183289),\n",
       " (10009, 0.6220613718032837),\n",
       " (7220, 0.6116548180580139),\n",
       " (1867, 0.605474591255188),\n",
       " (7188, 0.604194164276123),\n",
       " (19419, 0.6015190482139587),\n",
       " (854, 0.5951851606369019)]"
      ]
     },
     "execution_count": 8,
     "metadata": {},
     "output_type": "execute_result"
    }
   ],
   "source": [
    "model.docvecs.most_similar(positive=[1],topn=10)"
   ]
  },
  {
   "cell_type": "code",
   "execution_count": 9,
   "metadata": {},
   "outputs": [
    {
     "name": "stdout",
     "output_type": "stream",
     "text": [
      "i had the tv on for a white noise companion and heard\" $400 for a fully furnished apartment\" so i ran into the tv room expecting another 70's flick and got much more . luckily , i could rewind to the beginning ( dvr buffer ) and hit the record button to watch it entirely . ( cinemax uncut and in hd no less ! ) aside from some holes in the story and intermittent improbable dialog/events , this is an effective thriller worthy of your time to watch . pretty creepy and progressive at times : beverly d'angelo's character masturbates in front of alison parker , played adroitly by cristina raines , parker stabs , in very gory fashion , her father , an explicit menage a trios scene . ( don't let the kids watch ) the film is totally 70's full of bad clothes ( polyester suits and tacky ascots ) and decor , bad hair , over bloated music score , and familiar looking cinematography . the cast is excellent , take a second on this film's home page to check it out . it was a surprise to see christopher walken , jerry orbach and jeff goldblum so young . sylvia miles- always wonderfully creepy ! enjoy ! \n",
      "\n",
      "\n",
      "i loved this movie ! chris showerman did an amazing job ! not only is he an incredible actor , but he is gorgeous with an awesome physique ! he did a great job on the delivery of his lines , plus transformed into george better than fraser did . a great performance for his first major roll ! this movie is full of hilarious scenes that every child will love . my kids have watched this movie numerous times since we purchased the dvd the day it came out . in addition to the movie , the extras on the dvd are just as hilarious . two thumbs up on this one ! i highly recommend it to everyone !\n"
     ]
    }
   ],
   "source": [
    "print(' '.join(x[1]) , '\\n\\n')\n",
    "print(' '.join(x[4528]))"
   ]
  },
  {
   "cell_type": "code",
   "execution_count": 10,
   "metadata": {
    "scrolled": true
   },
   "outputs": [],
   "source": [
    "infer_review = 'I love this movie'"
   ]
  },
  {
   "cell_type": "code",
   "execution_count": 11,
   "metadata": {},
   "outputs": [
    {
     "ename": "AttributeError",
     "evalue": "'Doc2Vec' object has no attribute 'syn1neg'",
     "output_type": "error",
     "traceback": [
      "\u001b[0;31m---------------------------------------------------------------------------\u001b[0m",
      "\u001b[0;31mAttributeError\u001b[0m                            Traceback (most recent call last)",
      "\u001b[0;32m<ipython-input-11-381c184d4d62>\u001b[0m in \u001b[0;36m<module>\u001b[0;34m()\u001b[0m\n\u001b[0;32m----> 1\u001b[0;31m \u001b[0mmodel\u001b[0m\u001b[0;34m.\u001b[0m\u001b[0minfer_vector\u001b[0m\u001b[0;34m(\u001b[0m\u001b[0minfer_review\u001b[0m\u001b[0;34m.\u001b[0m\u001b[0msplit\u001b[0m\u001b[0;34m(\u001b[0m\u001b[0;34m)\u001b[0m\u001b[0;34m)\u001b[0m\u001b[0;34m\u001b[0m\u001b[0m\n\u001b[0m",
      "\u001b[0;32m~/anaconda3/envs/my_root/lib/python3.6/site-packages/gensim/models/doc2vec.py\u001b[0m in \u001b[0;36minfer_vector\u001b[0;34m(self, doc_words, alpha, min_alpha, steps)\u001b[0m\n\u001b[1;32m    756\u001b[0m                 train_document_dm(self, doc_words, doctag_indexes, alpha, work, neu1,\n\u001b[1;32m    757\u001b[0m                                   \u001b[0mlearn_words\u001b[0m\u001b[0;34m=\u001b[0m\u001b[0;32mFalse\u001b[0m\u001b[0;34m,\u001b[0m \u001b[0mlearn_hidden\u001b[0m\u001b[0;34m=\u001b[0m\u001b[0;32mFalse\u001b[0m\u001b[0;34m,\u001b[0m\u001b[0;34m\u001b[0m\u001b[0m\n\u001b[0;32m--> 758\u001b[0;31m                                   doctag_vectors=doctag_vectors, doctag_locks=doctag_locks)\n\u001b[0m\u001b[1;32m    759\u001b[0m             \u001b[0malpha\u001b[0m \u001b[0;34m=\u001b[0m \u001b[0;34m(\u001b[0m\u001b[0;34m(\u001b[0m\u001b[0malpha\u001b[0m \u001b[0;34m-\u001b[0m \u001b[0mmin_alpha\u001b[0m\u001b[0;34m)\u001b[0m \u001b[0;34m/\u001b[0m \u001b[0;34m(\u001b[0m\u001b[0msteps\u001b[0m \u001b[0;34m-\u001b[0m \u001b[0mi\u001b[0m\u001b[0;34m)\u001b[0m\u001b[0;34m)\u001b[0m \u001b[0;34m+\u001b[0m \u001b[0mmin_alpha\u001b[0m\u001b[0;34m\u001b[0m\u001b[0m\n\u001b[1;32m    760\u001b[0m \u001b[0;34m\u001b[0m\u001b[0m\n",
      "\u001b[0;32m~/anaconda3/envs/my_root/lib/python3.6/site-packages/gensim/models/doc2vec_inner.pyx\u001b[0m in \u001b[0;36mgensim.models.doc2vec_inner.train_document_dm (./gensim/models/doc2vec_inner.c:5373)\u001b[0;34m()\u001b[0m\n",
      "\u001b[0;31mAttributeError\u001b[0m: 'Doc2Vec' object has no attribute 'syn1neg'"
     ]
    }
   ],
   "source": [
    "model.infer_vector(infer_review.split())"
   ]
  },
  {
   "cell_type": "markdown",
   "metadata": {},
   "source": [
    "### Use document vector for sentiment analysis"
   ]
  },
  {
   "cell_type": "code",
   "execution_count": null,
   "metadata": {
    "collapsed": true
   },
   "outputs": [],
   "source": [
    "#Get training set vectors from our models\n",
    "def getVecs(model, corpus, size):\n",
    "    vecs = [model.docvecs[z].reshape((1, size)) for z in range(len(x_train))]\n",
    "    return np.concatenate(vecs)"
   ]
  },
  {
   "cell_type": "code",
   "execution_count": null,
   "metadata": {
    "collapsed": true
   },
   "outputs": [],
   "source": [
    "train_vecs_dm = getVecs(model,x_train,size)"
   ]
  },
  {
   "cell_type": "code",
   "execution_count": null,
   "metadata": {},
   "outputs": [],
   "source": [
    "from sklearn.linear_model import SGDClassifier\n",
    "\n",
    "lr = SGDClassifier(loss='log', penalty='l1')\n",
    "lr.fit(train_vecs_dm,y_train )\n",
    "\n",
    "print ('Test Accuracy: %.2f'%lr.score(train_vecs_dm, y_train))"
   ]
  },
  {
   "cell_type": "code",
   "execution_count": null,
   "metadata": {
    "collapsed": true
   },
   "outputs": [],
   "source": []
  }
 ],
 "metadata": {
  "kernelspec": {
   "display_name": "Python 3",
   "language": "python",
   "name": "python3"
  },
  "language_info": {
   "codemirror_mode": {
    "name": "ipython",
    "version": 3
   },
   "file_extension": ".py",
   "mimetype": "text/x-python",
   "name": "python",
   "nbconvert_exporter": "python",
   "pygments_lexer": "ipython3",
   "version": "3.6.1"
  }
 },
 "nbformat": 4,
 "nbformat_minor": 2
}
