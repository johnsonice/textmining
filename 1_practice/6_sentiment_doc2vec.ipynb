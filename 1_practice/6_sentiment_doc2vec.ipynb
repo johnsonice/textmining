{
 "cells": [
  {
   "cell_type": "markdown",
   "metadata": {},
   "source": [
    "### Sentiment analysis Doc2Vec"
   ]
  },
  {
   "cell_type": "code",
   "execution_count": 1,
   "metadata": {
    "collapsed": true
   },
   "outputs": [],
   "source": [
    "import gensim\n",
    "from sklearn.model_selection import train_test_split  \n",
    "import numpy as np\n",
    "import glob\n",
    "import os \n",
    "import imdb_preprocess"
   ]
  },
  {
   "cell_type": "markdown",
   "metadata": {},
   "source": [
    "#### Read data"
   ]
  },
  {
   "cell_type": "code",
   "execution_count": 2,
   "metadata": {},
   "outputs": [
    {
     "name": "stdout",
     "output_type": "stream",
     "text": [
      "load pickle data from disk\n"
     ]
    }
   ],
   "source": [
    "data_path = '../../imdb'\n",
    "file_path = os.path.join(data_path,'imdb.p')\n",
    "if os.path.exists(file_path): \n",
    "    print('load pickle data from disk')\n",
    "    x,y = imdb_preprocess.load_processed_data(file_path)\n",
    "else:\n",
    "    print('process and load data')\n",
    "    imdb_preprocess.save_processed_data(data_path)\n",
    "    x,y = imdb_preprocess.load_processed_data(file_path)"
   ]
  },
  {
   "cell_type": "code",
   "execution_count": 3,
   "metadata": {},
   "outputs": [
    {
     "name": "stdout",
     "output_type": "stream",
     "text": [
      "20000   20000\n"
     ]
    }
   ],
   "source": [
    "## train and test split data \n",
    "x_train, x_test, y_train, y_test = train_test_split(x, y, test_size=0.2)\n",
    "print(len(x_train),\" \",len(y_train))"
   ]
  },
  {
   "cell_type": "markdown",
   "metadata": {},
   "source": [
    "### Gensim doc2vec model"
   ]
  },
  {
   "cell_type": "markdown",
   "metadata": {},
   "source": [
    "Gensim's Doc2Vec implementation requires each document/paragraph to have a label associated with it.\n",
    "We do this by using the LabeledSentence method. The format will be \"TRAIN_i\" or \"TEST_i\" where \"i\" is\n",
    "a dummy index of the review."
   ]
  },
  {
   "cell_type": "code",
   "execution_count": 4,
   "metadata": {
    "collapsed": true
   },
   "outputs": [],
   "source": [
    "## use labeledSentence object\n",
    "#LabeledSentence = gensim.models.doc2vec.LabeledSentence\n",
    "from gensim.models.doc2vec import TaggedDocument\n",
    "import random\n",
    "from gensim.models import Doc2Vec"
   ]
  },
  {
   "cell_type": "code",
   "execution_count": 5,
   "metadata": {
    "collapsed": true
   },
   "outputs": [],
   "source": [
    "def read_corpus(reviews):\n",
    "    for i,doc in enumerate(reviews):\n",
    "        yield TaggedDocument(doc,[i])\n",
    "\n",
    "train_corpus = list(read_corpus(x_train))"
   ]
  },
  {
   "cell_type": "code",
   "execution_count": 6,
   "metadata": {},
   "outputs": [
    {
     "data": {
      "text/plain": [
       "74423963"
      ]
     },
     "execution_count": 6,
     "metadata": {},
     "output_type": "execute_result"
    }
   ],
   "source": [
    "cores = os.cpu_count()\n",
    "size = 200\n",
    "window = 5 \n",
    "iteration = 20 \n",
    "\n",
    "model = Doc2Vec(size=size, min_count=2, window = window,iter=iteration)\n",
    "model.build_vocab(train_corpus)\n",
    "model.train(train_corpus, total_examples=model.corpus_count, epochs=model.iter)\n",
    "\n",
    "## after you trained your model, you can train them again \n",
    "# model.train(train_corpus, total_examples=model.corpus_count, epochs=model.iter)"
   ]
  },
  {
   "cell_type": "code",
   "execution_count": 7,
   "metadata": {
    "collapsed": true
   },
   "outputs": [],
   "source": [
    "\n",
    "## save model \n",
    "if not os.path.exists(os.path.join(data_path,\"trained\")):\n",
    "    os.makedirs(os.path.join(data_path,\"trained\"))\n",
    "    model.save(os.path.join(data_path,'trained','imdb.d2v'))\n",
    "else:\n",
    "    model.save(os.path.join(data_path,'trained','imdb.d2v'))\n",
    "    model = Doc2Vec.load(os.path.join(data_path,'trained','imdb.d2v'))"
   ]
  },
  {
   "cell_type": "markdown",
   "metadata": {},
   "source": [
    "### look at some samples "
   ]
  },
  {
   "cell_type": "code",
   "execution_count": 12,
   "metadata": {
    "collapsed": true
   },
   "outputs": [],
   "source": [
    "model = Doc2Vec.load(os.path.join(data_path,'trained','imdb.d2v'))"
   ]
  },
  {
   "cell_type": "code",
   "execution_count": 13,
   "metadata": {
    "scrolled": true
   },
   "outputs": [
    {
     "data": {
      "text/plain": [
       "[(5059, 0.5437087416648865),\n",
       " (17694, 0.5340926647186279),\n",
       " (7922, 0.5043013095855713),\n",
       " (17374, 0.5001096129417419),\n",
       " (5473, 0.496317982673645),\n",
       " (9279, 0.4929776191711426),\n",
       " (12234, 0.4925103783607483),\n",
       " (10386, 0.4923815131187439),\n",
       " (262, 0.48916536569595337),\n",
       " (10065, 0.48846209049224854)]"
      ]
     },
     "execution_count": 13,
     "metadata": {},
     "output_type": "execute_result"
    }
   ],
   "source": [
    "model.docvecs.most_similar(positive=[1],topn=10)"
   ]
  },
  {
   "cell_type": "code",
   "execution_count": 14,
   "metadata": {},
   "outputs": [
    {
     "name": "stdout",
     "output_type": "stream",
     "text": [
      "i had the tv on for a white noise companion and heard\" $400 for a fully furnished apartment\" so i ran into the tv room expecting another 70's flick and got much more . luckily , i could rewind to the beginning ( dvr buffer ) and hit the record button to watch it entirely . ( cinemax uncut and in hd no less ! ) aside from some holes in the story and intermittent improbable dialog/events , this is an effective thriller worthy of your time to watch . pretty creepy and progressive at times : beverly d'angelo's character masturbates in front of alison parker , played adroitly by cristina raines , parker stabs , in very gory fashion , her father , an explicit menage a trios scene . ( don't let the kids watch ) the film is totally 70's full of bad clothes ( polyester suits and tacky ascots ) and decor , bad hair , over bloated music score , and familiar looking cinematography . the cast is excellent , take a second on this film's home page to check it out . it was a surprise to see christopher walken , jerry orbach and jeff goldblum so young . sylvia miles- always wonderfully creepy ! enjoy ! \n",
      "\n",
      "\n",
      "i loved this movie ! chris showerman did an amazing job ! not only is he an incredible actor , but he is gorgeous with an awesome physique ! he did a great job on the delivery of his lines , plus transformed into george better than fraser did . a great performance for his first major roll ! this movie is full of hilarious scenes that every child will love . my kids have watched this movie numerous times since we purchased the dvd the day it came out . in addition to the movie , the extras on the dvd are just as hilarious . two thumbs up on this one ! i highly recommend it to everyone !\n"
     ]
    }
   ],
   "source": [
    "print(' '.join(x[1]) , '\\n\\n')\n",
    "print(' '.join(x[4528]))"
   ]
  },
  {
   "cell_type": "code",
   "execution_count": 76,
   "metadata": {
    "scrolled": true
   },
   "outputs": [
    {
     "data": {
      "text/plain": [
       "(200,)"
      ]
     },
     "execution_count": 76,
     "metadata": {},
     "output_type": "execute_result"
    }
   ],
   "source": [
    "infer_review = 'This is obviously the best movie ever in my life !'\n",
    "infer_vec = model.infer_vector(infer_review.split())\n",
    "infer_vec.shape"
   ]
  },
  {
   "cell_type": "code",
   "execution_count": 77,
   "metadata": {},
   "outputs": [
    {
     "name": "stdout",
     "output_type": "stream",
     "text": [
      "This is obviously the best movie ever in my life ! \n",
      "\n",
      "\n",
      "this is essentially a variation on house of wax , in both the plot and the type of role played by the star of both movies , vincent price . in both pictures he plays a talented artist who is sent toppling over the edge into insanity when his creations are usurped by other , less talented and less scrupulous people . in this movie he plays a designer of illusions for stage magicians who aspires to set out on a performing career himself only to be frustrated when another illusionist , the great rinaldo ( john emery ) insists that he honour his contract and give him first choice of any illusions he designs . price is already ill disposed towards rinaldi as his former wife is now a paramour of rinaldi . he deploys his talents as an illusionist and as a brilliant mimic to avenge himself upon rinaldi and others who thwart his plans for recognition as a performer and a designer . price is pretty much the whole show here and gives a well judged star turn as a wronged man whose predicament earns audience sympathy . the rest of the cast are competent if colourless and the weight of the whole venture falls on price who carries the burden with ease . good solid b movie melodrama , this is a crime movie rather than a horror picture and is enjoyable providing you don't expect a masterpiece . shot in black and white it is low on gore and is best seen as melodrama and enjoyed for the presence of its star giving an idiosyncratic performance\n"
     ]
    }
   ],
   "source": [
    "most_sim_index = model.docvecs.most_similar([infer_vec],topn=10)[0][0]\n",
    "print(infer_review,'\\n\\n')\n",
    "print(' '.join(x[most_sim_index]))"
   ]
  },
  {
   "cell_type": "markdown",
   "metadata": {},
   "source": [
    "### Use document vector for sentiment analysis"
   ]
  },
  {
   "cell_type": "code",
   "execution_count": 78,
   "metadata": {
    "collapsed": true
   },
   "outputs": [],
   "source": [
    "#Get training set vectors from our models\n",
    "def getVecs(model, corpus, size):\n",
    "    vecs = [model.docvecs[z].reshape((1, size)) for z in range(len(x_train))]\n",
    "    return np.concatenate(vecs)"
   ]
  },
  {
   "cell_type": "code",
   "execution_count": 79,
   "metadata": {
    "collapsed": true
   },
   "outputs": [],
   "source": [
    "train_vecs_dm = getVecs(model,x_train,size)"
   ]
  },
  {
   "cell_type": "code",
   "execution_count": 80,
   "metadata": {},
   "outputs": [
    {
     "name": "stdout",
     "output_type": "stream",
     "text": [
      "Test Accuracy: 0.80\n"
     ]
    }
   ],
   "source": [
    "from sklearn.linear_model import SGDClassifier\n",
    "\n",
    "lr = SGDClassifier(loss='log', penalty='l1')\n",
    "lr.fit(train_vecs_dm,y_train )\n",
    "\n",
    "print ('Test Accuracy: %.2f'%lr.score(train_vecs_dm, y_train))"
   ]
  }
 ],
 "metadata": {
  "kernelspec": {
   "display_name": "Python 3",
   "language": "python",
   "name": "python3"
  },
  "language_info": {
   "codemirror_mode": {
    "name": "ipython",
    "version": 3
   },
   "file_extension": ".py",
   "mimetype": "text/x-python",
   "name": "python",
   "nbconvert_exporter": "python",
   "pygments_lexer": "ipython3",
   "version": "3.6.1"
  }
 },
 "nbformat": 4,
 "nbformat_minor": 2
}
