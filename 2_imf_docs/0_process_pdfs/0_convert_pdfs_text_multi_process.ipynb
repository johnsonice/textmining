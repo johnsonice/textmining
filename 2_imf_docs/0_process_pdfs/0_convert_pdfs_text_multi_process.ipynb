{
 "cells": [
  {
   "cell_type": "code",
   "execution_count": null,
   "metadata": {
    "collapsed": true
   },
   "outputs": [],
   "source": [
    "from pdfminer.pdfinterp import PDFResourceManager, PDFPageInterpreter\n",
    "from pdfminer.converter import HTMLConverter,TextConverter,XMLConverter\n",
    "from pdfminer.layout import LAParams\n",
    "from pdfminer.pdfpage import PDFPage\n",
    "from pdfminer.pdfdevice import PDFDevice, TagExtractor\n",
    "import io\n",
    "import os \n",
    "from functools import partial\n",
    "import multiprocessing\n",
    "from multiprocessing import Pool \n"
   ]
  },
  {
   "cell_type": "code",
   "execution_count": null,
   "metadata": {
    "collapsed": true
   },
   "outputs": [],
   "source": [
    "def convert(case,fname, pages=None):\n",
    "    if not pages:\n",
    "        pagenums = set();\n",
    "    else:\n",
    "        pagenums = set(pages);      \n",
    "    codec = 'utf-8'\n",
    "    caching = True\n",
    "    #laparams = LAParams()\n",
    "    laparams = None\n",
    "    #password = ''\n",
    "    #maxpages = 0\n",
    "    manager = PDFResourceManager(caching=caching) \n",
    "    if case == 'txt' :\n",
    "        output = io.StringIO()\n",
    "        converter = TextConverter(manager, output, codec=codec, laparams=laparams)     \n",
    "    if case == 'HTML' :\n",
    "        output = io.BytesIO()\n",
    "        converter = HTMLConverter(manager, output, codec=codec, laparams=laparams)\n",
    "        \n",
    "    interpreter = PDFPageInterpreter(manager, converter)   \n",
    "    infile = open(fname, 'rb')\n",
    "\n",
    "    for index,page in enumerate(PDFPage.get_pages(infile, pagenums,caching=caching, check_extractable=True)):\n",
    "        interpreter.process_page(page)\n",
    "\n",
    "    convertedPDF = output.getvalue()\n",
    "\n",
    "\n",
    "    infile.close();\n",
    "    converter.close();\n",
    "    output.close()\n",
    "    \n",
    "    return convertedPDF"
   ]
  },
  {
   "cell_type": "code",
   "execution_count": null,
   "metadata": {
    "collapsed": true
   },
   "outputs": [],
   "source": [
    "def check_pdf(f):\n",
    "    filename, file_extension = os.path.splitext(f)\n",
    "    if file_extension.lower() == '.pdf':\n",
    "        return filename\n",
    "    else:\n",
    "        return None\n",
    "    \n",
    "def check_make_dir(folder):\n",
    "    if not os.path.exists(folder):\n",
    "        os.makedirs(folder)        # If not create the directory, inside their home directory\n",
    "        return True"
   ]
  },
  {
   "cell_type": "code",
   "execution_count": null,
   "metadata": {
    "collapsed": true
   },
   "outputs": [],
   "source": [
    "#in_files = in_files[:10]\n",
    "\n",
    "def process_each_file(file):\n",
    "    index,f = file\n",
    "    in_file = os.path.join(in_path,f+'.pdf')\n",
    "    out_file = os.path.join(out_path,f+'.txt')\n",
    "    case = \"txt\"\n",
    "    try:\n",
    "        convertedPDF = convert(case, in_file)\n",
    "        fileConverted = open(out_file, \"w\",encoding=\"utf-8\")\n",
    "        fileConverted.write(convertedPDF)\n",
    "        fileConverted.close()\n",
    "    except:\n",
    "        print(\"failed: \",f)\n",
    "    \n",
    "    if int(index)%100 == 0: print('success:   ----   ',index)\n",
    "    #print(\"success: \",f)"
   ]
  },
  {
   "cell_type": "code",
   "execution_count": null,
   "metadata": {},
   "outputs": [],
   "source": [
    "if __name__ == '__main__':\n",
    "    test = False\n",
    "    ## read file names \n",
    "    in_path = '../Documents/'\n",
    "    out_path = '../txt_files_finished/'\n",
    "    in_files = os.listdir(in_path)\n",
    "    \n",
    "    ## check file exists\n",
    "    if len(in_files) == 0:\n",
    "           raise ValueError('could not find input files')\n",
    "    check_make_dir(out_path)\n",
    "    \n",
    "    ## read files\n",
    "    in_files = [check_pdf(f) for f in in_files]\n",
    "    in_files = [f for f in in_files if f is not None]\n",
    "    \n",
    "    ## see if we want to run a test first\n",
    "    if test == True: in_files = in_files[:100]\n",
    "        \n",
    "    ## multi processes it \n",
    "    num_cores = multiprocessing.cpu_count()\n",
    "    #multi process unpacking\n",
    "    p = Pool(num_cores)\n",
    "    partial_unpack = partial(process_each_file)\n",
    "    process_mp = p.map(partial_unpack,enumerate(in_files))\n",
    "    p.close()\n",
    "    p.join()\n",
    "    print('finish')"
   ]
  },
  {
   "cell_type": "code",
   "execution_count": null,
   "metadata": {
    "collapsed": true
   },
   "outputs": [],
   "source": []
  },
  {
   "cell_type": "code",
   "execution_count": null,
   "metadata": {
    "collapsed": true
   },
   "outputs": [],
   "source": []
  }
 ],
 "metadata": {
  "kernelspec": {
   "display_name": "Python 3",
   "language": "python",
   "name": "python3"
  },
  "language_info": {
   "codemirror_mode": {
    "name": "ipython",
    "version": 3
   },
   "file_extension": ".py",
   "mimetype": "text/x-python",
   "name": "python",
   "nbconvert_exporter": "python",
   "pygments_lexer": "ipython3",
   "version": "3.6.1"
  }
 },
 "nbformat": 4,
 "nbformat_minor": 2
}
