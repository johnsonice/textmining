{
 "cells": [
  {
   "cell_type": "markdown",
   "metadata": {},
   "source": [
    "Follow this blog post\n",
    "https://www.machinelearningplus.com/nlp/topic-modeling-gensim-python/"
   ]
  },
  {
   "cell_type": "code",
   "execution_count": 58,
   "metadata": {},
   "outputs": [],
   "source": [
    "from gensim import corpora, models \n",
    "import numpy as np\n",
    "import sys\n",
    "import os\n",
    "import gensim\n",
    "import pickle\n",
    "import nltk\n",
    "from collections import Counter\n",
    "import pyLDAvis\n",
    "import pyLDAvis.gensim  # don't skip this\n",
    "from gensim.models import CoherenceModel, LdaModel, LsiModel, HdpModel\n",
    "import matplotlib\n",
    "import matplotlib.pyplot as plt\n",
    "%matplotlib inline\n",
    "\n",
    "python_root = './scripts'\n",
    "sys.path.insert(0, python_root)"
   ]
  },
  {
   "cell_type": "markdown",
   "metadata": {},
   "source": [
    "#### Load data"
   ]
  },
  {
   "cell_type": "code",
   "execution_count": 2,
   "metadata": {
    "scrolled": true
   },
   "outputs": [],
   "source": [
    "paras = pickle.load(open('./data/processed_corpus.p', \"rb\")) "
   ]
  },
  {
   "cell_type": "code",
   "execution_count": 3,
   "metadata": {},
   "outputs": [
    {
     "name": "stdout",
     "output_type": "stream",
     "text": [
      "['1', 'as', 'a', 'small', 'open', 'tourism', 'base', 'economy', 'st._lucia', 'be', 'highly_vulnerable_to_exogenous_shock', 'tourism', 'account', 'for', 'over', 'three_quarter', 'of', 'export', 'and', 'the', 'import_content', 'of', 'both', 'consumption', 'and', 'foreign_direct_investment', 'fdi', 'be', 'very', 'high', 'figure_1', 'the', 'economy', 'have', 'be', 'buffet', 'by', 'the', 'global', 'economic', 'downturn', 'which', 'have', 'hobble', 'the', 'tourism', 'and', 'construction', 'sector', 'with', 'potential', 'spillover', 'to', 'the', 'financial', 'sector']\n"
     ]
    }
   ],
   "source": [
    "print(paras[0])"
   ]
  },
  {
   "cell_type": "markdown",
   "metadata": {},
   "source": [
    "#### Use Gensim for topic modeling"
   ]
  },
  {
   "cell_type": "code",
   "execution_count": 4,
   "metadata": {},
   "outputs": [],
   "source": [
    "## remove stop words \n",
    "norm_tokenized_corpus = paras\n",
    "stopword_list = nltk.corpus.stopwords.words('english')\n",
    "stopword_list.extend(['-PRON-','percent','’s','would','also',\n",
    "                      'year','continue','include','give','may','new',\n",
    "                      'however','well','help','since'])\n",
    "norm_tokenized_corpus = [[token for token in p if token not in stopword_list] for p in norm_tokenized_corpus]"
   ]
  },
  {
   "cell_type": "code",
   "execution_count": 5,
   "metadata": {},
   "outputs": [],
   "source": [
    "def _flatten(container):\n",
    "    for i in container:\n",
    "        if isinstance(i, (list,tuple)):\n",
    "            for j in _flatten(i):\n",
    "                yield j\n",
    "        else:\n",
    "            yield i"
   ]
  },
  {
   "cell_type": "code",
   "execution_count": 6,
   "metadata": {
    "scrolled": true
   },
   "outputs": [
    {
     "data": {
      "text/plain": [
       "[('authority', 118184),\n",
       " ('growth', 106963),\n",
       " ('fiscal', 106076),\n",
       " ('bank', 102460),\n",
       " ('sector', 98047),\n",
       " ('policy', 97760),\n",
       " ('gdp', 88619),\n",
       " ('increase', 84369),\n",
       " ('financial', 81209),\n",
       " ('government', 80711),\n",
       " ('reform', 77477),\n",
       " ('debt', 74619),\n",
       " ('public', 71985),\n",
       " ('rate', 69359),\n",
       " ('staff', 69139),\n",
       " ('high', 62180),\n",
       " ('remain', 58921),\n",
       " ('need', 57091),\n",
       " ('tax', 56207),\n",
       " ('program', 55408),\n",
       " ('external', 54081),\n",
       " ('economic', 52831),\n",
       " ('support', 52515),\n",
       " ('improve', 52027),\n",
       " ('market', 49549),\n",
       " ('risk', 46722),\n",
       " ('exchange', 46034),\n",
       " ('project', 45026),\n",
       " ('investment', 44747),\n",
       " ('revenue', 44276)]"
      ]
     },
     "execution_count": 6,
     "metadata": {},
     "output_type": "execute_result"
    }
   ],
   "source": [
    "words = list(_flatten(norm_tokenized_corpus))\n",
    "wc = Counter(words)\n",
    "wc.most_common(30)"
   ]
  },
  {
   "cell_type": "code",
   "execution_count": 7,
   "metadata": {},
   "outputs": [],
   "source": [
    "# build dictionary\n",
    "\n",
    "dictionary = corpora.Dictionary(norm_tokenized_corpus)\n",
    "dictionary.filter_extremes(no_below=5,no_above=0.5, keep_n=10000)\n",
    "\n",
    "\n",
    "# convert document into bow\n",
    "corpus_bow = [dictionary.doc2bow(text) for text in norm_tokenized_corpus]\n",
    "## comput tfidf feature vectors\n",
    "tfidf = models.TfidfModel(corpus_bow) # smartirs = 'atc' https://radimrehurek.com/gensim/models/tfidfmodel.html\n",
    "corpus_tfidf = tfidf[corpus_bow]"
   ]
  },
  {
   "cell_type": "code",
   "execution_count": 8,
   "metadata": {},
   "outputs": [],
   "source": [
    "dictionary_save_path = './data/dictionary.dict'\n",
    "dictionary.compactify()\n",
    "dictionary.save(dictionary_save_path)\n",
    "corpora.MmCorpus.serialize('./data/corpus_bow.mm', corpus_bow)\n",
    "corpora.MmCorpus.serialize('./data/corpus_tfidf.mm', corpus_tfidf)"
   ]
  },
  {
   "cell_type": "code",
   "execution_count": 9,
   "metadata": {},
   "outputs": [
    {
     "data": {
      "text/plain": [
       "10000"
      ]
     },
     "execution_count": 9,
     "metadata": {},
     "output_type": "execute_result"
    }
   ],
   "source": [
    "len(dictionary)"
   ]
  },
  {
   "cell_type": "code",
   "execution_count": 10,
   "metadata": {},
   "outputs": [],
   "source": [
    "## a better way to print \n",
    "def print_topics_gensim(topic_model, total_topics=1,\n",
    "                        weight_threshold=0.0001,\n",
    "                        display_weights=False,\n",
    "                        num_terms=None):\n",
    "    \n",
    "    for index in range(total_topics):\n",
    "        topic = topic_model.show_topic(index,topn=num_terms)\n",
    "        topic = [(word, round(wt,4)) \n",
    "                 for word, wt in topic \n",
    "                 if abs(wt) >= weight_threshold]\n",
    "        if display_weights:\n",
    "            print('Topic #'+str(index+1)+' with weights')\n",
    "            print (topic[:num_terms] if num_terms else topic)\n",
    "        else:\n",
    "            print ('Topic #'+str(index+1)+' without weights')\n",
    "            tw = [term for term, wt in topic]\n",
    "            print (tw[:num_terms] if num_terms else tw)\n",
    "        print"
   ]
  },
  {
   "cell_type": "markdown",
   "metadata": {},
   "source": [
    "####  Latent Dirichlet Allocation"
   ]
  },
  {
   "cell_type": "code",
   "execution_count": 74,
   "metadata": {},
   "outputs": [],
   "source": [
    "total_topics = 15"
   ]
  },
  {
   "cell_type": "code",
   "execution_count": 75,
   "metadata": {},
   "outputs": [],
   "source": [
    "lda = LdaModel(corpus = corpus_bow[:50000],\n",
    "                          id2word = dictionary,\n",
    "                          iterations = 1000,\n",
    "                          num_topics = total_topics,\n",
    "                          alpha='auto',\n",
    "                          eta = 'auto')#,\n",
    "                          #workers = 20) #"
   ]
  },
  {
   "cell_type": "code",
   "execution_count": 76,
   "metadata": {
    "scrolled": true
   },
   "outputs": [
    {
     "name": "stdout",
     "output_type": "stream",
     "text": [
      "Topic #1 with weights\n",
      "[('debt', 0.0563), ('external', 0.0322), ('fiscal', 0.0201), ('growth', 0.013), ('policy', 0.0129), ('remain', 0.0123), ('medium_term', 0.0114), ('public', 0.0113), ('risk', 0.0108), ('high', 0.0099), ('rate', 0.0094), ('level', 0.0089), ('ratio', 0.0087), ('need', 0.0078), ('adjustment', 0.0074)]\n",
      "Topic #2 with weights\n",
      "[('bank', 0.1005), ('sector', 0.0304), ('credit', 0.0293), ('loan', 0.0219), ('capital', 0.0209), ('asset', 0.0201), ('lending', 0.0161), ('banking', 0.0153), ('deposit', 0.0141), ('financial', 0.0115), ('banking_system', 0.0109), ('private', 0.01), ('commercial', 0.0098), ('banks’', 0.0092), ('large', 0.0091)]\n",
      "Topic #3 with weights\n",
      "[('risk', 0.0334), ('financial', 0.031), ('could', 0.021), ('market', 0.0157), ('global', 0.015), ('crisis', 0.0143), ('large', 0.0122), ('u.s.', 0.0088), ('euro_area', 0.0087), ('low', 0.0085), ('growth', 0.0083), ('exposure', 0.008), ('economy', 0.008), ('potential', 0.0076), ('high', 0.0076)]\n",
      "Topic #4 with weights\n",
      "[('growth', 0.0521), ('gdp', 0.0164), ('economic', 0.0123), ('project', 0.0121), ('expect', 0.0109), ('decline', 0.0108), ('investment', 0.0108), ('real', 0.0098), ('average', 0.0098), ('increase', 0.0096), ('economy', 0.0084), ('activity', 0.0082), ('sector', 0.0082), ('export', 0.008), ('remain', 0.008)]\n",
      "Topic #5 with weights\n",
      "[('reform', 0.041), ('support', 0.022), ('program', 0.0213), ('sector', 0.0209), ('growth', 0.0193), ('structural', 0.0172), ('authority', 0.017), ('economic', 0.0168), ('policy', 0.0154), ('improve', 0.0134), ('development', 0.0121), ('need', 0.0104), ('implementation', 0.0098), ('private', 0.0094), ('effort', 0.0093)]\n",
      "Topic #6 with weights\n",
      "[('exchange', 0.0315), ('million', 0.0195), ('rate', 0.0179), ('foreign', 0.0174), ('us$', 0.0157), ('fund', 0.0122), ('billion', 0.0121), ('arrangement', 0.0111), ('program', 0.0106), ('payment', 0.01), ('$', 0.0099), ('approve', 0.008), ('amount', 0.0068), ('end', 0.0065), ('bank', 0.0063)]\n",
      "Topic #7 with weights\n",
      "[('policy', 0.0307), ('monetary', 0.0215), ('market', 0.0197), ('rate', 0.0171), ('interest_rate', 0.0099), ('authority', 0.0095), ('inflation', 0.0091), ('bank', 0.0087), ('staff', 0.0079), ('exchange', 0.0073), ('need', 0.0071), ('target', 0.0066), ('liquidity', 0.0063), ('increase', 0.0059), ('risk', 0.0058)]\n",
      "Topic #8 with weights\n",
      "[('trade', 0.0205), ('wage', 0.0168), ('sector', 0.0146), ('export', 0.0145), ('country', 0.0143), ('cost', 0.0137), ('productivity', 0.0132), ('increase', 0.012), ('eu', 0.0115), ('competitiveness', 0.0108), ('market', 0.0106), ('competition', 0.0099), ('product', 0.0087), ('investment', 0.0084), ('labor', 0.0084)]\n",
      "Topic #9 with weights\n",
      "[('authority', 0.0231), ('financial', 0.0226), ('management', 0.0152), ('government', 0.0148), ('strengthen', 0.0142), ('improve', 0.0126), ('framework', 0.0104), ('bank', 0.0103), ('sector', 0.0088), ('system', 0.0084), ('public', 0.0084), ('law', 0.0084), ('fund', 0.0082), ('make', 0.0074), ('progress', 0.0068)]\n",
      "Topic #10 with weights\n",
      "[('pension', 0.0208), ('benefit', 0.0167), ('reform', 0.0152), ('increase', 0.014), ('labor_market', 0.0135), ('labor', 0.013), ('social', 0.0124), ('employment', 0.0123), ('system', 0.0116), ('high', 0.011), ('reduce', 0.0105), ('service', 0.01), ('unemployment', 0.01), ('education', 0.0093), ('work', 0.009)]\n",
      "Topic #11 with weights\n",
      "[('tax', 0.0385), ('authority', 0.0269), ('fiscal', 0.0257), ('revenue', 0.0187), ('expenditure', 0.0154), ('measure', 0.0153), ('staff', 0.0142), ('reform', 0.0138), ('budget', 0.0131), ('spending', 0.0113), ('public', 0.0104), ('need', 0.0102), ('program', 0.0089), ('reduce', 0.0085), ('target', 0.0081)]\n",
      "Topic #12 with weights\n",
      "[('price', 0.0323), ('inflation', 0.0226), ('oil', 0.0179), ('increase', 0.0144), ('import', 0.0143), ('rate', 0.0141), ('high', 0.0127), ('remain', 0.0114), ('decline', 0.0108), ('external', 0.0105), ('rise', 0.0104), ('expect', 0.0101), ('export', 0.01), ('food', 0.0075), ('low', 0.0074)]\n",
      "Topic #13 with weights\n",
      "[('bank', 0.0205), ('sector', 0.0164), ('financial', 0.0154), ('loan', 0.0132), ('country', 0.0128), ('world', 0.0116), ('million', 0.0094), ('provide', 0.0087), ('access', 0.008), ('base', 0.0078), ('total', 0.0078), ('large', 0.0075), ('use', 0.0075), ('resource', 0.0074), ('regional', 0.007)]\n",
      "Topic #14 with weights\n",
      "[('report', 0.0281), ('datum', 0.0248), ('staff', 0.0205), ('imf', 0.0163), ('country', 0.0125), ('policy', 0.0119), ('italy', 0.0114), ('statistic', 0.0108), ('article_iv_consultation', 0.0105), ('assessment', 0.0103), ('economic', 0.0102), ('executive_board', 0.01), ('monetary', 0.0096), ('development', 0.0091), ('follow', 0.0089)]\n",
      "Topic #15 with weights\n",
      "[('gdp', 0.0552), ('fiscal', 0.0382), ('deficit', 0.0251), ('government', 0.0247), ('budget', 0.0187), ('revenue', 0.0163), ('project', 0.0158), ('spending', 0.0136), ('increase', 0.0135), ('expenditure', 0.0134), ('public', 0.0129), ('debt', 0.0102), ('target', 0.0094), ('expect', 0.0093), ('finance', 0.0073)]\n"
     ]
    }
   ],
   "source": [
    "print_topics_gensim(topic_model=lda,\n",
    "                   total_topics = total_topics,\n",
    "                   num_terms=15,\n",
    "                   display_weights=True) "
   ]
  },
  {
   "cell_type": "code",
   "execution_count": 77,
   "metadata": {},
   "outputs": [
    {
     "name": "stdout",
     "output_type": "stream",
     "text": [
      "\n",
      "Perplexity:  -8.456319842134414\n"
     ]
    }
   ],
   "source": [
    "# Compute Perplexity\n",
    "print('\\nPerplexity: ', lda.log_perplexity(corpus_bow[:2000]))  # a measure of how good the model is. lower the better."
   ]
  },
  {
   "cell_type": "code",
   "execution_count": 78,
   "metadata": {},
   "outputs": [
    {
     "name": "stdout",
     "output_type": "stream",
     "text": [
      "\n",
      "Coherence Score:  0.5116850443502253\n"
     ]
    }
   ],
   "source": [
    "# Compute Coherence Score\n",
    "coherence_model_lda = CoherenceModel(model=lda, texts=norm_tokenized_corpus[:10000], dictionary=dictionary, coherence='c_v')\n",
    "coherence_lda = coherence_model_lda.get_coherence()\n",
    "print('\\nCoherence Score: ', coherence_lda)"
   ]
  },
  {
   "cell_type": "markdown",
   "metadata": {},
   "source": [
    "#### Topic modeling with HDP"
   ]
  },
  {
   "cell_type": "code",
   "execution_count": 59,
   "metadata": {},
   "outputs": [],
   "source": [
    "hdpmodel = HdpModel(corpus = corpus_bow[:50000],id2word = dictionary)"
   ]
  },
  {
   "cell_type": "code",
   "execution_count": 60,
   "metadata": {
    "collapsed": true
   },
   "outputs": [
    {
     "data": {
      "text/plain": [
       "[(0,\n",
       "  '0.010*fiscal + 0.009*authority + 0.008*bank + 0.008*growth + 0.008*gdp + 0.007*sector + 0.007*policy + 0.007*increase + 0.007*government + 0.006*public + 0.006*financial + 0.006*debt + 0.006*reform + 0.006*staff + 0.005*tax + 0.005*high + 0.005*need + 0.005*rate + 0.004*remain + 0.004*risk'),\n",
       " (1,\n",
       "  '0.011*authority + 0.008*fiscal + 0.008*bank + 0.008*government + 0.008*sector + 0.007*reform + 0.006*public + 0.006*policy + 0.006*financial + 0.006*growth + 0.006*gdp + 0.006*tax + 0.006*increase + 0.005*program + 0.005*staff + 0.005*debt + 0.005*support + 0.005*improve + 0.005*need + 0.004*budget'),\n",
       " (2,\n",
       "  '0.011*growth + 0.008*rate + 0.008*bank + 0.008*gdp + 0.008*increase + 0.007*policy + 0.007*sector + 0.006*authority + 0.006*fiscal + 0.006*high + 0.006*debt + 0.006*remain + 0.006*market + 0.006*inflation + 0.005*financial + 0.005*exchange + 0.005*external + 0.005*low + 0.004*price + 0.004*staff'),\n",
       " (3,\n",
       "  '0.009*growth + 0.009*authority + 0.008*fiscal + 0.007*policy + 0.007*bank + 0.007*sector + 0.006*increase + 0.006*gdp + 0.006*reform + 0.006*financial + 0.006*government + 0.005*rate + 0.005*debt + 0.005*public + 0.005*high + 0.005*staff + 0.004*remain + 0.004*need + 0.004*market + 0.004*tax'),\n",
       " (4,\n",
       "  '0.008*authority + 0.008*growth + 0.007*bank + 0.007*policy + 0.007*sector + 0.007*fiscal + 0.006*financial + 0.006*reform + 0.006*increase + 0.005*government + 0.005*gdp + 0.005*debt + 0.005*rate + 0.004*public + 0.004*high + 0.004*staff + 0.004*remain + 0.004*market + 0.004*need + 0.004*economic'),\n",
       " (5,\n",
       "  '0.009*growth + 0.008*authority + 0.007*bank + 0.007*policy + 0.007*fiscal + 0.007*sector + 0.006*financial + 0.006*increase + 0.005*reform + 0.005*government + 0.005*gdp + 0.005*rate + 0.005*debt + 0.005*high + 0.005*staff + 0.004*public + 0.004*remain + 0.004*market + 0.004*economic + 0.004*need'),\n",
       " (6,\n",
       "  '0.007*authority + 0.006*bank + 0.006*policy + 0.006*fiscal + 0.006*growth + 0.006*sector + 0.005*financial + 0.005*reform + 0.005*government + 0.004*increase + 0.004*debt + 0.004*public + 0.004*gdp + 0.004*rate + 0.004*staff + 0.004*program + 0.003*need + 0.003*support + 0.003*high + 0.003*remain'),\n",
       " (7,\n",
       "  '0.007*authority + 0.006*bank + 0.005*growth + 0.005*policy + 0.005*sector + 0.005*financial + 0.005*fiscal + 0.005*reform + 0.004*government + 0.004*increase + 0.004*rate + 0.004*staff + 0.004*debt + 0.003*gdp + 0.003*public + 0.003*program + 0.003*need + 0.003*support + 0.003*high + 0.003*economic'),\n",
       " (8,\n",
       "  '0.007*authority + 0.006*growth + 0.005*bank + 0.005*policy + 0.005*sector + 0.005*fiscal + 0.005*reform + 0.004*financial + 0.004*government + 0.004*increase + 0.004*rate + 0.004*debt + 0.004*staff + 0.003*gdp + 0.003*public + 0.003*program + 0.003*high + 0.003*remain + 0.003*economic + 0.003*improve'),\n",
       " (9,\n",
       "  '0.006*authority + 0.006*growth + 0.005*policy + 0.005*fiscal + 0.004*bank + 0.004*sector + 0.004*reform + 0.004*financial + 0.004*increase + 0.004*rate + 0.004*government + 0.003*gdp + 0.003*debt + 0.003*economic + 0.003*staff + 0.003*high + 0.003*public + 0.003*need + 0.003*remain + 0.003*program'),\n",
       " (10,\n",
       "  '0.006*growth + 0.005*bank + 0.005*authority + 0.005*policy + 0.004*sector + 0.004*fiscal + 0.004*financial + 0.004*rate + 0.004*gdp + 0.004*increase + 0.003*debt + 0.003*government + 0.003*staff + 0.003*reform + 0.003*high + 0.003*remain + 0.003*external + 0.003*economic + 0.003*exchange + 0.003*market'),\n",
       " (11,\n",
       "  '0.016*imf + 0.014*member_country + 0.014*development + 0.013*policy + 0.013*board_discussion + 0.013*issue_after_executive + 0.012*article_iv_consultation + 0.010*executive_board + 0.009*economic + 0.009*country + 0.009*program + 0.008*view + 0.008*public_information_notices + 0.007*level + 0.007*long_term + 0.007*consent + 0.007*regional + 0.007*analysis + 0.007*surveillance + 0.007*monitoring'),\n",
       " (12,\n",
       "  '0.005*growth + 0.005*authority + 0.004*policy + 0.004*fiscal + 0.004*bank + 0.004*sector + 0.004*reform + 0.004*financial + 0.003*gdp + 0.003*government + 0.003*increase + 0.003*debt + 0.003*rate + 0.003*staff + 0.003*high + 0.003*remain + 0.003*economic + 0.003*public + 0.003*external + 0.002*program'),\n",
       " (13,\n",
       "  '0.005*authority + 0.005*growth + 0.004*sector + 0.004*policy + 0.004*bank + 0.004*financial + 0.004*reform + 0.004*fiscal + 0.003*government + 0.003*increase + 0.003*rate + 0.003*market + 0.003*economic + 0.003*gdp + 0.003*staff + 0.002*high + 0.002*remain + 0.002*economy + 0.002*debt + 0.002*program'),\n",
       " (14,\n",
       "  '0.005*authority + 0.004*growth + 0.004*policy + 0.004*financial + 0.004*sector + 0.004*reform + 0.004*bank + 0.004*fiscal + 0.003*government + 0.003*economic + 0.003*program + 0.002*staff + 0.002*increase + 0.002*public + 0.002*debt + 0.002*support + 0.002*rate + 0.002*improve + 0.002*need + 0.002*remain'),\n",
       " (15,\n",
       "  '0.005*authority + 0.004*bank + 0.004*sector + 0.004*financial + 0.003*policy + 0.003*growth + 0.003*fiscal + 0.003*reform + 0.003*government + 0.003*staff + 0.002*program + 0.002*public + 0.002*economic + 0.002*increase + 0.002*debt + 0.002*gdp + 0.002*improve + 0.002*remain + 0.002*support + 0.002*need'),\n",
       " (16,\n",
       "  '0.004*authority + 0.003*policy + 0.003*fiscal + 0.003*growth + 0.003*gdp + 0.003*bank + 0.003*sector + 0.003*financial + 0.003*reform + 0.002*government + 0.002*debt + 0.002*increase + 0.002*staff + 0.002*economic + 0.002*public + 0.002*program + 0.002*rate + 0.002*high + 0.002*remain + 0.002*monetary'),\n",
       " (17,\n",
       "  '0.004*authority + 0.003*bank + 0.003*government + 0.003*policy + 0.003*growth + 0.003*fiscal + 0.003*sector + 0.003*financial + 0.002*reform + 0.002*increase + 0.002*staff + 0.002*debt + 0.002*gdp + 0.002*program + 0.002*economic + 0.002*public + 0.002*remain + 0.002*support + 0.002*fund + 0.002*high'),\n",
       " (18,\n",
       "  '0.004*authority + 0.003*policy + 0.003*growth + 0.003*sector + 0.003*bank + 0.002*reform + 0.002*financial + 0.002*program + 0.002*fiscal + 0.002*economic + 0.002*government + 0.002*staff + 0.002*debt + 0.002*public + 0.002*fund + 0.002*external + 0.002*increase + 0.002*support + 0.002*rate + 0.001*remain'),\n",
       " (19,\n",
       "  '0.003*authority + 0.003*growth + 0.002*bank + 0.002*fiscal + 0.002*policy + 0.002*sector + 0.002*increase + 0.002*gdp + 0.002*financial + 0.002*government + 0.002*reform + 0.002*debt + 0.002*rate + 0.002*staff + 0.002*program + 0.001*remain + 0.001*exchange + 0.001*public + 0.001*economic + 0.001*high')]"
      ]
     },
     "execution_count": 60,
     "metadata": {},
     "output_type": "execute_result"
    }
   ],
   "source": [
    "hdpmodel.show_topics()"
   ]
  },
  {
   "cell_type": "markdown",
   "metadata": {},
   "source": [
    "### LSI"
   ]
  },
  {
   "cell_type": "code",
   "execution_count": 64,
   "metadata": {},
   "outputs": [],
   "source": [
    "lsimodel = LsiModel(corpus = corpus_bow[:50000],id2word = dictionary,num_topics=10)"
   ]
  },
  {
   "cell_type": "code",
   "execution_count": 65,
   "metadata": {
    "scrolled": true
   },
   "outputs": [
    {
     "data": {
      "text/plain": [
       "[(0,\n",
       "  '0.225*\"fiscal\" + 0.217*\"authority\" + 0.209*\"bank\" + 0.208*\"growth\" + 0.193*\"gdp\" + 0.185*\"sector\" + 0.176*\"policy\" + 0.167*\"increase\" + 0.164*\"government\" + 0.157*\"debt\"'),\n",
       " (1,\n",
       "  '-0.576*\"bank\" + 0.355*\"gdp\" + 0.283*\"fiscal\" + -0.264*\"financial\" + 0.172*\"debt\" + -0.161*\"sector\" + 0.139*\"revenue\" + 0.132*\"growth\" + 0.130*\"deficit\" + 0.128*\"tax\"'),\n",
       " (2,\n",
       "  '0.351*\"growth\" + -0.269*\"tax\" + -0.248*\"authority\" + -0.233*\"reform\" + -0.225*\"fiscal\" + 0.211*\"rate\" + -0.176*\"government\" + 0.160*\"inflation\" + -0.135*\"revenue\" + 0.135*\"exchange\"'),\n",
       " (3,\n",
       "  '0.401*\"debt\" + -0.388*\"policy\" + 0.325*\"bank\" + 0.298*\"gdp\" + -0.289*\"rate\" + -0.189*\"exchange\" + -0.189*\"inflation\" + -0.189*\"monetary\" + -0.167*\"growth\" + 0.148*\"public\"'),\n",
       " (4,\n",
       "  '-0.447*\"growth\" + -0.349*\"sector\" + 0.273*\"rate\" + 0.263*\"exchange\" + -0.260*\"reform\" + 0.223*\"bank\" + 0.198*\"fiscal\" + 0.196*\"policy\" + 0.181*\"debt\" + 0.149*\"monetary\"'),\n",
       " (5,\n",
       "  '-0.465*\"debt\" + 0.458*\"tax\" + -0.283*\"fiscal\" + -0.282*\"policy\" + 0.190*\"increase\" + 0.188*\"revenue\" + 0.179*\"rate\" + 0.172*\"gdp\" + -0.151*\"external\" + 0.140*\"bank\"'),\n",
       " (6,\n",
       "  '0.435*\"fiscal\" + -0.414*\"debt\" + 0.354*\"bank\" + -0.244*\"rate\" + -0.238*\"authority\" + -0.229*\"exchange\" + -0.185*\"tax\" + 0.177*\"policy\" + 0.170*\"growth\" + -0.158*\"external\"'),\n",
       " (7,\n",
       "  '0.589*\"authority\" + 0.345*\"staff\" + -0.284*\"sector\" + -0.245*\"public\" + -0.244*\"reform\" + -0.223*\"rate\" + -0.186*\"government\" + -0.182*\"policy\" + -0.178*\"exchange\" + 0.144*\"growth\"'),\n",
       " (8,\n",
       "  '-0.445*\"tax\" + 0.332*\"government\" + -0.230*\"fiscal\" + 0.222*\"program\" + -0.203*\"debt\" + 0.184*\"project\" + -0.180*\"risk\" + 0.169*\"authority\" + -0.168*\"bank\" + -0.150*\"growth\"'),\n",
       " (9,\n",
       "  '-0.525*\"financial\" + -0.351*\"sector\" + 0.308*\"bank\" + 0.251*\"reform\" + 0.248*\"growth\" + -0.208*\"fiscal\" + 0.197*\"program\" + 0.192*\"debt\" + -0.170*\"market\" + 0.153*\"support\"')]"
      ]
     },
     "execution_count": 65,
     "metadata": {},
     "output_type": "execute_result"
    }
   ],
   "source": [
    "lsimodel.show_topics()"
   ]
  },
  {
   "cell_type": "code",
   "execution_count": null,
   "metadata": {},
   "outputs": [],
   "source": []
  },
  {
   "cell_type": "code",
   "execution_count": 66,
   "metadata": {},
   "outputs": [],
   "source": [
    "def ret_top_model():\n",
    "    \"\"\"\n",
    "    Since LDAmodel is a probabilistic model, it comes up different topics each time we run it. To control the\n",
    "    quality of the topic model we produce, we can see what the interpretability of the best topic is and keep\n",
    "    evaluating the topic model until this threshold is crossed. \n",
    "    \n",
    "    Returns:\n",
    "    -------\n",
    "    lm: Final evaluated topic model\n",
    "    top_topics: ranked topics in decreasing order. List of tuples\n",
    "    \"\"\"\n",
    "    top_topics = [(0, 0)]\n",
    "    while top_topics[0][1] < 0.97:\n",
    "        lm = LdaModel(corpus=corpus_bow[:10000], id2word=dictionary)\n",
    "        coherence_values = {}\n",
    "        for n, topic in lm.show_topics(num_topics=-1, formatted=False):\n",
    "            topic = [word for word, _ in topic]\n",
    "            cm = CoherenceModel(topics=[topic], texts=norm_tokenized_corpus[:10000], dictionary=dictionary, window_size=10)\n",
    "            coherence_values[n] = cm.get_coherence()\n",
    "        top_topics = sorted(coherence_values.items(), key=operator.itemgetter(1), reverse=True)\n",
    "    return lm, top_topics"
   ]
  },
  {
   "cell_type": "code",
   "execution_count": 79,
   "metadata": {},
   "outputs": [],
   "source": [
    "#lm, top_topics = ret_top_model()"
   ]
  },
  {
   "cell_type": "code",
   "execution_count": null,
   "metadata": {},
   "outputs": [],
   "source": [
    "#lda_lsi_topics = [[word for word, prob in lm.show_topic(topicid)] for topicid, c_v in top_topics]"
   ]
  },
  {
   "cell_type": "code",
   "execution_count": null,
   "metadata": {},
   "outputs": [],
   "source": []
  },
  {
   "cell_type": "code",
   "execution_count": null,
   "metadata": {},
   "outputs": [],
   "source": []
  },
  {
   "cell_type": "code",
   "execution_count": null,
   "metadata": {},
   "outputs": [],
   "source": []
  },
  {
   "cell_type": "markdown",
   "metadata": {},
   "source": [
    "### Tuning"
   ]
  },
  {
   "cell_type": "code",
   "execution_count": 85,
   "metadata": {},
   "outputs": [],
   "source": [
    "def compute_coherence_values(dictionary, corpus, texts, limit, start=2, step=2):\n",
    "    \"\"\"\n",
    "    Compute c_v coherence for various number of topics\n",
    "\n",
    "    Parameters:\n",
    "    ----------\n",
    "    dictionary : Gensim dictionary\n",
    "    corpus : Gensim corpus\n",
    "    texts : List of input texts\n",
    "    limit : Max num of topics\n",
    "\n",
    "    Returns:\n",
    "    -------\n",
    "    model_list : List of LDA topic models\n",
    "    coherence_values : Coherence values corresponding to the LDA model with respective number of topics\n",
    "    \"\"\"\n",
    "    coherence_values = []\n",
    "    model_list = []\n",
    "    n_topics = []\n",
    "    for num_topics in range(start, limit, step):\n",
    "        model = LdaModel(corpus = corpus,\n",
    "                          id2word = dictionary,\n",
    "                          random_state = 2,\n",
    "                          iterations = 1000,\n",
    "                          alpha='auto',\n",
    "                          eta = 'auto',\n",
    "                          num_topics = num_topics)#\n",
    "                          #distributed = True)  # alpha='auto' is not implenented in distributed lda\n",
    "        model_list.append(model)\n",
    "        coherencemodel = CoherenceModel(model=model, texts=texts, dictionary=dictionary, coherence='c_v')\n",
    "        coherence_values.append(coherencemodel.get_coherence())\n",
    "        n_topics.append(num_topics)\n",
    "        print(\"{}: {}\".format(num_topics,coherence_values[-1]))\n",
    "    \n",
    "    return model_list, coherence_values,n_topics"
   ]
  },
  {
   "cell_type": "code",
   "execution_count": 86,
   "metadata": {},
   "outputs": [
    {
     "name": "stdout",
     "output_type": "stream",
     "text": [
      "10: 0.5651202710317885\n",
      "11: 0.5101751593017277\n",
      "12: 0.5270874563587479\n",
      "13: 0.5497878274081809\n",
      "14: 0.5006988231615377\n",
      "15: 0.536604341579853\n"
     ]
    },
    {
     "name": "stderr",
     "output_type": "stream",
     "text": [
      "D:\\data\\chengyu\\basics\\lib\\site-packages\\gensim\\models\\ldamodel.py:1023: RuntimeWarning: divide by zero encountered in log\n",
      "  diff = np.log(self.expElogbeta)\n"
     ]
    },
    {
     "name": "stdout",
     "output_type": "stream",
     "text": [
      "16: 0.4708893421810166\n",
      "17: 0.4791532337170863\n",
      "18: 0.5010195178421253\n",
      "19: 0.5038242649229452\n",
      "20: 0.48030501473535214\n",
      "21: 0.4284079654996303\n",
      "22: 0.43929762783279974\n",
      "23: 0.4673008315383284\n",
      "24: 0.46313140795082824\n",
      "25: 0.4423992142526373\n",
      "26: 0.45593162957824085\n",
      "27: 0.43538970919351133\n",
      "28: 0.42189859944348174\n",
      "29: 0.46111281140590105\n"
     ]
    }
   ],
   "source": [
    "# Can take a long time to run.\n",
    "model_list, coherence_values,n_topics = compute_coherence_values(dictionary=dictionary, corpus=corpus_tfidf,\n",
    "                                                        texts=norm_tokenized_corpus, start=10, limit=30, step=1)"
   ]
  },
  {
   "cell_type": "code",
   "execution_count": 87,
   "metadata": {
    "scrolled": true
   },
   "outputs": [
    {
     "data": {
      "image/png": "[encoded data removed]",
      "text/plain": [
       "<Figure size 432x288 with 1 Axes>"
      ]
     },
     "metadata": {},
     "output_type": "display_data"
    }
   ],
   "source": [
    "plt.plot(n_topics, coherence_values)\n",
    "plt.show()"
   ]
  },
  {
   "cell_type": "code",
   "execution_count": 88,
   "metadata": {},
   "outputs": [],
   "source": [
    "best_model = model_list[np.argmax(coherence_values)]"
   ]
  },
  {
   "cell_type": "code",
   "execution_count": 90,
   "metadata": {},
   "outputs": [],
   "source": [
    "## get number of topics for the model \n",
    "n_topics = best_model.get_topics().shape[0]"
   ]
  },
  {
   "cell_type": "code",
   "execution_count": 91,
   "metadata": {},
   "outputs": [
    {
     "name": "stdout",
     "output_type": "stream",
     "text": [
      "Topic #1 with weights\n",
      "[('bank', 0.0211), ('credit', 0.0189), ('risk', 0.013), ('loan', 0.0126), ('asset', 0.0113), ('liquidity', 0.011), ('deposit', 0.0103), ('banking_system', 0.01), ('market', 0.0094), ('banking', 0.0093)]\n",
      "Topic #2 with weights\n",
      "[('gdp', 0.0122), ('debt', 0.012), ('fiscal', 0.0099), ('revenue', 0.0072), ('project', 0.0068), ('deficit', 0.0067), ('budget', 0.0066), ('increase', 0.0061), ('spending', 0.0061), ('expenditure', 0.0058)]\n",
      "Topic #3 with weights\n",
      "[('ii_general_resources', 0.0295), ('lebanon', 0.0234), ('sta', 0.0169), ('npv', 0.0149), ('lesotho', 0.014), ('psi', 0.0115), ('license', 0.0107), ('hipc_initiative_not_applicable', 0.0104), ('swaziland', 0.0095), ('x._exchange', 0.0086)]\n",
      "Topic #4 with weights\n",
      "[('fund_imf_conclude', 0.0432), ('article_iv_consultation', 0.031), ('board_discussion', 0.0266), ('issue_after_executive', 0.0235), ('executive_board', 0.0234), ('member_country', 0.0217), ('consent', 0.0135), ('fx', 0.0131), ('ex_post_assessment', 0.0127), ('effort_to_promote_transparency', 0.0118)]\n",
      "Topic #5 with weights\n",
      "[('next_article_iv_consultation', 0.0483), ('standard_12-month_cycle', 0.036), ('this_background', 0.017), ('pakistan', 0.0164), ('take_place', 0.0149), ('structural_conditionality', 0.0121), ('hold', 0.0112), ('managing_director', 0.01), ('long_stand', 0.0099), ('membership_status', 0.0091)]\n",
      "Topic #6 with weights\n",
      "[('report', 0.0134), ('arrangement', 0.0133), ('imf', 0.0115), ('executive_board', 0.0091), ('article_iv_consultation', 0.0084), ('assessment', 0.0084), ('discussion', 0.0073), ('request', 0.0073), ('complete', 0.0072), ('review', 0.0068)]\n",
      "Topic #7 with weights\n",
      "[('reform', 0.0081), ('authority', 0.0078), ('sector', 0.0076), ('financial', 0.0064), ('policy', 0.0062), ('improve', 0.0058), ('tax', 0.0058), ('need', 0.0057), ('support', 0.0053), ('strengthen', 0.0049)]\n",
      "Topic #8 with weights\n",
      "[('growth', 0.0152), ('rate', 0.0148), ('exchange', 0.0129), ('inflation', 0.012), ('price', 0.0104), ('export', 0.0087), ('remain', 0.0077), ('strong', 0.0071), ('economy', 0.0069), ('external', 0.0068)]\n",
      "Topic #9 with weights\n",
      "[('resident_representative', 0.0271), ('mr.', 0.0191), ('yemen', 0.0183), ('drought', 0.0155), ('vietnam', 0.0108), ('hiv_aids', 0.0106), ('tonga', 0.0096), ('reliable', 0.0095), ('branch', 0.0094), ('devaluation', 0.0089)]\n",
      "Topic #10 with weights\n",
      "[('datum', 0.0485), ('statistic', 0.0396), ('sdr', 0.0343), ('national_account', 0.0212), ('iii_sdr_department', 0.0182), ('statistical', 0.0123), ('compile', 0.0119), ('present_holding', 0.0117), ('timeliness', 0.0114), ('iceland', 0.0106)]\n"
     ]
    }
   ],
   "source": [
    "print_topics_gensim(topic_model=best_model,\n",
    "                   total_topics = n_topics,\n",
    "                   num_terms=10,\n",
    "                   display_weights=True) "
   ]
  },
  {
   "cell_type": "code",
   "execution_count": 92,
   "metadata": {},
   "outputs": [],
   "source": [
    "lda_model_filepath = 'data/lda_res'\n",
    "best_model.save(lda_model_filepath)"
   ]
  },
  {
   "cell_type": "code",
   "execution_count": 93,
   "metadata": {},
   "outputs": [
    {
     "name": "stdout",
     "output_type": "stream",
     "text": [
      "2 the authority have request a purchase under the rapid access component of the exogenous_shocks_facility rac_esf access under_the_rac_esf would support -PRON- effort to mitigate the adverse_impact of the global downturn on the economy the mission that visit castries during june 8 11 assess the immediate balance of payment need and review the authorities’ policy measure to address the sudden shock.1\n"
     ]
    }
   ],
   "source": [
    "print(' '.join(paras[1]))"
   ]
  },
  {
   "cell_type": "code",
   "execution_count": 94,
   "metadata": {},
   "outputs": [
    {
     "data": {
      "text/plain": [
       "[(0, 0.08749806),\n",
       " (1, 0.24470736),\n",
       " (2, 0.011672979),\n",
       " (4, 0.010251766),\n",
       " (5, 0.0891507),\n",
       " (6, 0.35228854),\n",
       " (7, 0.16604398),\n",
       " (8, 0.010883795),\n",
       " (9, 0.018965589)]"
      ]
     },
     "execution_count": 94,
     "metadata": {},
     "output_type": "execute_result"
    }
   ],
   "source": [
    "best_model[corpus_tfidf[1]]"
   ]
  },
  {
   "cell_type": "code",
   "execution_count": 95,
   "metadata": {},
   "outputs": [
    {
     "name": "stdout",
     "output_type": "stream",
     "text": [
      "\n",
      "Score: 0.352287620306015\t \n",
      "Topic: 0.008*\"reform\" + 0.008*\"authority\" + 0.008*\"sector\" + 0.006*\"financial\" + 0.006*\"policy\" + 0.006*\"improve\" + 0.006*\"tax\" + 0.006*\"need\" + 0.005*\"support\" + 0.005*\"strengthen\"\n",
      "\n",
      "Score: 0.24471807479858398\t \n",
      "Topic: 0.012*\"gdp\" + 0.012*\"debt\" + 0.010*\"fiscal\" + 0.007*\"revenue\" + 0.007*\"project\" + 0.007*\"deficit\" + 0.007*\"budget\" + 0.006*\"increase\" + 0.006*\"spending\" + 0.006*\"expenditure\"\n",
      "\n",
      "Score: 0.16603699326515198\t \n",
      "Topic: 0.015*\"growth\" + 0.015*\"rate\" + 0.013*\"exchange\" + 0.012*\"inflation\" + 0.010*\"price\" + 0.009*\"export\" + 0.008*\"remain\" + 0.007*\"strong\" + 0.007*\"economy\" + 0.007*\"external\"\n",
      "\n",
      "Score: 0.08914743363857269\t \n",
      "Topic: 0.013*\"report\" + 0.013*\"arrangement\" + 0.011*\"imf\" + 0.009*\"executive_board\" + 0.008*\"article_iv_consultation\" + 0.008*\"assessment\" + 0.007*\"discussion\" + 0.007*\"request\" + 0.007*\"complete\" + 0.007*\"review\"\n",
      "\n",
      "Score: 0.08749852329492569\t \n",
      "Topic: 0.021*\"bank\" + 0.019*\"credit\" + 0.013*\"risk\" + 0.013*\"loan\" + 0.011*\"asset\" + 0.011*\"liquidity\" + 0.010*\"deposit\" + 0.010*\"banking_system\" + 0.009*\"market\" + 0.009*\"banking\"\n",
      "\n",
      "Score: 0.0189655814319849\t \n",
      "Topic: 0.049*\"datum\" + 0.040*\"statistic\" + 0.034*\"sdr\" + 0.021*\"national_account\" + 0.018*\"iii_sdr_department\" + 0.012*\"statistical\" + 0.012*\"compile\" + 0.012*\"present_holding\" + 0.011*\"timeliness\" + 0.011*\"iceland\"\n",
      "\n",
      "Score: 0.011672979220747948\t \n",
      "Topic: 0.029*\"ii_general_resources\" + 0.023*\"lebanon\" + 0.017*\"sta\" + 0.015*\"npv\" + 0.014*\"lesotho\" + 0.011*\"psi\" + 0.011*\"license\" + 0.010*\"hipc_initiative_not_applicable\" + 0.009*\"swaziland\" + 0.009*\"x._exchange\"\n",
      "\n",
      "Score: 0.010883795097470284\t \n",
      "Topic: 0.027*\"resident_representative\" + 0.019*\"mr.\" + 0.018*\"yemen\" + 0.016*\"drought\" + 0.011*\"vietnam\" + 0.011*\"hiv_aids\" + 0.010*\"tonga\" + 0.009*\"reliable\" + 0.009*\"branch\" + 0.009*\"devaluation\"\n",
      "\n",
      "Score: 0.010251766070723534\t \n",
      "Topic: 0.048*\"next_article_iv_consultation\" + 0.036*\"standard_12-month_cycle\" + 0.017*\"this_background\" + 0.016*\"pakistan\" + 0.015*\"take_place\" + 0.012*\"structural_conditionality\" + 0.011*\"hold\" + 0.010*\"managing_director\" + 0.010*\"long_stand\" + 0.009*\"membership_status\"\n"
     ]
    }
   ],
   "source": [
    "# Our test document is document number 4310\n",
    "for index, score in sorted(best_model[corpus_tfidf[1]], key=lambda tup: -1*tup[1]):\n",
    "    print(\"\\nScore: {}\\t \\nTopic: {}\".format(score, best_model.print_topic(index, 10)))"
   ]
  },
  {
   "cell_type": "code",
   "execution_count": 96,
   "metadata": {},
   "outputs": [],
   "source": [
    "import pyLDAvis\n",
    "import pyLDAvis.gensim  # don't skip this"
   ]
  },
  {
   "cell_type": "code",
   "execution_count": 97,
   "metadata": {},
   "outputs": [
    {
     "name": "stderr",
     "output_type": "stream",
     "text": [
      "D:\\data\\chengyu\\basics\\lib\\site-packages\\pyLDAvis\\_prepare.py:257: FutureWarning: Sorting because non-concatenation axis is not aligned. A future version\n",
      "of pandas will change to not sort by default.\n",
      "\n",
      "To accept the future behavior, pass 'sort=False'.\n",
      "\n",
      "To retain the current behavior and silence the warning, pass 'sort=True'.\n",
      "\n",
      "  return pd.concat([default_term_info] + list(topic_dfs))\n"
     ]
    }
   ],
   "source": [
    "pyLDAvis.enable_notebook()\n",
    "vis = pyLDAvis.gensim.prepare(lda, corpus_bow, dictionary,n_jobs=2)"
   ]
  },
  {
   "cell_type": "code",
   "execution_count": 98,
   "metadata": {},
   "outputs": [],
   "source": [
    "pyLDAvis.save_html(vis, './data/topic_lda.html')"
   ]
  },
  {
   "cell_type": "code",
   "execution_count": null,
   "metadata": {},
   "outputs": [],
   "source": []
  },
  {
   "cell_type": "code",
   "execution_count": null,
   "metadata": {},
   "outputs": [],
   "source": []
  }
 ],
 "metadata": {
  "kernelspec": {
   "display_name": "Python 3",
   "language": "python",
   "name": "python3"
  },
  "language_info": {
   "codemirror_mode": {
    "name": "ipython",
    "version": 3
   },
   "file_extension": ".py",
   "mimetype": "text/x-python",
   "name": "python",
   "nbconvert_exporter": "python",
   "pygments_lexer": "ipython3",
   "version": "3.6.6"
  }
 },
 "nbformat": 4,
 "nbformat_minor": 2
}
