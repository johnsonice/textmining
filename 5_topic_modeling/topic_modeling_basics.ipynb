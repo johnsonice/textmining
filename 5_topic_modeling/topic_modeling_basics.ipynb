{
 "cells": [
  {
   "cell_type": "code",
   "execution_count": 30,
   "metadata": {},
   "outputs": [],
   "source": [
    "from gensim import corpora, models \n",
    "from scripts.normalization import normalize_corpus\n",
    "import numpy as np\n",
    "from docx import Document\n",
    "import sys\n",
    "import gensim"
   ]
  },
  {
   "cell_type": "markdown",
   "metadata": {},
   "source": [
    "#### Load data"
   ]
  },
  {
   "cell_type": "code",
   "execution_count": 2,
   "metadata": {},
   "outputs": [],
   "source": [
    "def read_txt(file_path):\n",
    "    with open(file_path,'r') as f:\n",
    "        corpus = f.readlines()\n",
    "    \n",
    "    corpus = [c.strip('\\n') for c in corpus]\n",
    "    corpus = [c for c in corpus if len(c)> 10]\n",
    "    return corpus"
   ]
  },
  {
   "cell_type": "code",
   "execution_count": 3,
   "metadata": {},
   "outputs": [],
   "source": [
    "##read data\n",
    "file_path = 'input/doc_1.txt'\n",
    "corpus = read_txt(file_path)\n",
    "## preprocess text\n",
    "norm_tokenized_corpus = normalize_corpus(corpus,tokenize=True)"
   ]
  },
  {
   "cell_type": "code",
   "execution_count": 4,
   "metadata": {},
   "outputs": [],
   "source": [
    "# build dictionary\n",
    "dictionary = corpora.Dictionary(norm_tokenized_corpus)\n",
    "# convert document into bow\n",
    "corpus_bow = [dictionary.doc2bow(text) for text in norm_tokenized_corpus]\n",
    "## comput tfidf feature vectors\n",
    "tfidf = models.TfidfModel(corpus_bow)\n",
    "corpus_tfidf = tfidf[corpus_bow]"
   ]
  },
  {
   "cell_type": "markdown",
   "metadata": {},
   "source": [
    "#### Latent Semantic Indexing"
   ]
  },
  {
   "cell_type": "code",
   "execution_count": 5,
   "metadata": {},
   "outputs": [],
   "source": [
    "## topic modeling \n",
    "total_topics = 7\n",
    "lsi = models.LsiModel(corpus_tfidf,\n",
    "                      id2word=dictionary,\n",
    "                      num_topics= total_topics)"
   ]
  },
  {
   "cell_type": "code",
   "execution_count": 15,
   "metadata": {},
   "outputs": [
    {
     "name": "stdout",
     "output_type": "stream",
     "text": [
      "[('support', 0.18616100782667738), ('imf', 0.18590254483454932), ('debt', 0.17392126931141452), ('’', 0.1566605545149682), ('country', 0.12965053970238727), ('policy', 0.12111440720898438), ('strengthen', 0.11931488669225022), ('global', 0.11814602109861143), ('growth', 0.11765602963699684), ('include', 0.1125068635406627)]\n"
     ]
    }
   ],
   "source": [
    "## now you can see topic by index, words and weights \n",
    "print(lsi.show_topic(0))"
   ]
  },
  {
   "cell_type": "code",
   "execution_count": 16,
   "metadata": {},
   "outputs": [
    {
     "name": "stdout",
     "output_type": "stream",
     "text": [
      "Topic #1\n",
      "0.186*\"support\" + 0.186*\"imf\" + 0.174*\"debt\" + 0.157*\"’\" + 0.130*\"country\" + 0.121*\"policy\" + 0.119*\"strengthen\" + 0.118*\"global\" + 0.118*\"growth\" + 0.113*\"include\"\n",
      "\n",
      "Topic #2\n",
      "-0.221*\"rate\" + -0.221*\"exchange\" + -0.211*\"growth\" + -0.169*\"global\" + -0.135*\"policy\" + -0.125*\"priority\" + -0.125*\"outlook\" + -0.112*\"stability\" + -0.110*\"competitive\" + 0.109*\"debt\"\n",
      "\n",
      "Topic #3\n",
      "-0.368*\"resource\" + -0.316*\"governance\" + -0.266*\"operation\" + -0.263*\"imf\" + 0.202*\"debt\" + -0.152*\"’\" + 0.124*\"sustainability\" + 0.111*\"program\" + 0.106*\"vulnerability\" + 0.103*\"practice\"\n",
      "\n",
      "Topic #4\n",
      "-0.298*\"rate\" + -0.298*\"exchange\" + 0.194*\"outlook\" + 0.194*\"priority\" + 0.145*\"global\" + -0.138*\"competitive\" + 0.136*\"growth\" + 0.126*\"policy\" + -0.113*\"candid\" + -0.113*\"capital\"\n",
      "\n",
      "Topic #5\n",
      "-0.249*\"operation\" + -0.224*\"outlook\" + -0.224*\"priority\" + 0.185*\"trade\" + 0.165*\"tax\" + -0.149*\"policy\" + -0.127*\"surveillance\" + -0.122*\"others\" + -0.122*\"managing\" + -0.122*\"director\"\n",
      "\n",
      "Topic #6\n",
      "0.379*\"committee\" + 0.258*\"quota\" + -0.225*\"operation\" + 0.175*\"general\" + 0.155*\"progress\" + 0.155*\"meeting\" + 0.136*\"governor\" + 0.136*\"new\" + 0.126*\"carstens\" + 0.126*\"best\"\n",
      "\n",
      "Topic #7\n",
      "-0.292*\"operation\" + 0.259*\"priority\" + 0.259*\"outlook\" + -0.204*\"resource\" + -0.194*\"governance\" + 0.134*\"global\" + 0.132*\"update\" + 0.127*\"tax\" + -0.127*\"debt\" + 0.126*\"managing\"\n",
      "\n"
     ]
    }
   ],
   "source": [
    "for index, topic in lsi.print_topics(total_topics):\n",
    "    print('Topic #{}'.format(index+1))\n",
    "    print(topic)\n",
    "    print()"
   ]
  },
  {
   "cell_type": "code",
   "execution_count": 18,
   "metadata": {},
   "outputs": [],
   "source": [
    "## a better way to print \n",
    "def print_topics_gensim(topic_model, total_topics=1,\n",
    "                        weight_threshold=0.0001,\n",
    "                        display_weights=False,\n",
    "                        num_terms=None):\n",
    "    \n",
    "    for index in range(total_topics):\n",
    "        topic = topic_model.show_topic(index)\n",
    "        topic = [(word, round(wt,2)) \n",
    "                 for word, wt in topic \n",
    "                 if abs(wt) >= weight_threshold]\n",
    "        if display_weights:\n",
    "            print('Topic #'+str(index+1)+' with weights')\n",
    "            print (topic[:num_terms] if num_terms else topic)\n",
    "        else:\n",
    "            print ('Topic #'+str(index+1)+' without weights')\n",
    "            tw = [term for term, wt in topic]\n",
    "            print (tw[:num_terms] if num_terms else tw)\n",
    "        print\n",
    "    \n"
   ]
  },
  {
   "cell_type": "code",
   "execution_count": 19,
   "metadata": {},
   "outputs": [
    {
     "name": "stdout",
     "output_type": "stream",
     "text": [
      "Topic #1 with weights\n",
      "[('support', 0.19), ('imf', 0.19), ('debt', 0.17), ('’', 0.16), ('country', 0.13)]\n",
      "Topic #2 with weights\n",
      "[('rate', -0.22), ('exchange', -0.22), ('growth', -0.21), ('global', -0.17), ('policy', -0.13)]\n",
      "Topic #3 with weights\n",
      "[('resource', -0.37), ('governance', -0.32), ('operation', -0.27), ('imf', -0.26), ('debt', 0.2)]\n",
      "Topic #4 with weights\n",
      "[('rate', -0.3), ('exchange', -0.3), ('outlook', 0.19), ('priority', 0.19), ('global', 0.14)]\n",
      "Topic #5 with weights\n",
      "[('operation', -0.25), ('outlook', -0.22), ('priority', -0.22), ('trade', 0.19), ('tax', 0.17)]\n",
      "Topic #6 with weights\n",
      "[('committee', 0.38), ('quota', 0.26), ('operation', -0.22), ('general', 0.18), ('progress', 0.15)]\n",
      "Topic #7 with weights\n",
      "[('operation', -0.29), ('priority', 0.26), ('outlook', 0.26), ('resource', -0.2), ('governance', -0.19)]\n"
     ]
    }
   ],
   "source": [
    "print_topics_gensim(topic_model=lsi,\n",
    "                    total_topics=total_topics,\n",
    "                    num_terms=5,\n",
    "                    display_weights=True)"
   ]
  },
  {
   "cell_type": "markdown",
   "metadata": {},
   "source": [
    "####  Latent Dirichlet Allocation"
   ]
  },
  {
   "cell_type": "code",
   "execution_count": 48,
   "metadata": {},
   "outputs": [],
   "source": [
    "total_topics = 4"
   ]
  },
  {
   "cell_type": "code",
   "execution_count": 49,
   "metadata": {},
   "outputs": [],
   "source": [
    "lda = models.LdaMulticore(corpus_tfidf,\n",
    "                          id2word = dictionary,\n",
    "                          iterations = 1000,\n",
    "                          num_topics = total_topics,\n",
    "                          workers = 10)"
   ]
  },
  {
   "cell_type": "code",
   "execution_count": 50,
   "metadata": {},
   "outputs": [
    {
     "name": "stdout",
     "output_type": "stream",
     "text": [
      "Topic #1 with weights\n",
      "[('debt', 0.01), ('lic', 0.01), ('sustainability', 0.0), ('strengthen', 0.0), ('data', 0.0), ('gap', 0.0), ('program', 0.0), ('capacity', 0.0), ('work', 0.0), ('vulnerability', 0.0)]\n",
      "Topic #2 with weights\n",
      "[('growth', 0.01), ('committee', 0.0), ('diversity', 0.0), ('quota', 0.0), ('high', 0.0), ('exchange', 0.0), ('rate', 0.0), ('trade', 0.0), ('policy', 0.0), ('strong', 0.0)]\n",
      "Topic #3 with weights\n",
      "[('outlook', 0.01), ('priority', 0.01), ('global', 0.0), ('policy', 0.0), ('risk', 0.0), ('sustainable', 0.0), ('toward', 0.0), ('sector', 0.0), ('reform', 0.0), ('scarcity', 0.0)]\n",
      "Topic #4 with weights\n",
      "[('operation', 0.01), ('resource', 0.01), ('imf', 0.01), ('governance', 0.01), ('’', 0.01), ('support', 0.0), ('director', 0.0), ('managing', 0.0), ('collaborate', 0.0), ('others', 0.0)]\n"
     ]
    }
   ],
   "source": [
    "print_topics_gensim(topic_model=lda,\n",
    "                   total_topics = total_topics,\n",
    "                   num_terms=10,\n",
    "                   display_weights=True)"
   ]
  },
  {
   "cell_type": "code",
   "execution_count": null,
   "metadata": {},
   "outputs": [],
   "source": []
  }
 ],
 "metadata": {
  "kernelspec": {
   "display_name": "Python [conda env:udacity-nlp]",
   "language": "python",
   "name": "conda-env-udacity-nlp-py"
  },
  "language_info": {
   "codemirror_mode": {
    "name": "ipython",
    "version": 3
   },
   "file_extension": ".py",
   "mimetype": "text/x-python",
   "name": "python",
   "nbconvert_exporter": "python",
   "pygments_lexer": "ipython3",
   "version": "3.5.4"
  }
 },
 "nbformat": 4,
 "nbformat_minor": 2
}
