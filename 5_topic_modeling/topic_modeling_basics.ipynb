{
 "cells": [
  {
   "cell_type": "markdown",
   "metadata": {},
   "source": [
    "Follow this blog post\n",
    "https://www.machinelearningplus.com/nlp/topic-modeling-gensim-python/"
   ]
  },
  {
   "cell_type": "code",
   "execution_count": 1,
   "metadata": {},
   "outputs": [
    {
     "name": "stderr",
     "output_type": "stream",
     "text": [
      "D:\\data\\chengyu\\basics\\lib\\site-packages\\gensim\\utils.py:1209: UserWarning: detected Windows; aliasing chunkize to chunkize_serial\n",
      "  warnings.warn(\"detected Windows; aliasing chunkize to chunkize_serial\")\n"
     ]
    }
   ],
   "source": [
    "from gensim import corpora, models \n",
    "import numpy as np\n",
    "import sys\n",
    "import os\n",
    "import gensim\n",
    "import pickle\n",
    "import nltk\n",
    "from collections import Counter\n",
    "import pyLDAvis\n",
    "import pyLDAvis.gensim  # don't skip this\n",
    "from gensim.models import CoherenceModel\n",
    "import matplotlib\n",
    "import matplotlib.pyplot as plt\n",
    "%matplotlib inline\n",
    "\n",
    "python_root = './scripts'\n",
    "sys.path.insert(0, python_root)"
   ]
  },
  {
   "cell_type": "markdown",
   "metadata": {},
   "source": [
    "#### Load data"
   ]
  },
  {
   "cell_type": "code",
   "execution_count": 2,
   "metadata": {
    "scrolled": true
   },
   "outputs": [],
   "source": [
    "paras = pickle.load(open('./data/processed_corpus.p', \"rb\")) "
   ]
  },
  {
   "cell_type": "code",
   "execution_count": 3,
   "metadata": {},
   "outputs": [
    {
     "name": "stdout",
     "output_type": "stream",
     "text": [
      "['1', 'as', 'a', 'small', 'open', 'tourism', 'base', 'economy', 'st._lucia', 'be', 'highly_vulnerable_to_exogenous_shock', 'tourism', 'account', 'for', 'over', 'three_quarter', 'of', 'export', 'and', 'the', 'import_content', 'of', 'both', 'consumption', 'and', 'foreign_direct_investment', 'fdi', 'be', 'very', 'high', 'figure_1', 'the', 'economy', 'have', 'be', 'buffet', 'by', 'the', 'global', 'economic', 'downturn', 'which', 'have', 'hobble', 'the', 'tourism', 'and', 'construction', 'sector', 'with', 'potential', 'spillover', 'to', 'the', 'financial', 'sector']\n"
     ]
    }
   ],
   "source": [
    "print(paras[0])"
   ]
  },
  {
   "cell_type": "markdown",
   "metadata": {},
   "source": [
    "#### Use Gensim for topic modeling"
   ]
  },
  {
   "cell_type": "code",
   "execution_count": 4,
   "metadata": {},
   "outputs": [],
   "source": [
    "## remove stop words \n",
    "norm_tokenized_corpus = paras\n",
    "stopword_list = nltk.corpus.stopwords.words('english')\n",
    "stopword_list.extend(['-PRON-','percent','’s','would','also',\n",
    "                      'year','continue','include','give','may','new',\n",
    "                      'however','well','help','since'])\n",
    "norm_tokenized_corpus = [[token for token in p if token not in stopword_list] for p in norm_tokenized_corpus]"
   ]
  },
  {
   "cell_type": "code",
   "execution_count": 5,
   "metadata": {},
   "outputs": [],
   "source": [
    "def _flatten(container):\n",
    "    for i in container:\n",
    "        if isinstance(i, (list,tuple)):\n",
    "            for j in _flatten(i):\n",
    "                yield j\n",
    "        else:\n",
    "            yield i"
   ]
  },
  {
   "cell_type": "code",
   "execution_count": 6,
   "metadata": {
    "scrolled": true
   },
   "outputs": [
    {
     "data": {
      "text/plain": [
       "[('authority', 118184),\n",
       " ('growth', 106963),\n",
       " ('fiscal', 106076),\n",
       " ('bank', 102460),\n",
       " ('sector', 98047),\n",
       " ('policy', 97760),\n",
       " ('gdp', 88619),\n",
       " ('increase', 84369),\n",
       " ('financial', 81209),\n",
       " ('government', 80711),\n",
       " ('reform', 77477),\n",
       " ('debt', 74619),\n",
       " ('public', 71985),\n",
       " ('rate', 69359),\n",
       " ('staff', 69139),\n",
       " ('high', 62180),\n",
       " ('remain', 58921),\n",
       " ('need', 57091),\n",
       " ('tax', 56207),\n",
       " ('program', 55408),\n",
       " ('external', 54081),\n",
       " ('economic', 52831),\n",
       " ('support', 52515),\n",
       " ('improve', 52027),\n",
       " ('market', 49549),\n",
       " ('risk', 46722),\n",
       " ('exchange', 46034),\n",
       " ('project', 45026),\n",
       " ('investment', 44747),\n",
       " ('revenue', 44276)]"
      ]
     },
     "execution_count": 6,
     "metadata": {},
     "output_type": "execute_result"
    }
   ],
   "source": [
    "words = list(_flatten(norm_tokenized_corpus))\n",
    "wc = Counter(words)\n",
    "wc.most_common(30)"
   ]
  },
  {
   "cell_type": "code",
   "execution_count": 7,
   "metadata": {},
   "outputs": [],
   "source": [
    "# build dictionary\n",
    "\n",
    "dictionary = corpora.Dictionary(norm_tokenized_corpus)\n",
    "dictionary.filter_extremes(no_below=5,no_above=0.5, keep_n=10000)\n",
    "\n",
    "\n",
    "# convert document into bow\n",
    "corpus_bow = [dictionary.doc2bow(text) for text in norm_tokenized_corpus]\n",
    "## comput tfidf feature vectors\n",
    "tfidf = models.TfidfModel(corpus_bow) # smartirs = 'atc' https://radimrehurek.com/gensim/models/tfidfmodel.html\n",
    "corpus_tfidf = tfidf[corpus_bow]"
   ]
  },
  {
   "cell_type": "code",
   "execution_count": 63,
   "metadata": {},
   "outputs": [],
   "source": [
    "dictionary_save_path = './data/dictionary.dict'\n",
    "dictionary.compactify()\n",
    "dictionary.save(dictionary_save_path)\n",
    "corpora.MmCorpus.serialize('./data/corpus_bow.mm', corpus_bow)\n",
    "corpora.MmCorpus.serialize('./data/corpus_tfidf.mm', corpus_tfidf)"
   ]
  },
  {
   "cell_type": "code",
   "execution_count": 8,
   "metadata": {},
   "outputs": [
    {
     "data": {
      "text/plain": [
       "10000"
      ]
     },
     "execution_count": 8,
     "metadata": {},
     "output_type": "execute_result"
    }
   ],
   "source": [
    "len(dictionary)"
   ]
  },
  {
   "cell_type": "code",
   "execution_count": 9,
   "metadata": {},
   "outputs": [],
   "source": [
    "## a better way to print \n",
    "def print_topics_gensim(topic_model, total_topics=1,\n",
    "                        weight_threshold=0.0001,\n",
    "                        display_weights=False,\n",
    "                        num_terms=None):\n",
    "    \n",
    "    for index in range(total_topics):\n",
    "        topic = topic_model.show_topic(index,topn=num_terms)\n",
    "        topic = [(word, round(wt,4)) \n",
    "                 for word, wt in topic \n",
    "                 if abs(wt) >= weight_threshold]\n",
    "        if display_weights:\n",
    "            print('Topic #'+str(index+1)+' with weights')\n",
    "            print (topic[:num_terms] if num_terms else topic)\n",
    "        else:\n",
    "            print ('Topic #'+str(index+1)+' without weights')\n",
    "            tw = [term for term, wt in topic]\n",
    "            print (tw[:num_terms] if num_terms else tw)\n",
    "        print"
   ]
  },
  {
   "cell_type": "markdown",
   "metadata": {},
   "source": [
    "####  Latent Dirichlet Allocation"
   ]
  },
  {
   "cell_type": "code",
   "execution_count": 10,
   "metadata": {},
   "outputs": [],
   "source": [
    "total_topics = 7"
   ]
  },
  {
   "cell_type": "code",
   "execution_count": 11,
   "metadata": {},
   "outputs": [],
   "source": [
    "lda = models.LdaMulticore(corpus = corpus_tfidf,\n",
    "                          id2word = dictionary,\n",
    "                          iterations = 1000,\n",
    "                          num_topics = total_topics)#,\n",
    "                          #workers = 20) #alpha='auto',"
   ]
  },
  {
   "cell_type": "code",
   "execution_count": 12,
   "metadata": {},
   "outputs": [
    {
     "name": "stdout",
     "output_type": "stream",
     "text": [
      "\n",
      "Perplexity:  -7.573914344961725\n"
     ]
    }
   ],
   "source": [
    "# Compute Perplexity\n",
    "print('\\nPerplexity: ', lda.log_perplexity(corpus_bow))  # a measure of how good the model is. lower the better."
   ]
  },
  {
   "cell_type": "code",
   "execution_count": 13,
   "metadata": {},
   "outputs": [
    {
     "name": "stdout",
     "output_type": "stream",
     "text": [
      "\n",
      "Coherence Score:  0.37673968309529193\n"
     ]
    }
   ],
   "source": [
    "# Compute Coherence Score\n",
    "coherence_model_lda = CoherenceModel(model=lda, texts=norm_tokenized_corpus, dictionary=dictionary, coherence='c_v')\n",
    "coherence_lda = coherence_model_lda.get_coherence()\n",
    "print('\\nCoherence Score: ', coherence_lda)"
   ]
  },
  {
   "cell_type": "code",
   "execution_count": 14,
   "metadata": {},
   "outputs": [],
   "source": [
    "def compute_coherence_values(dictionary, corpus, texts, limit, start=2, step=2):\n",
    "    \"\"\"\n",
    "    Compute c_v coherence for various number of topics\n",
    "\n",
    "    Parameters:\n",
    "    ----------\n",
    "    dictionary : Gensim dictionary\n",
    "    corpus : Gensim corpus\n",
    "    texts : List of input texts\n",
    "    limit : Max num of topics\n",
    "\n",
    "    Returns:\n",
    "    -------\n",
    "    model_list : List of LDA topic models\n",
    "    coherence_values : Coherence values corresponding to the LDA model with respective number of topics\n",
    "    \"\"\"\n",
    "    coherence_values = []\n",
    "    model_list = []\n",
    "    n_topics = []\n",
    "    for num_topics in range(start, limit, step):\n",
    "        model = models.LdaMulticore(corpus = corpus,\n",
    "                          id2word = dictionary,\n",
    "                          random_state = 2,\n",
    "                          iterations = 1000,\n",
    "                          num_topics = num_topics,\n",
    "                          workers=25)\n",
    "        model_list.append(model)\n",
    "        coherencemodel = CoherenceModel(model=model, texts=texts, dictionary=dictionary, coherence='c_v')\n",
    "        coherence_values.append(coherencemodel.get_coherence())\n",
    "        n_topics.append(num_topics)\n",
    "        print(\"{}: {}\".format(num_topics,coherence_values[-1]))\n",
    "    \n",
    "    return model_list, coherence_values,n_topics"
   ]
  },
  {
   "cell_type": "code",
   "execution_count": 15,
   "metadata": {},
   "outputs": [
    {
     "name": "stdout",
     "output_type": "stream",
     "text": [
      "5: 0.3670669920593702\n",
      "6: 0.4048856903927633\n",
      "7: 0.43304287873667796\n",
      "8: 0.4271937504602833\n",
      "9: 0.435415536813317\n",
      "10: 0.46305101244318625\n",
      "11: 0.4546452876134362\n",
      "12: 0.4536783969909961\n",
      "13: 0.446779069744696\n",
      "14: 0.45102604613618286\n",
      "15: 0.43585520598187794\n",
      "16: 0.4367101818389012\n",
      "17: 0.44038685563277213\n",
      "18: 0.4409863562097065\n",
      "19: 0.4294705735413018\n",
      "20: 0.43820163742759355\n",
      "21: 0.4275187798571582\n",
      "22: 0.4302593058690571\n",
      "23: 0.42215569955157844\n",
      "24: 0.45574141460056533\n",
      "25: 0.42167459927821027\n",
      "26: 0.4231523824789061\n",
      "27: 0.44235618543411404\n",
      "28: 0.43070331563055364\n",
      "29: 0.42427268475515556\n",
      "30: 0.44358400003496545\n",
      "31: 0.4209204348837598\n",
      "32: 0.44052136294560557\n",
      "33: 0.4352120969274841\n",
      "34: 0.43565083982460345\n",
      "35: 0.44868342443903314\n",
      "36: 0.42345023851850655\n",
      "37: 0.43660171700397543\n",
      "38: 0.432707695622214\n",
      "39: 0.43246678344378925\n"
     ]
    }
   ],
   "source": [
    "# Can take a long time to run.\n",
    "model_list, coherence_values,n_topics = compute_coherence_values(dictionary=dictionary, corpus=corpus_tfidf,\n",
    "                                                        texts=norm_tokenized_corpus, start=10, limit=30, step=1)"
   ]
  },
  {
   "cell_type": "code",
   "execution_count": 16,
   "metadata": {
    "scrolled": true
   },
   "outputs": [
    {
     "data": {
      "image/png": "[encoded data removed]",
      "text/plain": [
       "<Figure size 432x288 with 1 Axes>"
      ]
     },
     "metadata": {},
     "output_type": "display_data"
    }
   ],
   "source": [
    "plt.plot(n_topics, coherence_values)\n",
    "plt.show()"
   ]
  },
  {
   "cell_type": "code",
   "execution_count": 17,
   "metadata": {},
   "outputs": [],
   "source": [
    "best_model = model_list[np.argmax(coherence_values)]"
   ]
  },
  {
   "cell_type": "code",
   "execution_count": 41,
   "metadata": {},
   "outputs": [
    {
     "data": {
      "text/plain": [
       "0.45574141460056533"
      ]
     },
     "execution_count": 41,
     "metadata": {},
     "output_type": "execute_result"
    }
   ],
   "source": [
    "coherence_values[19]"
   ]
  },
  {
   "cell_type": "code",
   "execution_count": 38,
   "metadata": {},
   "outputs": [],
   "source": [
    "## get number of topics for the model \n",
    "n_topics = best_model.get_topics().shape[0]"
   ]
  },
  {
   "cell_type": "code",
   "execution_count": 39,
   "metadata": {
    "collapsed": true
   },
   "outputs": [
    {
     "name": "stdout",
     "output_type": "stream",
     "text": [
      "Topic #1 with weights\n",
      "[('growth', 0.0048), ('gdp', 0.0042), ('fiscal', 0.004), ('policy', 0.0037), ('inflation', 0.0035), ('external', 0.0033), ('rate', 0.0031), ('price', 0.003), ('oil', 0.0029), ('increase', 0.0028)]\n",
      "Topic #2 with weights\n",
      "[('article_iv_consultation', 0.0052), ('monetary', 0.0049), ('fund_imf_conclude', 0.0038), ('executive_board', 0.0035), ('bank', 0.0034), ('international', 0.0033), ('policy', 0.0033), ('datum', 0.003), ('growth', 0.0029), ('inflation', 0.0029)]\n",
      "Topic #3 with weights\n",
      "[('reform', 0.0048), ('policy', 0.0048), ('growth', 0.0041), ('sector', 0.0039), ('authority', 0.0037), ('fiscal', 0.0035), ('financial', 0.0034), ('improve', 0.0031), ('bank', 0.0031), ('public', 0.0031)]\n",
      "Topic #4 with weights\n",
      "[('bank', 0.0044), ('debt', 0.0037), ('authority', 0.0033), ('financial', 0.0033), ('sector', 0.0028), ('government', 0.0027), ('reform', 0.0027), ('technical_assistance', 0.0026), ('fiscal', 0.0026), ('staff', 0.0024)]\n",
      "Topic #5 with weights\n",
      "[('next_article_iv_consultation', 0.0038), ('staff', 0.0033), ('growth', 0.0032), ('gdp', 0.0032), ('standard_12-month_cycle', 0.003), ('fiscal', 0.0029), ('reform', 0.0027), ('tax', 0.0027), ('increase', 0.0027), ('rate', 0.0026)]\n",
      "Topic #6 with weights\n",
      "[('bank', 0.0039), ('datum', 0.0036), ('financial', 0.0035), ('sector', 0.0033), ('statistic', 0.0032), ('authority', 0.0031), ('reform', 0.003), ('government', 0.0029), ('sdr_department', 0.0029), ('fiscal', 0.0028)]\n",
      "Topic #7 with weights\n",
      "[('exchange', 0.0079), ('arrangement', 0.0053), ('rate', 0.0052), ('bank', 0.0038), ('policy', 0.0035), ('authority', 0.0034), ('financial', 0.0033), ('staff', 0.0031), ('ii_general_resources', 0.0031), ('market', 0.003)]\n",
      "Topic #8 with weights\n",
      "[('debt', 0.0062), ('gdp', 0.0054), ('growth', 0.0038), ('external', 0.0034), ('fiscal', 0.0034), ('public', 0.0033), ('increase', 0.0031), ('project', 0.003), ('sector', 0.0029), ('government', 0.0029)]\n",
      "Topic #9 with weights\n",
      "[('bank', 0.0058), ('financial', 0.0047), ('growth', 0.0038), ('sector', 0.0038), ('risk', 0.0036), ('credit', 0.0034), ('market', 0.0031), ('authority', 0.0028), ('remain', 0.0027), ('increase', 0.0026)]\n",
      "Topic #10 with weights\n",
      "[('tax', 0.007), ('fiscal', 0.0059), ('revenue', 0.0047), ('budget', 0.0043), ('expenditure', 0.0041), ('gdp', 0.0039), ('spending', 0.0038), ('public', 0.0037), ('reform', 0.0037), ('program', 0.0036)]\n"
     ]
    }
   ],
   "source": [
    "print_topics_gensim(topic_model=best_model,\n",
    "                   total_topics = n_topics,\n",
    "                   num_terms=10,\n",
    "                   display_weights=True) "
   ]
  },
  {
   "cell_type": "code",
   "execution_count": 42,
   "metadata": {
    "collapsed": true
   },
   "outputs": [
    {
     "name": "stdout",
     "output_type": "stream",
     "text": [
      "Topic #1 with weights\n",
      "[('fiscal', 0.0039), ('gdp', 0.0038), ('growth', 0.0035), ('government', 0.003), ('budget', 0.003), ('sector', 0.003), ('policy', 0.0029), ('reform', 0.0028), ('increase', 0.0028), ('public', 0.0028)]\n",
      "Topic #2 with weights\n",
      "[('rate', 0.0041), ('exchange', 0.0039), ('policy', 0.0034), ('growth', 0.0032), ('bank', 0.0032), ('monetary', 0.0031), ('reform', 0.0029), ('market', 0.0029), ('inflation', 0.0029), ('sector', 0.0028)]\n",
      "Topic #3 with weights\n",
      "[('policy', 0.0043), ('bank', 0.0038), ('issue_after_executive', 0.0037), ('board_discussion', 0.0036), ('member_country', 0.0033), ('rate', 0.0032), ('growth', 0.0031), ('authority', 0.0031), ('development', 0.0031), ('financial', 0.003)]\n",
      "Topic #4 with weights\n",
      "[('loan_none', 0.0046), ('outstanding_purchases', 0.0042), ('2013', 0.0034), ('bank', 0.0032), ('authority', 0.0032), ('debt', 0.0029), ('30', 0.0029), ('government', 0.0028), ('fiscal', 0.0028), ('staff', 0.0026)]\n",
      "Topic #5 with weights\n",
      "[('next_article_iv_consultation', 0.0091), ('standard_12-month_cycle', 0.0072), ('propose', 0.0041), ('recommend', 0.004), ('hold', 0.0039), ('take_place', 0.0039), ('tax', 0.0037), ('reform', 0.0036), ('fiscal', 0.0035), ('staff', 0.0031)]\n",
      "Topic #6 with weights\n",
      "[('datum', 0.0094), ('statistic', 0.0069), ('bank', 0.0039), ('government', 0.0037), ('national_account', 0.0036), ('financial', 0.0035), ('authority', 0.0034), ('report', 0.0034), ('improve', 0.0032), ('v._latest_financial_arrangements', 0.0031)]\n",
      "Topic #7 with weights\n",
      "[('exchange', 0.0073), ('arrangement', 0.0071), ('rate', 0.0052), ('bank', 0.0038), ('policy', 0.0037), ('authority', 0.0032), ('financial', 0.0032), ('staff', 0.0029), ('growth', 0.0028), ('fiscal', 0.0028)]\n",
      "Topic #8 with weights\n",
      "[('gdp', 0.0049), ('fiscal', 0.0042), ('tax', 0.0035), ('government', 0.0035), ('debt', 0.0035), ('growth', 0.0034), ('public', 0.0033), ('revenue', 0.0033), ('expenditure', 0.0032), ('increase', 0.0031)]\n",
      "Topic #9 with weights\n",
      "[('bank', 0.0055), ('financial', 0.0044), ('risk', 0.0036), ('growth', 0.0035), ('sector', 0.0033), ('credit', 0.0032), ('authority', 0.003), ('market', 0.0029), ('policy', 0.0028), ('staff', 0.0025)]\n",
      "Topic #10 with weights\n",
      "[('tax', 0.0089), ('fiscal', 0.0056), ('revenue', 0.0055), ('gdp', 0.0046), ('budget', 0.0045), ('expenditure', 0.004), ('spending', 0.004), ('government', 0.0038), ('reform', 0.0037), ('program', 0.0035)]\n",
      "Topic #11 with weights\n",
      "[('fiscal', 0.0048), ('policy', 0.0038), ('debt', 0.0038), ('reform', 0.0035), ('authority', 0.0035), ('tax', 0.0033), ('financial', 0.0031), ('bank', 0.0031), ('growth', 0.003), ('public', 0.003)]\n",
      "Topic #12 with weights\n",
      "[('policy', 0.0048), ('fiscal', 0.0047), ('monetary', 0.0043), ('reform', 0.0036), ('authority', 0.0035), ('staff', 0.0033), ('bank', 0.0032), ('tax', 0.0031), ('growth', 0.0031), ('financial', 0.0031)]\n",
      "Topic #13 with weights\n",
      "[('gdp', 0.0061), ('debt', 0.0045), ('fiscal', 0.0037), ('growth', 0.0034), ('bank', 0.0034), ('increase', 0.0029), ('tax', 0.0029), ('external', 0.0028), ('revenue', 0.0028), ('project', 0.0027)]\n",
      "Topic #14 with weights\n",
      "[('general_resources_account', 0.0057), ('policy', 0.004), ('growth', 0.0038), ('i._membership_status_join', 0.0037), ('reform', 0.0034), ('fiscal', 0.0033), ('authority', 0.0033), ('program', 0.0033), ('financial', 0.0032), ('sector', 0.0032)]\n",
      "Topic #15 with weights\n",
      "[('growth', 0.0046), ('rate', 0.0039), ('exchange', 0.0035), ('gdp', 0.0034), ('price', 0.0034), ('debt', 0.0032), ('external', 0.0032), ('sector', 0.0032), ('inflation', 0.003), ('increase', 0.003)]\n",
      "Topic #16 with weights\n",
      "[('fiscal', 0.0054), ('reform', 0.0051), ('public', 0.0041), ('authority', 0.004), ('ii_general_resources', 0.0038), ('sector', 0.0038), ('policy', 0.0038), ('debt', 0.0037), ('growth', 0.0037), ('need', 0.0034)]\n",
      "Topic #17 with weights\n",
      "[('sdr_department', 0.0049), ('growth', 0.0047), ('gdp', 0.0045), ('none', 0.0042), ('fiscal', 0.0039), ('late', 0.0037), ('arrangement', 0.0036), ('financial', 0.0035), ('rate', 0.003), ('policy', 0.0029)]\n",
      "Topic #18 with weights\n",
      "[('debt', 0.0047), ('bank', 0.0044), ('financial', 0.0035), ('sector', 0.0033), ('authority', 0.0032), ('growth', 0.0032), ('risk', 0.0031), ('external', 0.0031), ('31', 0.003), ('gdp', 0.0029)]\n",
      "Topic #19 with weights\n",
      "[('reform', 0.0051), ('financial', 0.0044), ('sector', 0.0044), ('authority', 0.004), ('bank', 0.0039), ('policy', 0.0038), ('public', 0.0037), ('strengthen', 0.0034), ('improve', 0.0034), ('fiscal', 0.003)]\n",
      "Topic #20 with weights\n",
      "[('policy', 0.0035), ('fiscal', 0.0034), ('rate', 0.0033), ('gdp', 0.003), ('authority', 0.0029), ('growth', 0.0029), ('bank', 0.0029), ('staff', 0.0029), ('financial', 0.0027), ('exchange', 0.0027)]\n",
      "Topic #21 with weights\n",
      "[('bank', 0.0044), ('sector', 0.0036), ('loan', 0.0033), ('growth', 0.0033), ('financial', 0.0032), ('gdp', 0.003), ('iv_outstanding_purchases', 0.0029), ('project', 0.0027), ('reform', 0.0027), ('program', 0.0027)]\n",
      "Topic #22 with weights\n",
      "[('iii_sdr_department', 0.0048), ('technical_assistance', 0.0047), ('bank', 0.0033), ('financial', 0.0032), ('resident_representative', 0.0032), ('authority', 0.003), ('policy', 0.0028), ('fiscal', 0.0027), ('government', 0.0027), ('reform', 0.0026)]\n",
      "Topic #23 with weights\n",
      "[('growth', 0.0054), ('inflation', 0.005), ('gdp', 0.0048), ('expect', 0.0035), ('price', 0.0035), ('increase', 0.0034), ('rate', 0.0032), ('project', 0.0031), ('bank', 0.0031), ('fiscal', 0.003)]\n",
      "Topic #24 with weights\n",
      "[('million', 0.0099), ('sdr', 0.0078), ('executive_board', 0.0063), ('us$', 0.0062), ('debt', 0.0054), ('fund_imf_conclude', 0.0054), ('article_iv_consultation', 0.0052), ('international', 0.0048), ('monetary', 0.0044), ('gdp', 0.0042)]\n"
     ]
    }
   ],
   "source": [
    "best_model2 = model_list[19]\n",
    "n_topics = best_model2.get_topics().shape[0]\n",
    "print_topics_gensim(topic_model=best_model2,\n",
    "                   total_topics = n_topics,\n",
    "                   num_terms=10,\n",
    "                   display_weights=True) "
   ]
  },
  {
   "cell_type": "code",
   "execution_count": 43,
   "metadata": {},
   "outputs": [],
   "source": [
    "lda_model_filepath = 'data/lda_res'\n",
    "best_model2.save(lda_model_filepath)"
   ]
  },
  {
   "cell_type": "code",
   "execution_count": 62,
   "metadata": {},
   "outputs": [
    {
     "name": "stdout",
     "output_type": "stream",
     "text": [
      "2 the authority have request a purchase under the rapid access component of the exogenous_shocks_facility rac_esf access under_the_rac_esf would support -PRON- effort to mitigate the adverse_impact of the global downturn on the economy the mission that visit castries during june 8 11 assess the immediate balance of payment need and review the authorities’ policy measure to address the sudden shock.1\n"
     ]
    }
   ],
   "source": [
    "print(' '.join(paras[1]))"
   ]
  },
  {
   "cell_type": "code",
   "execution_count": 58,
   "metadata": {},
   "outputs": [
    {
     "data": {
      "text/plain": [
       "[(0, 0.0125858),\n",
       " (1, 0.01258185),\n",
       " (2, 0.012581449),\n",
       " (3, 0.012581054),\n",
       " (4, 0.012581813),\n",
       " (5, 0.0125814695),\n",
       " (6, 0.012581308),\n",
       " (7, 0.8867625),\n",
       " (8, 0.012581523),\n",
       " (9, 0.012581203)]"
      ]
     },
     "execution_count": 58,
     "metadata": {},
     "output_type": "execute_result"
    }
   ],
   "source": [
    "best_model[corpus_tfidf[3]]"
   ]
  },
  {
   "cell_type": "code",
   "execution_count": 61,
   "metadata": {},
   "outputs": [
    {
     "name": "stdout",
     "output_type": "stream",
     "text": [
      "\n",
      "Score: 0.8425132632255554\t \n",
      "Topic: 0.004*\"bank\" + 0.004*\"datum\" + 0.004*\"financial\" + 0.003*\"sector\" + 0.003*\"statistic\" + 0.003*\"authority\" + 0.003*\"reform\" + 0.003*\"government\" + 0.003*\"sdr_department\" + 0.003*\"fiscal\"\n"
     ]
    }
   ],
   "source": [
    "# Our test document is document number 4310\n",
    "for index, score in sorted(best_model2[corpus_tfidf[1]], key=lambda tup: -1*tup[1]):\n",
    "    print(\"\\nScore: {}\\t \\nTopic: {}\".format(score, best_model.print_topic(index, 10)))"
   ]
  },
  {
   "cell_type": "code",
   "execution_count": 23,
   "metadata": {},
   "outputs": [],
   "source": [
    "import pyLDAvis\n",
    "import pyLDAvis.gensim  # don't skip this"
   ]
  },
  {
   "cell_type": "code",
   "execution_count": 24,
   "metadata": {},
   "outputs": [
    {
     "name": "stderr",
     "output_type": "stream",
     "text": [
      "D:\\data\\chengyu\\basics\\lib\\site-packages\\pyLDAvis\\_prepare.py:257: FutureWarning: Sorting because non-concatenation axis is not aligned. A future version\n",
      "of pandas will change to not sort by default.\n",
      "\n",
      "To accept the future behavior, pass 'sort=False'.\n",
      "\n",
      "To retain the current behavior and silence the warning, pass 'sort=True'.\n",
      "\n",
      "  return pd.concat([default_term_info] + list(topic_dfs))\n"
     ]
    }
   ],
   "source": [
    "pyLDAvis.enable_notebook()\n",
    "vis = pyLDAvis.gensim.prepare(lda, corpus_bow, dictionary,n_jobs=2)"
   ]
  },
  {
   "cell_type": "code",
   "execution_count": 26,
   "metadata": {},
   "outputs": [],
   "source": [
    "pyLDAvis.save_html(vis, './data/topic_lda.html')"
   ]
  },
  {
   "cell_type": "code",
   "execution_count": null,
   "metadata": {},
   "outputs": [],
   "source": []
  },
  {
   "cell_type": "code",
   "execution_count": null,
   "metadata": {},
   "outputs": [],
   "source": []
  }
 ],
 "metadata": {
  "kernelspec": {
   "display_name": "Python 3",
   "language": "python",
   "name": "python3"
  },
  "language_info": {
   "codemirror_mode": {
    "name": "ipython",
    "version": 3
   },
   "file_extension": ".py",
   "mimetype": "text/x-python",
   "name": "python",
   "nbconvert_exporter": "python",
   "pygments_lexer": "ipython3",
   "version": "3.6.6"
  }
 },
 "nbformat": 4,
 "nbformat_minor": 2
}
