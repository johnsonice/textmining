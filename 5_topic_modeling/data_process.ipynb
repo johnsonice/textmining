{
 "cells": [
  {
   "cell_type": "markdown",
   "metadata": {},
   "source": [
    "Follow this blog post\n",
    "https://www.machinelearningplus.com/nlp/topic-modeling-gensim-python/"
   ]
  },
  {
   "cell_type": "code",
   "execution_count": 1,
   "metadata": {},
   "outputs": [
    {
     "name": "stderr",
     "output_type": "stream",
     "text": [
      "D:\\data\\chengyu\\basics\\lib\\site-packages\\gensim\\utils.py:1209: UserWarning: detected Windows; aliasing chunkize to chunkize_serial\n",
      "  warnings.warn(\"detected Windows; aliasing chunkize to chunkize_serial\")\n"
     ]
    }
   ],
   "source": [
    "from gensim import corpora, models \n",
    "from scripts.normalization import normalize_corpus\n",
    "import numpy as np\n",
    "from docx import Document\n",
    "import sys\n",
    "import os\n",
    "import gensim\n",
    "from gensim.models import Phrases\n",
    "from gensim.models.phrases import Phraser\n",
    "import pickle\n",
    "import nltk\n",
    "from collections import Counter\n",
    "#import pyLDAvis\n",
    "#import pyLDAvis.gensim  # don't skip this\n",
    "import pickle\n",
    "python_root = './scripts'\n",
    "sys.path.insert(0, python_root)\n",
    "\n",
    "import normalization_spacy as util\n",
    "from contractions import CONTRACTION_MAP"
   ]
  },
  {
   "cell_type": "markdown",
   "metadata": {},
   "source": [
    "#### Load data"
   ]
  },
  {
   "cell_type": "code",
   "execution_count": 2,
   "metadata": {
    "scrolled": true
   },
   "outputs": [
    {
     "name": "stdout",
     "output_type": "stream",
     "text": [
      "sample document ids: \n",
      " ['9781451823295', '9781462328451', '9781451806069', '9781451815733', '9781451814002'] \n",
      "\n",
      "sample paragraphs: \n",
      " 1. As a small, open, tourism-based economy, St. Lucia is highly vulnerable to exogenous shocks. Tourism accounts for over three-quarters of exports, and the import content of both consumption and foreign direct investment (FDI) is very high (Figure 1). The economy has been buffeted by the global economic downturn, which has hobbled the tourism and construction sectors, with potential spillovers to the financial sector.\n"
     ]
    }
   ],
   "source": [
    "doc_dict = pickle.load(open('./data/xml_docs.p', \"rb\")) \n",
    "ids = list(doc_dict.keys())\n",
    "print('sample document ids: \\n',ids[:5],'\\n')\n",
    "test_docs = doc_dict[ids[0]]\n",
    "print('sample paragraphs: \\n',test_docs.paras[0])"
   ]
  },
  {
   "cell_type": "code",
   "execution_count": 3,
   "metadata": {},
   "outputs": [
    {
     "name": "stdout",
     "output_type": "stream",
     "text": [
      "Total number of paragraphs in the corpus: 255915\n"
     ]
    }
   ],
   "source": [
    "## faltten all paragraphs \n",
    "paras = [doc_dict[i].paras for i in ids]\n",
    "corpus = list()\n",
    "for ps in paras:\n",
    "    corpus.extend(ps)\n",
    "\n",
    "print('Total number of paragraphs in the corpus: {}'.format(len(corpus)))"
   ]
  },
  {
   "cell_type": "markdown",
   "metadata": {},
   "source": [
    "### Tokenize and lemmatize corpus"
   ]
  },
  {
   "cell_type": "code",
   "execution_count": 4,
   "metadata": {},
   "outputs": [],
   "source": [
    "import en_core_web_md\n",
    "nlp = en_core_web_md.load()"
   ]
  },
  {
   "cell_type": "code",
   "execution_count": 5,
   "metadata": {},
   "outputs": [],
   "source": [
    "## single / multi threaded \n",
    "n_core = 30 \n",
    "load = True \n",
    "trigram_reviews_filepath = 'data/lemma_docs.txt'\n",
    "if load:\n",
    "    with open(trigram_reviews_filepath, 'r', encoding='utf_8') as f:\n",
    "        docs_lemma = f.readlines()\n",
    "        docs_lemma = [d.strip('\\n').split() for d in docs_lemma]\n",
    "else:\n",
    "    if n_core == 1:\n",
    "        docs = [nlp(d) for d in corpus]\n",
    "        docs_lemma = [[token.lemma_ for token in doc if not util.punct_space(token) ] for doc in docs]\n",
    "    else:\n",
    "        with open(trigram_reviews_filepath, 'w', encoding='utf_8') as f:\n",
    "            for doc in nlp.pipe(corpus,batch_size=10000,n_threads=n_core):\n",
    "                docs_lemma = [token.lemma_ for token in doc if not util.punct_space(token)]\n",
    "                trigram_para = ' '.join(docs_lemma)\n",
    "                f.write(trigram_para + '\\n')\n",
    "\n",
    "        with open(trigram_reviews_filepath, 'r', encoding='utf_8') as f:\n",
    "            docs_lemma = f.readlines()\n",
    "            docs_lemma = [d.strip('\\n').split() for d in docs_lemma]"
   ]
  },
  {
   "cell_type": "code",
   "execution_count": 6,
   "metadata": {
    "scrolled": true
   },
   "outputs": [
    {
     "name": "stdout",
     "output_type": "stream",
     "text": [
      "4. Real GDP growth slowed in 2007-08. Spurred by preparations for the Cricket World Cup, St. Lucia’s economy grew by about 5 percent in 2006. However, slowing construction and tourism activity, together with a hurricane-induced contraction in banana exports, reduced growth to an estimated 1.7 percent and 0.7 percent in 2007 and 2008, respectively. The unemployment rate increased by three percentage points to 16.8 percent during the same period. Despite being underpinned by the regional currency board arrangement, annual inflation reached 7.2 percent in 2008, reflecting high international prices of energy and food. With the decline in these prices, inflation has fallen to 3.2 percent by end-March 2009.\n",
      "['4', 'real', 'gdp', 'growth', 'slow', 'in', '2007', '08', 'spur', 'by', 'preparation', 'for', 'the', 'cricket', 'world', 'cup', 'st.', 'lucia', '’s', 'economy', 'grow', 'by', 'about', '5', 'percent', 'in', '2006', 'however', 'slow', 'construction', 'and', 'tourism', 'activity', 'together', 'with', 'a', 'hurricane', 'induce', 'contraction', 'in', 'banana', 'export', 'reduce', 'growth', 'to', 'an', 'estimate', '1.7', 'percent', 'and', '0.7', 'percent', 'in', '2007', 'and', '2008', 'respectively', 'the', 'unemployment', 'rate', 'increase', 'by', 'three', 'percentage', 'point', 'to', '16.8', 'percent', 'during', 'the', 'same', 'period', 'despite', 'be', 'underpin', 'by', 'the', 'regional', 'currency', 'board', 'arrangement', 'annual', 'inflation', 'reach', '7.2', 'percent', 'in', '2008', 'reflect', 'high', 'international', 'price', 'of', 'energy', 'and', 'food', 'with', 'the', 'decline', 'in', 'these', 'price', 'inflation', 'have', 'fall', 'to', '3.2', 'percent', 'by', 'end', 'march', '2009']\n"
     ]
    }
   ],
   "source": [
    "print(corpus[3])\n",
    "print(docs_lemma[3])"
   ]
  },
  {
   "cell_type": "markdown",
   "metadata": {},
   "source": [
    "### Bigram and Trigram transform"
   ]
  },
  {
   "cell_type": "code",
   "execution_count": 7,
   "metadata": {
    "scrolled": true
   },
   "outputs": [],
   "source": [
    "train_phrase_model = False\n",
    "bigram_transformer_path = os.path.join('data','bigram_transformer')\n",
    "trigram_transformer_path = os.path.join('data','trigram_transformer')\n",
    "common_terms = ['a','an','of',',','i','about','to',\"with\", \"without\"]\n",
    "\n",
    "if train_phrase_model: \n",
    "    paras = util.phrase_detect_train(docs_lemma,min_count=10,threshold=15,common_terms=common_terms,phrase_model_save_path='./data/bigram')\n",
    "    paras = util.phrase_detect_train(paras,min_count=10,threshold=15,common_terms=common_terms,phrase_model_save_path='./data/trigram')\n",
    "else:\n",
    "    bigram_transformer = Phraser.load(bigram_transformer_path)\n",
    "    trigram_transformer = Phraser.load(trigram_transformer_path)\n",
    "    paras = util.phrase_detect(bigram_transformer,trigram_transformer,docs_lemma) \n",
    "    "
   ]
  },
  {
   "cell_type": "markdown",
   "metadata": {},
   "source": [
    "- exam phrases"
   ]
  },
  {
   "cell_type": "code",
   "execution_count": 8,
   "metadata": {},
   "outputs": [
    {
     "name": "stdout",
     "output_type": "stream",
     "text": [
      "b'st. lucia' 8940797.333333334\n",
      "b'highly vulnerable' 111.43352532509945\n",
      "b'exogenous shock' 530.652559063452\n",
      "b'three quarter' 42.71415494158645\n",
      "b'import content' 117.81433383936209\n",
      "b'foreign direct' 40.30253436117819\n",
      "b'figure 1' 23.037583272373663\n",
      "b'exogenous shocks' 140299.9065190652\n",
      "b'rac esf' 81261.88405797101\n",
      "b'rac esf' 81261.88405797101\n",
      "b'adverse impact' 22.163130299899233\n"
     ]
    }
   ],
   "source": [
    "trigram = Phraser.load('data/trigram')\n",
    "trigram_transformer = Phraser.load('data/trigram_transformer')\n",
    "for phrase, score in trigram.export_phrases(docs_lemma[:2]):\n",
    "     print(phrase,score)"
   ]
  },
  {
   "cell_type": "code",
   "execution_count": 10,
   "metadata": {},
   "outputs": [],
   "source": [
    "with open('./data/processed_corpus.p','wb') as f:\n",
    "    pickle.dump(paras,f)"
   ]
  },
  {
   "cell_type": "code",
   "execution_count": 12,
   "metadata": {},
   "outputs": [],
   "source": [
    "# with open('./data/processed_corpus.p','rb') as f:\n",
    "#     cs = pickle.load(f)"
   ]
  },
  {
   "cell_type": "code",
   "execution_count": null,
   "metadata": {},
   "outputs": [],
   "source": []
  }
 ],
 "metadata": {
  "kernelspec": {
   "display_name": "Python 3",
   "language": "python",
   "name": "python3"
  },
  "language_info": {
   "codemirror_mode": {
    "name": "ipython",
    "version": 3
   },
   "file_extension": ".py",
   "mimetype": "text/x-python",
   "name": "python",
   "nbconvert_exporter": "python",
   "pygments_lexer": "ipython3",
   "version": "3.6.6"
  }
 },
 "nbformat": 4,
 "nbformat_minor": 2
}
