{
 "cells": [
  {
   "cell_type": "markdown",
   "metadata": {},
   "source": [
    "# Implementation of TextRank\n",
    "(Based on: https://web.eecs.umich.edu/~mihalcea/papers/mihalcea.emnlp04.pdf)"
   ]
  },
  {
   "cell_type": "markdown",
   "metadata": {},
   "source": [
    "The input text is given below"
   ]
  },
  {
   "cell_type": "code",
   "execution_count": 1,
   "metadata": {},
   "outputs": [],
   "source": [
    "file_path = 'doc_1.txt'\n",
    "with open(file_path, 'r') as f:\n",
    "    text = f.readlines()\n",
    "Text = [c.strip('\\n') for c in text if len(c)>40]\n",
    "Text = ' '.join(Text)"
   ]
  },
  {
   "cell_type": "code",
   "execution_count": 37,
   "metadata": {},
   "outputs": [],
   "source": [
    "from gensim.summarization import keywords\n",
    "from gensim.summarization.keywords import get_graph\n",
    "from gensim.summarization.pagerank_weighted import pagerank_weighted\n"
   ]
  },
  {
   "cell_type": "code",
   "execution_count": 41,
   "metadata": {},
   "outputs": [],
   "source": [
    "graph = get_graph(Text)"
   ]
  },
  {
   "cell_type": "code",
   "execution_count": 46,
   "metadata": {},
   "outputs": [],
   "source": [
    "import operator\n",
    "result = pagerank_weighted(graph)\n",
    "sorted_x = sorted(result.items(),reverse=True,key=operator.itemgetter(1))"
   ]
  },
  {
   "cell_type": "code",
   "execution_count": 48,
   "metadata": {},
   "outputs": [],
   "source": [
    "import pandas as pd"
   ]
  },
  {
   "cell_type": "code",
   "execution_count": 49,
   "metadata": {},
   "outputs": [],
   "source": [
    "df = pd.DataFrame(sorted_x)"
   ]
  },
  {
   "cell_type": "code",
   "execution_count": 53,
   "metadata": {},
   "outputs": [
    {
     "data": {
      "text/plain": [
       "15.062458327288375"
      ]
     },
     "execution_count": 53,
     "metadata": {},
     "output_type": "execute_result"
    }
   ],
   "source": [
    "df[1].sum()"
   ]
  },
  {
   "cell_type": "code",
   "execution_count": 36,
   "metadata": {},
   "outputs": [
    {
     "data": {
      "text/plain": [
       "[('policies', 0.19240481053501435),\n",
       " ('debt', 0.18738899830538402),\n",
       " ('globally', 0.17887859507159526),\n",
       " ('countries', 0.17663461614629378),\n",
       " ('growth', 0.16748904066315767),\n",
       " ('sustainable', 0.1666222230827831),\n",
       " ('financial', 0.1582897407996899),\n",
       " ('bank', 0.15494729390859266),\n",
       " ('financing', 0.1533911340041566),\n",
       " ('enhanced', 0.14331676709945917),\n",
       " ('management', 0.13999689735802348),\n",
       " ('remain', 0.12607457806689876),\n",
       " ('including', 0.121085346786063),\n",
       " ('productivity', 0.12013352557994032),\n",
       " ('risks', 0.11936168118288935),\n",
       " ('supports', 0.11198854485646975),\n",
       " ('working', 0.111499973924566),\n",
       " ('international', 0.11093249720991276),\n",
       " ('sector', 0.10217593542622369),\n",
       " ('develop', 0.10082542313056617),\n",
       " ('strong', 0.09825522455276371),\n",
       " ('term', 0.09469573564000999),\n",
       " ('quota', 0.08901405308111261),\n",
       " ('share', 0.0887439962454196),\n",
       " ('resourced', 0.08349955812060139),\n",
       " ('address', 0.08071405007659908),\n",
       " ('based', 0.08057787489960086),\n",
       " ('inclusive', 0.07954313709845132),\n",
       " ('lic', 0.07946666158127928)]"
      ]
     },
     "execution_count": 36,
     "metadata": {},
     "output_type": "execute_result"
    }
   ],
   "source": [
    "keywords(Text,ratio=0.1, split=True,scores=True,lemmatize=True,pos_filter=('NN','NNS','NNP','NNPS','JJ','JJR','JJS'))"
   ]
  },
  {
   "cell_type": "markdown",
   "metadata": {},
   "source": [
    "### Cleaning Text Data\n",
    "\n",
    "The raw input text is cleaned off non-printable characters (if any) and turned into lower case.\n",
    "The processed input text is then tokenized using NLTK library functions. "
   ]
  },
  {
   "cell_type": "code",
   "execution_count": 2,
   "metadata": {
    "scrolled": true
   },
   "outputs": [
    {
     "name": "stdout",
     "output_type": "stream",
     "text": [
      "Tokenized Text: \n",
      "\n",
      "['the', 'committee', 'expresses', 'its', 'deep', 'gratitude', 'to', 'its', 'former', 'chair', ',', 'mr.', 'agustn', 'carstens', ',', 'for', 'his', 'invaluable', 'contribution', 'to', 'the', 'work', 'of', 'the', 'committee', 'during', '2015-17', ',', 'and', 'extends']\n"
     ]
    }
   ],
   "source": [
    "\n",
    "import nltk\n",
    "from nltk import word_tokenize\n",
    "import string\n",
    "\n",
    "#nltk.download('punkt')\n",
    "\n",
    "def clean(text):\n",
    "    text = text.lower()\n",
    "    printable = set(string.printable)\n",
    "    #text = filter(lambda x: x in printable, text) #filter funny characters, if any.\n",
    "    text = [x for x in text if x in printable]\n",
    "    text = ''.join(text)\n",
    "    return text\n",
    "\n",
    "Cleaned_text = clean(Text)\n",
    "\n",
    "text = word_tokenize(Cleaned_text)\n",
    "\n",
    "print (\"Tokenized Text: \\n\")\n",
    "print (text[:30])"
   ]
  },
  {
   "cell_type": "markdown",
   "metadata": {},
   "source": [
    "### POS Tagging For Lemmatization\n",
    "\n",
    "NLTK is again used for <b>POS tagging</b> the input text so that the words can be lemmatized based on their POS tags.\n",
    "\n",
    "Description of POS tags: \n",
    "\n",
    "\n",
    "http://www.ling.upenn.edu/courses/Fall_2003/ling001/penn_treebank_pos.html"
   ]
  },
  {
   "cell_type": "code",
   "execution_count": 3,
   "metadata": {},
   "outputs": [
    {
     "name": "stdout",
     "output_type": "stream",
     "text": [
      "Tokenized Text with POS tags: \n",
      "\n",
      "[('the', 'DT'), ('committee', 'NN'), ('expresses', 'VBZ'), ('its', 'PRP$'), ('deep', 'JJ'), ('gratitude', 'NN'), ('to', 'TO'), ('its', 'PRP$'), ('former', 'JJ'), ('chair', 'NN'), (',', ','), ('mr.', 'FW'), ('agustn', 'FW'), ('carstens', 'NNS'), (',', ','), ('for', 'IN'), ('his', 'PRP$'), ('invaluable', 'JJ'), ('contribution', 'NN'), ('to', 'TO')]\n"
     ]
    }
   ],
   "source": [
    "#nltk.download('averaged_perceptron_tagger')\n",
    "  \n",
    "POS_tag = nltk.pos_tag(text)\n",
    "print (\"Tokenized Text with POS tags: \\n\")\n",
    "print (POS_tag[:20])"
   ]
  },
  {
   "cell_type": "markdown",
   "metadata": {},
   "source": [
    "### Lemmatization\n",
    "\n",
    "The tokenized text (mainly the nouns and adjectives) is normalized by <b>lemmatization</b>.\n",
    "In lemmatization different grammatical counterparts of a word will be replaced by single\n",
    "basic lemma. For example, 'glasses' may be replaced by 'glass'. \n",
    "\n",
    "Details about lemmatization: \n",
    "    \n",
    "https://nlp.stanford.edu/IR-book/html/htmledition/stemming-and-lemmatization-1.html"
   ]
  },
  {
   "cell_type": "code",
   "execution_count": 4,
   "metadata": {},
   "outputs": [
    {
     "name": "stdout",
     "output_type": "stream",
     "text": [
      "Text tokens after lemmatization of adjectives and nouns: \n",
      "\n",
      "['the', 'committee', 'express', 'it', 'deep', 'gratitude', 'to', 'it', 'former', 'chair', ',', 'mr.', 'agustn', 'carstens', ',', 'for', 'his', 'invaluable', 'contribution', 'to']\n"
     ]
    }
   ],
   "source": [
    "#nltk.download('wordnet')\n",
    "\n",
    "from nltk.stem import WordNetLemmatizer\n",
    "\n",
    "wordnet_lemmatizer = WordNetLemmatizer()\n",
    "\n",
    "adjective_tags = ['JJ','JJR','JJS']\n",
    "\n",
    "lemmatized_text = []\n",
    "\n",
    "for word in POS_tag:\n",
    "    if word[1] in adjective_tags:\n",
    "        lemmatized_text.append(str(wordnet_lemmatizer.lemmatize(word[0],pos=\"a\")))\n",
    "    else:\n",
    "        lemmatized_text.append(str(wordnet_lemmatizer.lemmatize(word[0]))) #default POS = noun\n",
    "        \n",
    "print (\"Text tokens after lemmatization of adjectives and nouns: \\n\")\n",
    "print (lemmatized_text[:20])"
   ]
  },
  {
   "cell_type": "markdown",
   "metadata": {},
   "source": [
    "### POS tagging for Filtering\n",
    "\n",
    "The <b>lemmatized text</b> is <b>POS tagged</b> here. The tags will be used for filtering later on."
   ]
  },
  {
   "cell_type": "code",
   "execution_count": 5,
   "metadata": {},
   "outputs": [
    {
     "name": "stdout",
     "output_type": "stream",
     "text": [
      "Lemmatized text with POS tags: \n",
      "\n",
      "[('the', 'DT'), ('committee', 'NN'), ('express', 'NN'), ('it', 'PRP'), ('deep', 'JJ'), ('gratitude', 'NN'), ('to', 'TO'), ('it', 'PRP'), ('former', 'JJ'), ('chair', 'NN'), (',', ','), ('mr.', 'FW'), ('agustn', 'FW'), ('carstens', 'NNS'), (',', ','), ('for', 'IN'), ('his', 'PRP$'), ('invaluable', 'JJ'), ('contribution', 'NN'), ('to', 'TO')]\n"
     ]
    }
   ],
   "source": [
    "POS_tag = nltk.pos_tag(lemmatized_text)\n",
    "\n",
    "print (\"Lemmatized text with POS tags: \\n\")\n",
    "print (POS_tag[:20])"
   ]
  },
  {
   "cell_type": "markdown",
   "metadata": {},
   "source": [
    "## POS Based Filtering\n",
    "\n",
    "Any word from the lemmatized text, which isn't a noun, adjective, or gerund (or a 'foreign word'), is here\n",
    "considered as a <b>stopword</b> (non-content). This is based on the assumption that usually keywords are noun,\n",
    "adjectives or gerunds. \n",
    "\n",
    "Punctuations are added to the stopword list too."
   ]
  },
  {
   "cell_type": "code",
   "execution_count": 6,
   "metadata": {},
   "outputs": [],
   "source": [
    "stopwords = []\n",
    "\n",
    "wanted_POS = ['NN','NNS','NNP','NNPS','JJ','JJR','JJS']#,'VBG','FW'] \n",
    "\n",
    "for word in POS_tag:\n",
    "    if word[1] not in wanted_POS:\n",
    "        stopwords.append(word[0])\n",
    "\n",
    "punctuations = list(str(string.punctuation))\n",
    "\n",
    "stopwords = stopwords + punctuations"
   ]
  },
  {
   "cell_type": "markdown",
   "metadata": {},
   "source": [
    "### Complete stopword generation\n",
    "\n",
    "Even if we remove the aforementioned stopwords, still some extremely common nouns, adjectives or gerunds may\n",
    "remain which are very bad candidates for being keywords (or part of it). \n",
    "\n",
    "An external file constituting a long list of stopwords is loaded and all the words are added with the previous\n",
    "stopwords to create the final list 'stopwords-plus' which is then converted into a set. \n",
    "\n",
    "(Source of stopwords data: https://www.ranks.nl/stopwords)\n",
    "\n",
    "Stopwords-plus constitute the sum total of all stopwords and potential phrase-delimiters. \n",
    "\n",
    "(The contents of this set will be later used to partition the lemmatized text into n-gram phrases. But, for now, I will simply remove the stopwords, and work with a 'bag-of-words' approach. I will be developing the graph using unigram texts as vertices)"
   ]
  },
  {
   "cell_type": "code",
   "execution_count": 7,
   "metadata": {},
   "outputs": [],
   "source": [
    "with open(\"long_stopwords.txt\", \"r\") as stopword_file:\n",
    "    #Source = https://www.ranks.nl/stopwords\n",
    "    lots_of_stopwords = []\n",
    "\n",
    "    for line in stopword_file.readlines():\n",
    "        lots_of_stopwords.append(str(line.strip()))\n",
    "    \n",
    "stopwords_plus = []\n",
    "stopwords_plus = stopwords + lots_of_stopwords\n",
    "stopwords_plus = set(stopwords_plus)\n",
    "\n",
    "#Stopwords_plus contain total set of all stopwords"
   ]
  },
  {
   "cell_type": "markdown",
   "metadata": {},
   "source": [
    "### Removing Stopwords \n",
    "\n",
    "Removing stopwords from lemmatized_text. \n",
    "Processeced_text condtains the result."
   ]
  },
  {
   "cell_type": "code",
   "execution_count": 8,
   "metadata": {},
   "outputs": [
    {
     "name": "stdout",
     "output_type": "stream",
     "text": [
      "['committee', 'express', 'deep', 'gratitude', 'chair', 'carstens', 'invaluable', 'contribution', 'committee', '2015-17', 'best', 'general', 'manager', 'bank', 'international', 'settlement', 'committee', 'governor', 'lesetja', 'chairman']\n"
     ]
    }
   ],
   "source": [
    "processed_text = []\n",
    "for word in lemmatized_text:\n",
    "    if word not in stopwords_plus:\n",
    "        processed_text.append(word)\n",
    "print (processed_text[:20])"
   ]
  },
  {
   "cell_type": "markdown",
   "metadata": {},
   "source": [
    "## Vocabulary Creation\n",
    "\n",
    "Vocabulary will only contain unique words from processed_text."
   ]
  },
  {
   "cell_type": "code",
   "execution_count": 9,
   "metadata": {},
   "outputs": [
    {
     "name": "stdout",
     "output_type": "stream",
     "text": [
      "['security', 'competitive', 'youth', 'market', 'feasible', 'candid', 'central', 'investment', 'stakeholder', 'laundering']\n"
     ]
    }
   ],
   "source": [
    "vocabulary = list(set(processed_text))\n",
    "print (vocabulary[:10])"
   ]
  },
  {
   "cell_type": "markdown",
   "metadata": {},
   "source": [
    "### Building Graph\n",
    "\n",
    "TextRank is a graph based model, and thus it requires us to build a graph. Each words in the vocabulary will serve as a vertex for graph. The words will be represented in the vertices by their index in vocabulary list.  \n",
    "\n",
    "The weighted_edge matrix contains the information of edge connections among all vertices.\n",
    "I am building wieghted undirected edges.\n",
    "\n",
    "weighted_edge[i][j] contains the weight of the connecting edge between the word vertex represented by vocabulary index i and the word vertex represented by vocabulary j.\n",
    "\n",
    "If weighted_edge[i][j] is zero, it means no edge connection is present between the words represented by index i and j.\n",
    "\n",
    "There is a connection between the words (and thus between i and j which represents them) if the words co-occur within a window of a specified 'window_size' in the processed_text.\n",
    "\n",
    "The value of the weighted_edge[i][j] is increased by (1/(distance between positions of words currently represented by i and j)) for every connection discovered between the same words in different locations of the text. \n",
    "\n",
    "The covered_coocurrences list (which is contain the list of pairs of absolute positions in processed_text of the words whose coocurrence at that location is already checked) is managed so that the same two words located in the same positions in processed_text are not repetitively counted while sliding the window one text unit at a time.\n",
    "\n",
    "The score of all vertices are intialized to one. \n",
    "\n",
    "Self-connections are not considered, so weighted_edge[i][i] will be zero."
   ]
  },
  {
   "cell_type": "code",
   "execution_count": 10,
   "metadata": {},
   "outputs": [],
   "source": [
    "import numpy as np\n",
    "import math\n",
    "vocab_len = len(vocabulary)\n",
    "\n",
    "weighted_edge = np.zeros((vocab_len,vocab_len),dtype=np.float32)\n",
    "\n",
    "score = np.zeros((vocab_len),dtype=np.float32)\n",
    "window_size = 5\n",
    "covered_coocurrences = []\n",
    "\n",
    "for i in range(0,vocab_len):\n",
    "    score[i]=1\n",
    "    for j in range(0,vocab_len):\n",
    "        if j==i:\n",
    "            weighted_edge[i][j]=0\n",
    "        else:\n",
    "            for window_start in range(0,(len(processed_text)-window_size)):\n",
    "                \n",
    "                window_end = window_start+window_size\n",
    "                \n",
    "                window = processed_text[window_start:window_end]\n",
    "                \n",
    "                if (vocabulary[i] in window) and (vocabulary[j] in window):\n",
    "                    \n",
    "                    index_of_i = window_start + window.index(vocabulary[i])\n",
    "                    index_of_j = window_start + window.index(vocabulary[j])\n",
    "                    \n",
    "                    # index_of_x is the absolute position of the xth term in the window \n",
    "                    # (counting from 0) \n",
    "                    # in the processed_text\n",
    "                      \n",
    "                    if [index_of_i,index_of_j] not in covered_coocurrences:\n",
    "                        weighted_edge[i][j]+=1/math.fabs(index_of_i-index_of_j)\n",
    "                        covered_coocurrences.append([index_of_i,index_of_j])\n"
   ]
  },
  {
   "cell_type": "markdown",
   "metadata": {},
   "source": [
    "### Calculating weighted summation of connections of a vertex\n",
    "\n",
    "inout[i] will contain the sum of all the undirected connections\\edges associated withe the vertex represented by i."
   ]
  },
  {
   "cell_type": "code",
   "execution_count": 11,
   "metadata": {},
   "outputs": [],
   "source": [
    "inout = weighted_edge.sum(axis=0) ## sum up all edges for each node"
   ]
  },
  {
   "cell_type": "markdown",
   "metadata": {},
   "source": [
    "### Scoring Vertices\n",
    "\n",
    "The formula used for scoring a vertex represented by i is:\n",
    "\n",
    "score[i] = (1-d) + d x [ Summation(j) ( (weighted_edge[i][j]/inout[j]) x score[j] ) ] where j belongs to the list of vertieces that has a connection with i. \n",
    "\n",
    "d is the damping factor.\n",
    "\n",
    "The score is iteratively updated until convergence. "
   ]
  },
  {
   "cell_type": "code",
   "execution_count": 12,
   "metadata": {},
   "outputs": [
    {
     "name": "stdout",
     "output_type": "stream",
     "text": [
      "Converging at iteration 28....\n"
     ]
    }
   ],
   "source": [
    "MAX_ITERATIONS = 50\n",
    "d=0.85\n",
    "threshold = 0.0001 #convergence threshold\n",
    "\n",
    "for iter in range(0,MAX_ITERATIONS):\n",
    "    prev_score = np.copy(score)\n",
    "    for i in range(0,vocab_len):\n",
    "        \n",
    "        summation = 0\n",
    "        for j in range(0,vocab_len):\n",
    "            if weighted_edge[i][j] != 0:\n",
    "                summation += (weighted_edge[i][j]/inout[j])*score[j]\n",
    "                \n",
    "        score[i] = (1-d) + d*(summation)\n",
    "    \n",
    "    if np.sum(np.fabs(prev_score-score)) <= threshold: #convergence condition\n",
    "        print (\"Converging at iteration \"+str(iter)+\"....\")\n",
    "        break\n"
   ]
  },
  {
   "cell_type": "code",
   "execution_count": 23,
   "metadata": {},
   "outputs": [
    {
     "data": {
      "text/plain": [
       "[('imf', 5.4709663),\n",
       " ('financial', 5.3652406),\n",
       " ('policy', 4.8876224),\n",
       " ('growth', 4.6417966),\n",
       " ('debt', 4.61518),\n",
       " ('country', 3.8036475),\n",
       " ('global', 3.4966393),\n",
       " ('effort', 3.3871896),\n",
       " ('sustainable', 3.1990373),\n",
       " ('review', 2.5455973),\n",
       " ('trade', 2.519084),\n",
       " ('member', 2.498216),\n",
       " ('risk', 2.4690132),\n",
       " ('rate', 2.422165),\n",
       " ('international', 2.4209523),\n",
       " ('exchange', 2.4022324),\n",
       " ('share', 2.4010665),\n",
       " ('strong', 2.3505595),\n",
       " ('vulnerability', 2.1975222),\n",
       " ('challenge', 2.1331594),\n",
       " ('economy', 2.053238),\n",
       " ('reform', 1.9809927),\n",
       " ('bank', 1.9644489),\n",
       " ('financing', 1.9233546),\n",
       " ('system', 1.8835435),\n",
       " ('monetary', 1.8783695),\n",
       " ('program', 1.8771497),\n",
       " ('framework', 1.8296367),\n",
       " ('tax', 1.8191645),\n",
       " ('sector', 1.787791),\n",
       " ('sustainability', 1.7673078),\n",
       " ('contribution', 1.7141176),\n",
       " ('quota', 1.694953),\n",
       " ('implementation', 1.6374624),\n",
       " ('collaboration', 1.6023885),\n",
       " ('general', 1.58237),\n",
       " ('consequence', 1.5727794),\n",
       " ('imfs', 1.5708778),\n",
       " ('committee', 1.5648421),\n",
       " ('technology', 1.562241),\n",
       " ('issue', 1.5456166),\n",
       " ('management', 1.5400517),\n",
       " ('excessive', 1.5357625),\n",
       " ('practice', 1.526565),\n",
       " ('productivity', 1.5178093),\n",
       " ('medium-term', 1.4988163),\n",
       " ('macroeconomic', 1.4925278),\n",
       " ('inclusion', 1.4755707),\n",
       " ('progress', 1.4549896),\n",
       " ('stability', 1.4491885),\n",
       " ('resilience', 1.4465693),\n",
       " ('meeting', 1.4458299),\n",
       " ('lic', 1.4342002),\n",
       " ('market', 1.4180299),\n",
       " ('capacity', 1.4008151),\n",
       " ('fiscal', 1.3927935),\n",
       " ('development', 1.3925611),\n",
       " ('crisis', 1.2535591),\n",
       " ('refugee', 1.2380382),\n",
       " ('state', 1.1739111),\n",
       " ('fragile', 1.1701227),\n",
       " ('full', 1.1682959),\n",
       " ('effectiveness', 1.1549265),\n",
       " ('g-20', 1.1351149),\n",
       " ('cyber', 1.1333992),\n",
       " ('board', 1.1244183),\n",
       " ('adverse', 1.1189636),\n",
       " ('flexible', 1.1000687),\n",
       " ('governor', 1.099694),\n",
       " ('report', 1.0991561),\n",
       " ('digitalization', 1.0926889),\n",
       " ('appropriate', 1.0864679),\n",
       " ('corruption', 1.0830864),\n",
       " ('flow', 1.0818278),\n",
       " ('governance', 1.0716012),\n",
       " ('labor', 1.0711107),\n",
       " ('economic', 1.0707725),\n",
       " ('gfsn', 1.0688807),\n",
       " ('commitment', 1.067954),\n",
       " ('potential', 1.053179),\n",
       " ('role', 1.0503727),\n",
       " ('data', 1.0496334),\n",
       " ('investment', 1.0494876),\n",
       " ('gap', 1.0494187),\n",
       " ('surveillance', 1.0425384),\n",
       " ('tool', 1.0368091),\n",
       " ('mandate', 1.0326409),\n",
       " ('central', 1.0294422),\n",
       " ('assessment', 1.0275736),\n",
       " ('prospect', 1.0250255),\n",
       " ('inclusive', 1.0239805),\n",
       " ('strategy', 1.022585),\n",
       " ('goal', 1.0154725),\n",
       " ('high', 1.0134624),\n",
       " ('ims', 1.0120122),\n",
       " ('competitive', 1.0024252),\n",
       " ('imbalance', 0.9969654),\n",
       " ('gender', 0.982437),\n",
       " ('debtor', 0.97731495),\n",
       " ('creditor', 0.97365665),\n",
       " ('lics', 0.9615468),\n",
       " ('sdgs', 0.95322293),\n",
       " ('transparency', 0.9530832),\n",
       " ('inflation', 0.8997178),\n",
       " ('procyclicality', 0.81478584),\n",
       " ('space', 0.81309),\n",
       " ('energy', 0.8066631),\n",
       " ('chair', 0.8038155),\n",
       " ('scarcity', 0.8031464),\n",
       " ('avoid', 0.8013914),\n",
       " ('disaster', 0.7976565),\n",
       " ('infrastructure', 0.79295397),\n",
       " ('carstens', 0.7890989),\n",
       " ('conflict', 0.78784907),\n",
       " ('natural', 0.7778955),\n",
       " ('gratitude', 0.77753496),\n",
       " ('buffer', 0.7760718),\n",
       " ('workforce', 0.7664806),\n",
       " ('executive', 0.7638784),\n",
       " ('migration', 0.7609782),\n",
       " ('invaluable', 0.7535033),\n",
       " ('change', 0.7508497),\n",
       " ('rebuild', 0.7414001),\n",
       " ('skill', 0.73389095),\n",
       " ('deep', 0.73040104),\n",
       " ('coverage', 0.7286331),\n",
       " ('spillover', 0.7221661),\n",
       " ('prevention', 0.7220559),\n",
       " ('money', 0.72128177),\n",
       " ('adapt', 0.71229446),\n",
       " ('channel', 0.70766884),\n",
       " ('climate', 0.7062563),\n",
       " ('humanitarian', 0.69807255),\n",
       " ('growth-friendly', 0.69463825),\n",
       " ('laundering', 0.68857527),\n",
       " ('source', 0.6874985),\n",
       " ('2015-17', 0.68635845),\n",
       " ('macro-critical', 0.68263024),\n",
       " ('public', 0.6803777),\n",
       " ('traction', 0.6772966),\n",
       " ('unemployment', 0.67574114),\n",
       " ('banking', 0.66932434),\n",
       " ('small', 0.6691011),\n",
       " ('impact', 0.6681927),\n",
       " ('conditionality', 0.6672895),\n",
       " ('regard', 0.6667017),\n",
       " ('correspondent', 0.6658732),\n",
       " ('youth', 0.66518795),\n",
       " ('best', 0.6646711),\n",
       " ('ieo', 0.6638124),\n",
       " ('basis', 0.66346896),\n",
       " ('hamburg', 0.6630165),\n",
       " ('design', 0.66265017),\n",
       " ('response', 0.6618488),\n",
       " ('evenhandedness', 0.6604527),\n",
       " ('borrowing', 0.6599903),\n",
       " ('adjustment', 0.6597993),\n",
       " ('terrorism', 0.65893364),\n",
       " ('summit', 0.65879583),\n",
       " ('relationship', 0.6587834),\n",
       " ('volatility', 0.65709263),\n",
       " ('absorber', 0.656825),\n",
       " ('disorderly', 0.65595555),\n",
       " ('shock', 0.6548059),\n",
       " ('proliferation', 0.6542833),\n",
       " ('cost', 0.65424675),\n",
       " ('bilateral', 0.6527515),\n",
       " ('resource', 0.6521103),\n",
       " ('agreement', 0.65195763),\n",
       " ('mobilization', 0.65184736),\n",
       " ('action', 0.65173846),\n",
       " ('evaluationthe', 0.6506221),\n",
       " ('dialogue', 0.65057284),\n",
       " ('formula', 0.65011424),\n",
       " ('withdrawal', 0.64607185),\n",
       " ('institutional', 0.6446541),\n",
       " ('plan', 0.64393073),\n",
       " ('improvement', 0.643912),\n",
       " ('facility', 0.64302975),\n",
       " ('consistent', 0.6422597),\n",
       " ('measure', 0.64187384),\n",
       " ('platform', 0.6413858),\n",
       " ('director', 0.6411407),\n",
       " ('imf-supported', 0.6405012),\n",
       " ('digital', 0.6399045),\n",
       " ('finding', 0.63825864),\n",
       " ('skewed', 0.6375528),\n",
       " ('conclusion', 0.6371938),\n",
       " ('lesetja', 0.6370581),\n",
       " ('domestic', 0.63697886),\n",
       " ('relative', 0.63656664),\n",
       " ('movement', 0.63589346),\n",
       " ('capital', 0.6351369),\n",
       " ('downside', 0.6338039),\n",
       " ('increased', 0.632468),\n",
       " ('employment', 0.6324594),\n",
       " ('manager', 0.63221824),\n",
       " ('settlement', 0.6320175),\n",
       " ('feasible', 0.6318469),\n",
       " ('term', 0.6308287),\n",
       " ('express', 0.63022333),\n",
       " ('asset', 0.6292814),\n",
       " ('poor', 0.6292641),\n",
       " ('chairman', 0.62911373),\n",
       " ('representation', 0.62879825),\n",
       " ('high-quality', 0.6287112),\n",
       " ('view', 0.6286451),\n",
       " ('stock-take', 0.627118),\n",
       " ('crypto', 0.62703484),\n",
       " ('realignment', 0.6265895),\n",
       " ('annual', 0.6252066),\n",
       " ('position', 0.6247839),\n",
       " ('time', 0.6236331),\n",
       " ('opportunity', 0.6218528),\n",
       " ('completion', 0.6207141),\n",
       " ('fair', 0.6197472),\n",
       " ('force', 0.61951625),\n",
       " ('large', 0.61920786),\n",
       " ('regional', 0.6184471),\n",
       " ('measurement', 0.6179173),\n",
       " ('quarter', 0.6167439),\n",
       " ('purpose', 0.61671126),\n",
       " ('open', 0.6158055),\n",
       " ('pandemic', 0.6155488),\n",
       " ('social', 0.6154022),\n",
       " ('candid', 0.6150285),\n",
       " ('integration', 0.6145326),\n",
       " ('illicit', 0.6143094),\n",
       " ('net', 0.61385626),\n",
       " ('stakeholder', 0.61365265),\n",
       " ('relevant', 0.6133866),\n",
       " ('interim', 0.6133157),\n",
       " ('initiative', 0.6112109),\n",
       " ('voice', 0.61088175),\n",
       " ('transparent', 0.6102641),\n",
       " ('remittance', 0.6101542),\n",
       " ('solution', 0.60917896),\n",
       " ('manage', 0.6090044),\n",
       " ('protection', 0.60883284),\n",
       " ('ha', 0.6082031),\n",
       " ('participation', 0.60806274),\n",
       " ('window', 0.6077038),\n",
       " ('security', 0.60639185),\n",
       " ('weak', 0.60635173),\n",
       " ('broad-based', 0.6052017),\n",
       " ('revenue', 0.6050942),\n",
       " ('finance', 0.6047826),\n",
       " ('gdp', 0.60456216),\n",
       " ('arrangement', 0.6042729),\n",
       " ('safety', 0.6038931),\n",
       " ('rigorous', 0.6028007),\n",
       " ('involvement', 0.60270166),\n",
       " ('dynamic', 0.6023472),\n",
       " ('tailored', 0.6021588),\n",
       " ('staff', 0.60212463),\n",
       " ('current', 0.60205585),\n",
       " ('inflow', 0.60172856),\n",
       " ('inequality', 0.6004577),\n",
       " ('analysis', 0.6001794),\n",
       " ('rebound', 0.5988114),\n",
       " ('center', 0.5987153),\n",
       " ('structural', 0.5983176),\n",
       " ('clear', 0.5980762),\n",
       " ('aml/cft', 0.59730977),\n",
       " ('gain', 0.59724945),\n",
       " ('upswing', 0.5971702),\n",
       " ('process', 0.5970839),\n",
       " ('path', 0.5964834),\n",
       " ('competition', 0.5963348),\n",
       " ('demographic', 0.5947467),\n",
       " ('implication', 0.594602),\n",
       " ('headwind', 0.5932338),\n",
       " ('geopolitical', 0.5915149),\n",
       " ('tension', 0.59028685),\n",
       " ('authority', 0.5899156),\n",
       " ('collaborate', 0.58930945),\n",
       " ('update', 0.58748364),\n",
       " ('sound', 0.5867486),\n",
       " ('fundamental', 0.58573663),\n",
       " ('upgrade', 0.58499384),\n",
       " ('external', 0.5834022),\n",
       " ('stable', 0.58324957),\n",
       " ('devaluation', 0.5816137),\n",
       " ('accountability', 0.5807064),\n",
       " ('spring', 0.58063245),\n",
       " ('modern', 0.5797347),\n",
       " ('engagement', 0.57922715),\n",
       " ('resilient', 0.5774814),\n",
       " ('finalization', 0.57553685),\n",
       " ('group', 0.57321924),\n",
       " ('multi-pronged', 0.5715975),\n",
       " ('quota-based', 0.57113004),\n",
       " ('safeguard', 0.56999093),\n",
       " ('job-rich', 0.5675392),\n",
       " ('lending', 0.5675378),\n",
       " ('mindful', 0.56534564),\n",
       " ('benefit', 0.56519115),\n",
       " ('essential', 0.56323695),\n",
       " ('threaten', 0.56298953),\n",
       " ('access', 0.5610248),\n",
       " ('accommodation', 0.555827),\n",
       " ('diversity', 0.54958725),\n",
       " ('low-income', 0.5093063)]"
      ]
     },
     "execution_count": 23,
     "metadata": {},
     "output_type": "execute_result"
    }
   ],
   "source": [
    "scores = zip(vocabulary,score)\n",
    "sorted(scores, reverse=True,key=lambda t: t[1])"
   ]
  },
  {
   "cell_type": "markdown",
   "metadata": {},
   "source": [
    "### Phrase Partiotioning\n",
    "\n",
    "Paritioning lemmatized_text into phrases using the stopwords in it as delimeters.\n",
    "The phrases are also candidates for keyphrases to be extracted. "
   ]
  },
  {
   "cell_type": "code",
   "execution_count": 24,
   "metadata": {},
   "outputs": [
    {
     "name": "stdout",
     "output_type": "stream",
     "text": [
      "Partitioned Phrases (Candidate Keyphrases): \n",
      "\n",
      "[['committee', 'express'], ['deep', 'gratitude'], ['chair'], ['carstens'], ['invaluable', 'contribution'], ['committee'], ['2015-17'], ['best'], ['general', 'manager'], ['bank'], ['international', 'settlement'], ['committee'], ['governor', 'lesetja'], ['chairman'], ['global', 'growth', 'ha'], ['broad-based'], ['strong', 'rebound'], ['investment'], ['trade'], ['risk']]\n"
     ]
    }
   ],
   "source": [
    "phrases = []\n",
    "\n",
    "phrase = \" \"\n",
    "for word in lemmatized_text:\n",
    "    \n",
    "    if word in stopwords_plus:\n",
    "        if phrase!= \" \":\n",
    "            phrases.append(str(phrase).strip().split())\n",
    "        phrase = \" \"\n",
    "    elif word not in stopwords_plus:\n",
    "        phrase+=str(word)\n",
    "        phrase+=\" \"\n",
    "\n",
    "print (\"Partitioned Phrases (Candidate Keyphrases): \\n\")\n",
    "print (phrases[:20])"
   ]
  },
  {
   "cell_type": "markdown",
   "metadata": {},
   "source": [
    "### Create a list of unique phrases.\n",
    "\n",
    "Repeating phrases\\keyphrase candidates has no purpose here, anymore. "
   ]
  },
  {
   "cell_type": "code",
   "execution_count": 26,
   "metadata": {},
   "outputs": [
    {
     "name": "stdout",
     "output_type": "stream",
     "text": [
      "Unique Phrases (Candidate Keyphrases): \n",
      "\n",
      "[['committee', 'express'], ['deep', 'gratitude'], ['chair'], ['carstens'], ['invaluable', 'contribution'], ['committee'], ['2015-17'], ['best'], ['general', 'manager'], ['bank'], ['international', 'settlement'], ['governor', 'lesetja'], ['chairman'], ['global', 'growth', 'ha'], ['broad-based'], ['strong', 'rebound'], ['investment'], ['trade'], ['risk'], ['term']]\n"
     ]
    }
   ],
   "source": [
    "unique_phrases = []\n",
    "\n",
    "for phrase in phrases:\n",
    "    if phrase not in unique_phrases:\n",
    "        unique_phrases.append(phrase)\n",
    "\n",
    "print (\"Unique Phrases (Candidate Keyphrases): \\n\")\n",
    "print (unique_phrases[:20])"
   ]
  },
  {
   "cell_type": "markdown",
   "metadata": {},
   "source": [
    "### Thinning the list of candidate-keyphrases.\n",
    "\n",
    "Removing single word keyphrases-candidates that are present multi-word alternatives. "
   ]
  },
  {
   "cell_type": "code",
   "execution_count": 27,
   "metadata": {},
   "outputs": [
    {
     "name": "stdout",
     "output_type": "stream",
     "text": [
      "Thinned Unique Phrases (Candidate Keyphrases): \n",
      "\n",
      "[['committee', 'express'], ['deep', 'gratitude'], ['chair'], ['carstens'], ['invaluable', 'contribution'], ['2015-17'], ['best'], ['general', 'manager'], ['international', 'settlement'], ['governor', 'lesetja'], ['chairman'], ['global', 'growth', 'ha'], ['broad-based'], ['strong', 'rebound'], ['investment'], ['term'], ['skewed'], ['downside'], ['quarter'], ['financial', 'vulnerability']]\n"
     ]
    }
   ],
   "source": [
    "for word in vocabulary:\n",
    "    #print word\n",
    "    for phrase in unique_phrases:\n",
    "        if (word in phrase) and ([word] in unique_phrases) and (len(phrase)>1):\n",
    "            #if len(phrase)>1 then the current phrase is multi-worded.\n",
    "            #if the word in vocabulary is present in unique_phrases as a single-word-phrase\n",
    "            # and at the same time present as a word within a multi-worded phrase,\n",
    "            # then I will remove the single-word-phrase from the list.\n",
    "            unique_phrases.remove([word])\n",
    "            \n",
    "print (\"Thinned Unique Phrases (Candidate Keyphrases): \\n\")\n",
    "print (unique_phrases[:20])    "
   ]
  },
  {
   "cell_type": "markdown",
   "metadata": {},
   "source": [
    "### Scoring Keyphrases\n",
    "\n",
    "Scoring the phrases (candidate keyphrases) and building up a list of keyphrases\\keywords\n",
    "by listing untokenized versions of tokenized phrases\\candidate-keyphrases.\n",
    "Phrases are scored by adding the score of their members (words\\text-units that were ranked by the graph algorithm)\n"
   ]
  },
  {
   "cell_type": "code",
   "execution_count": 28,
   "metadata": {},
   "outputs": [
    {
     "name": "stdout",
     "output_type": "stream",
     "text": [
      "Keyword: 'committee express', Score: 2.195065438747406\n",
      "Keyword: 'deep gratitude', Score: 1.5079360008239746\n",
      "Keyword: 'chair', Score: 0.803815484046936\n",
      "Keyword: 'carstens', Score: 0.7890989184379578\n",
      "Keyword: 'invaluable contribution', Score: 2.4676209688186646\n",
      "Keyword: '2015-17', Score: 0.6863584518432617\n",
      "Keyword: 'best', Score: 0.6646711230278015\n",
      "Keyword: 'general manager', Score: 2.2145882844924927\n",
      "Keyword: 'international settlement', Score: 3.052969813346863\n",
      "Keyword: 'governor lesetja', Score: 1.7367520928382874\n",
      "Keyword: 'chairman', Score: 0.6291137337684631\n",
      "Keyword: 'global growth ha', Score: 8.74663895368576\n",
      "Keyword: 'broad-based', Score: 0.6052017211914062\n",
      "Keyword: 'strong rebound', Score: 2.949370861053467\n",
      "Keyword: 'investment', Score: 1.049487590789795\n",
      "Keyword: 'term', Score: 0.6308286786079407\n",
      "Keyword: 'skewed', Score: 0.637552797794342\n",
      "Keyword: 'downside', Score: 0.6338039040565491\n",
      "Keyword: 'quarter', Score: 0.6167439222335815\n",
      "Keyword: 'financial vulnerability', Score: 7.56276273727417\n",
      "Keyword: 'geopolitical tension', Score: 1.1818017363548279\n",
      "Keyword: 'high global debt threaten global growth prospect', Score: 18.851732552051544\n",
      "Keyword: 'demographic headwind', Score: 1.1879805326461792\n",
      "Keyword: 'productivity growth', Score: 6.159605860710144\n",
      "Keyword: 'inclusive growth', Score: 5.665777087211609\n",
      "Keyword: 'window', Score: 0.6077038049697876\n",
      "Keyword: 'opportunity', Score: 0.6218528151512146\n",
      "Keyword: 'open', Score: 0.6158055067062378\n",
      "Keyword: 'current upswing', Score: 1.1992260217666626\n",
      "Keyword: 'medium-term growth', Score: 6.140612840652466\n",
      "Keyword: 'benefit', Score: 0.5651911497116089\n",
      "Keyword: 'policy tool', Score: 5.9244314432144165\n",
      "Keyword: 'job-rich growth', Score: 5.209335803985596\n",
      "Keyword: 'central bank mandate', Score: 4.026532053947449\n",
      "Keyword: 'mindful', Score: 0.5653456449508667\n",
      "Keyword: 'financial stability risk', Score: 9.283442258834839\n",
      "Keyword: 'monetary accommodation', Score: 2.4341964721679688\n",
      "Keyword: 'inflation', Score: 0.8997178077697754\n",
      "Keyword: 'weak', Score: 0.6063517332077026\n",
      "Keyword: 'central bank', Score: 2.99389111995697\n",
      "Keyword: 'fiscal policy', Score: 6.280415892601013\n",
      "Keyword: 'growth-friendly', Score: 0.6946382522583008\n",
      "Keyword: 'rebuild buffer', Score: 1.5174719095230103\n",
      "Keyword: 'avoid procyclicality', Score: 1.616177260875702\n",
      "Keyword: 'space', Score: 0.8130900263786316\n",
      "Keyword: 'infrastructure', Score: 0.7929539680480957\n",
      "Keyword: 'workforce skill', Score: 1.5003715753555298\n",
      "Keyword: 'public debt', Score: 5.295557737350464\n",
      "Keyword: 'gdp', Score: 0.6045621633529663\n",
      "Keyword: 'sustainable path', Score: 3.7955207228660583\n",
      "Keyword: 'structural reform', Score: 2.5793102979660034\n",
      "Keyword: 'potential growth', Score: 5.6949756145477295\n",
      "Keyword: 'employment', Score: 0.6324594020843506\n",
      "Keyword: 'cost', Score: 0.6542467474937439\n",
      "Keyword: 'adjustment', Score: 0.6597992777824402\n",
      "Keyword: 'consistent implementation', Score: 2.2797220945358276\n",
      "Keyword: 'finalization', Score: 0.575536847114563\n",
      "Keyword: 'financial sector reform', Score: 9.134024262428284\n",
      "Keyword: 'financial sector resilience', Score: 8.599600911140442\n",
      "Keyword: 'financial system', Score: 7.248784065246582\n",
      "Keyword: 'gain', Score: 0.597249448299408\n",
      "Keyword: 'economic integration', Score: 1.685305118560791\n",
      "Keyword: 'manage', Score: 0.6090043783187866\n",
      "Keyword: 'excessive global imbalance', Score: 6.029367208480835\n",
      "Keyword: 'global growth', Score: 8.13843584060669\n",
      "Keyword: 'appropriate', Score: 1.0864678621292114\n",
      "Keyword: 'sustainable policy', Score: 8.086659669876099\n",
      "Keyword: 'strong fundamental', Score: 2.9362961053848267\n",
      "Keyword: 'sound policy', Score: 5.474370956420898\n",
      "Keyword: 'resilient international monetary system', Score: 6.7603466510772705\n",
      "Keyword: 'ims', Score: 1.012012243270874\n",
      "Keyword: 'essential', Score: 0.5632369518280029\n",
      "Keyword: 'exchange rate', Score: 4.824397325515747\n",
      "Keyword: 'sustainable growth', Score: 7.840833902359009\n",
      "Keyword: 'flexible exchange rate', Score: 5.924466013908386\n",
      "Keyword: 'feasible', Score: 0.6318469047546387\n",
      "Keyword: 'shock absorber', Score: 1.31163090467453\n",
      "Keyword: 'excessive volatility', Score: 2.192855179309845\n",
      "Keyword: 'disorderly movement', Score: 1.2918490171432495\n",
      "Keyword: 'adverse implication', Score: 1.7135655879974365\n",
      "Keyword: 'financial stability', Score: 6.814429044723511\n",
      "Keyword: 'competitive devaluation', Score: 1.5840389132499695\n",
      "Keyword: 'competitive purpose', Score: 1.6191364526748657\n",
      "Keyword: 'conclusion', Score: 0.6371937990188599\n",
      "Keyword: 'g-20 hamburg summit', Score: 2.456927239894867\n",
      "Keyword: 'dialogue', Score: 0.6505728363990784\n",
      "Keyword: 'action', Score: 0.6517384648323059\n",
      "Keyword: 'fair', Score: 0.6197472214698792\n",
      "Keyword: 'modern international tax system', Score: 6.7033950090408325\n",
      "Keyword: 'competition challenge', Score: 2.7294942140579224\n",
      "Keyword: 'digitalization', Score: 1.0926889181137085\n",
      "Keyword: 'source', Score: 0.6874985098838806\n",
      "Keyword: 'channel', Score: 0.7076688408851624\n",
      "Keyword: 'money laundering', Score: 1.4098570346832275\n",
      "Keyword: 'terrorism financing', Score: 2.5822882652282715\n",
      "Keyword: 'proliferation financing', Score: 2.5776379108428955\n",
      "Keyword: 'corruption', Score: 1.083086371421814\n",
      "Keyword: 'illicit finance', Score: 1.2190919518470764\n",
      "Keyword: 'effort', Score: 3.3871896266937256\n",
      "Keyword: 'sustainable development goal', Score: 5.6070709228515625\n",
      "Keyword: 'sdgs', Score: 0.953222930431366\n",
      "Keyword: 'debt transparency', Score: 5.568263232707977\n",
      "Keyword: 'sustainable financing practice', Score: 6.648956894874573\n",
      "Keyword: 'debtor', Score: 0.9773149490356445\n",
      "Keyword: 'creditor', Score: 0.9736566543579102\n",
      "Keyword: 'debt vulnerability', Score: 6.812702178955078\n",
      "Keyword: 'low-income country', Score: 4.31295382976532\n",
      "Keyword: 'lics', Score: 0.961546778678894\n",
      "Keyword: 'macroeconomic consequence', Score: 3.0653072595596313\n",
      "Keyword: 'pandemic', Score: 0.6155487895011902\n",
      "Keyword: 'cyber risk', Score: 3.602412462234497\n",
      "Keyword: 'climate change', Score: 1.4571059942245483\n",
      "Keyword: 'natural disaster', Score: 1.575551986694336\n",
      "Keyword: 'energy scarcity', Score: 1.6098095178604126\n",
      "Keyword: 'conflict', Score: 0.7878490686416626\n",
      "Keyword: 'migration', Score: 0.7609782218933105\n",
      "Keyword: 'humanitarian crisis', Score: 1.9516316652297974\n",
      "Keyword: 'director global policy', Score: 9.025402307510376\n",
      "Keyword: 'update', Score: 0.5874836444854736\n",
      "Keyword: 'collaborate', Score: 0.5893094539642334\n",
      "Keyword: 'stable international monetary', Score: 4.882571339607239\n",
      "Keyword: 'rigorous', Score: 0.602800726890564\n",
      "Keyword: 'candid', Score: 0.6150285005569458\n",
      "Keyword: 'transparent assessment', Score: 1.6378377079963684\n",
      "Keyword: 'external sector report', Score: 3.470349371433258\n",
      "Keyword: 'stock-take', Score: 0.6271179914474487\n",
      "Keyword: 'capital flow management measure', Score: 3.898890197277069\n",
      "Keyword: 'institutional view', Score: 1.273299217224121\n",
      "Keyword: 'imfs collaboration', Score: 3.173266291618347\n",
      "Keyword: 'relevant stakeholder', Score: 1.2270392179489136\n",
      "Keyword: 'financial technology', Score: 6.927481532096863\n",
      "Keyword: 'crypto asset', Score: 1.2563162446022034\n",
      "Keyword: 'cyber security', Score: 1.7397910952568054\n",
      "Keyword: 'role', Score: 1.0503727197647095\n",
      "Keyword: 'international tax issue', Score: 5.785733461380005\n",
      "Keyword: 'domestic resource mobilization', Score: 1.9409365057945251\n",
      "Keyword: 'platform', Score: 0.6413857936859131\n",
      "Keyword: 'clear process', Score: 1.195160150527954\n",
      "Keyword: 'country authority', Score: 4.393563091754913\n",
      "Keyword: 'medium-term revenue strategy', Score: 3.1264954805374146\n",
      "Keyword: 'withdrawal', Score: 0.6460718512535095\n",
      "Keyword: 'correspondent banking relationship', Score: 1.9939809441566467\n",
      "Keyword: 'adverse consequence', Score: 2.691743016242981\n",
      "Keyword: 'remittance', Score: 0.6101542115211487\n",
      "Keyword: 'trade flow', Score: 3.6009117364883423\n",
      "Keyword: 'financial inclusion', Score: 6.840811252593994\n",
      "Keyword: 'large refugee inflow', Score: 2.458974599838257\n",
      "Keyword: 'safeguard debt sustainability', Score: 6.9524787068367\n",
      "Keyword: 'bank group', Score: 2.5376681685447693\n",
      "Keyword: 'multi-pronged', Score: 0.5715975165367126\n",
      "Keyword: 'lic debt vulnerability', Score: 8.246902346611023\n",
      "Keyword: 'fiscal framework', Score: 3.2224302291870117\n",
      "Keyword: 'debt management capacity', Score: 7.556046843528748\n",
      "Keyword: 'sustainable lending practice', Score: 5.2931400537490845\n",
      "Keyword: 'data gap', Score: 2.09905207157135\n",
      "Keyword: 'medium-term prospect', Score: 2.5238417387008667\n",
      "Keyword: 'engagement', Score: 0.5792271494865417\n",
      "Keyword: 'governance issue', Score: 2.617217779159546\n",
      "Keyword: 'involvement', Score: 0.6027016639709473\n",
      "Keyword: 'social protection issue', Score: 2.7698516845703125\n",
      "Keyword: 'macroeconomic analysis', Score: 2.0927072167396545\n",
      "Keyword: 'inequality', Score: 0.6004577279090881\n",
      "Keyword: 'financial market', Score: 6.783270478248596\n",
      "Keyword: 'monetary policy', Score: 6.765991806983948\n",
      "Keyword: 'measurement', Score: 0.6179172992706299\n",
      "Keyword: 'digital economy', Score: 2.6931424140930176\n",
      "Keyword: 'youth unemployment', Score: 1.340929090976715\n",
      "Keyword: 'impact', Score: 0.6681926846504211\n",
      "Keyword: 'gender inclusion', Score: 2.4580076932907104\n",
      "Keyword: 'labor force participation', Score: 2.2986897230148315\n",
      "Keyword: 'imfs management implementation plan', Score: 5.392322599887848\n",
      "Keyword: 'response', Score: 0.661848783493042\n",
      "Keyword: 'ieo evaluationthe imf', Score: 6.785400867462158\n",
      "Keyword: 'fragile state', Score: 2.3440338373184204\n",
      "Keyword: 'upgrade policy tool', Score: 6.5094252824783325\n",
      "Keyword: 'tailored policy solution', Score: 6.098960101604462\n",
      "Keyword: 'finding', Score: 0.6382586359977722\n",
      "Keyword: 'interim surveillance review', Score: 4.201451420783997\n",
      "Keyword: 'improvement', Score: 0.6439120173454285\n",
      "Keyword: 'surveillance practice', Score: 2.5691033601760864\n",
      "Keyword: 'evenhandedness', Score: 0.6604527235031128\n",
      "Keyword: 'traction', Score: 0.6772965788841248\n",
      "Keyword: 'effectiveness', Score: 1.1549265384674072\n",
      "Keyword: 'crisis prevention', Score: 1.9756150245666504\n",
      "Keyword: 'coverage', Score: 0.7286331057548523\n",
      "Keyword: 'spillover', Score: 0.722166121006012\n",
      "Keyword: 'adapt', Score: 0.7122944593429565\n",
      "Keyword: 'macro-critical challenge', Score: 2.8157896399497986\n",
      "Keyword: 'aml/cft program', Score: 2.47445946931839\n",
      "Keyword: 'financial sector assessment program', Score: 10.057754874229431\n",
      "Keyword: 'capacity development strategy', Score: 3.815961241722107\n",
      "Keyword: 'debt sustainability framework', Score: 8.212124466896057\n",
      "Keyword: 'market access', Score: 1.9790546894073486\n",
      "Keyword: 'global financial safety net', Score: 10.079629182815552\n",
      "Keyword: 'gfsn', Score: 1.0688806772232056\n",
      "Keyword: 'regional financing arrangement', Score: 3.146074652671814\n",
      "Keyword: 'imf contribution', Score: 7.185083985328674\n",
      "Keyword: 'g-20 data gap initiative', Score: 3.8453778624534607\n",
      "Keyword: 'lic facility', Score: 2.077229917049408\n",
      "Keyword: 'regard', Score: 0.6667016744613647\n",
      "Keyword: 'small', Score: 0.6691011190414429\n",
      "Keyword: 'conditionality', Score: 0.6672894954681396\n",
      "Keyword: 'design', Score: 0.6626501679420471\n",
      "Keyword: 'imf-supported program', Score: 2.5176509022712708\n",
      "Keyword: 'accountability', Score: 0.5807064175605774\n",
      "Keyword: 'capacity development', Score: 2.7933762073516846\n",
      "Keyword: 'lic debt sustainability framework', Score: 9.646324634552002\n",
      "Keyword: 'commitment', Score: 1.0679539442062378\n",
      "Keyword: 'quota-based', Score: 0.5711300373077393\n",
      "Keyword: 'center', Score: 0.5987153053283691\n",
      "Keyword: 'general review', Score: 4.127967357635498\n",
      "Keyword: 'quota formula', Score: 2.3450672030448914\n",
      "Keyword: 'basis', Score: 0.6634689569473267\n",
      "Keyword: 'realignment', Score: 0.6265894770622253\n",
      "Keyword: 'quota share', Score: 4.096019506454468\n",
      "Keyword: 'increased share', Score: 3.033534526824951\n",
      "Keyword: 'dynamic economy', Score: 2.6555851101875305\n",
      "Keyword: 'relative position', Score: 1.2613505125045776\n",
      "Keyword: 'voice', Score: 0.6108817458152771\n",
      "Keyword: 'representation', Score: 0.628798246383667\n",
      "Keyword: 'poor member', Score: 3.1274800300598145\n",
      "Keyword: 'executive board', Score: 1.888296663761139\n",
      "Keyword: 'completion', Score: 0.6207141280174255\n",
      "Keyword: 'spring meeting', Score: 2.0264623165130615\n",
      "Keyword: 'annual meeting', Score: 2.071036458015442\n",
      "Keyword: 'progress report', Score: 2.5541456937789917\n",
      "Keyword: 'time', Score: 0.623633086681366\n",
      "Keyword: 'bilateral borrowing agreement', Score: 1.9646994471549988\n",
      "Keyword: 'full implementation', Score: 2.805758237838745\n",
      "Keyword: 'governance reform', Score: 3.0525938272476196\n",
      "Keyword: 'imfs high-quality staff', Score: 2.8017136454582214\n",
      "Keyword: 'gender diversity', Score: 1.5320242643356323\n"
     ]
    }
   ],
   "source": [
    "phrase_scores = []\n",
    "keywords = []\n",
    "for phrase in unique_phrases:\n",
    "    phrase_score=0\n",
    "    keyword = ''\n",
    "    for word in phrase:\n",
    "        keyword += str(word)\n",
    "        keyword += \" \"\n",
    "        phrase_score+=score[vocabulary.index(word)]\n",
    "    phrase_scores.append(phrase_score)\n",
    "    keywords.append(keyword.strip())\n",
    "\n",
    "i=0\n",
    "for keyword in keywords:\n",
    "    print (\"Keyword: '\"+str(keyword)+\"', Score: \"+str(phrase_scores[i]))\n",
    "    i+=1"
   ]
  },
  {
   "cell_type": "markdown",
   "metadata": {},
   "source": [
    "### Ranking Keyphrases\n",
    "\n",
    "Ranking keyphrases based on their calculated scores. Displaying top keywords_num no. of keyphrases."
   ]
  },
  {
   "cell_type": "code",
   "execution_count": 30,
   "metadata": {
    "scrolled": false
   },
   "outputs": [
    {
     "name": "stdout",
     "output_type": "stream",
     "text": [
      "Keywords:\n",
      "\n",
      "high global debt threaten global growth prospect, \n",
      "global financial safety net, \n",
      "financial sector assessment program, \n",
      "lic debt sustainability framework, \n",
      "financial stability risk, \n",
      "financial sector reform, \n",
      "director global policy, \n",
      "global growth ha, \n",
      "financial sector resilience, \n",
      "lic debt vulnerability, \n",
      "debt sustainability framework, \n",
      "global growth, \n",
      "sustainable policy, \n",
      "sustainable growth, \n",
      "financial vulnerability, \n",
      "debt management capacity, \n",
      "financial system, \n",
      "imf contribution, \n",
      "safeguard debt sustainability, \n",
      "financial technology, \n",
      "financial inclusion, \n",
      "financial stability, \n",
      "debt vulnerability, \n",
      "ieo evaluationthe imf, \n",
      "financial market, \n",
      "monetary policy, \n",
      "resilient international monetary system, \n",
      "modern international tax system, \n",
      "sustainable financing practice, \n",
      "upgrade policy tool, \n",
      "fiscal policy, \n",
      "productivity growth, \n",
      "medium-term growth, \n",
      "tailored policy solution, \n",
      "excessive global imbalance, \n",
      "flexible exchange rate, \n",
      "policy tool, \n",
      "international tax issue, \n",
      "potential growth, \n",
      "inclusive growth, \n"
     ]
    }
   ],
   "source": [
    "sorted_index = np.flip(np.argsort(phrase_scores),0)\n",
    "keywords_num = 40\n",
    "print (\"Keywords:\\n\")\n",
    "for i in range(0,keywords_num):\n",
    "    print (str(keywords[sorted_index[i]])+\", \",)"
   ]
  },
  {
   "cell_type": "markdown",
   "metadata": {},
   "source": [
    "# Input:\n",
    "\n",
    "Compatibility of systems of linear constraints over the set of natural numbers. Criteria of compatibility of a system of linear Diophantine equations, strict inequations, and nonstrict inequations are considered. Upper bounds for components of a minimal set of solutions and algorithms of construction of minimal generating sets of solutions for all types of systems are given. These criteria and the corresponding algorithms for constructing a minimal supporting set of solutions can be used in solving all the considered types of systems and systems of mixed types.\n",
    "\n",
    "# Extracted Keywords:\n",
    "\n",
    "* minimal supporting set,  \n",
    "* minimal generating set,  \n",
    "* minimal set,  \n",
    "* linear diophantine equation,  \n",
    "* nonstrict inequations,  \n",
    "* strict inequations,  \n",
    "* system,  \n",
    "* linear constraint,  \n",
    "* solution,  \n",
    "* upper bound, \n"
   ]
  },
  {
   "cell_type": "code",
   "execution_count": null,
   "metadata": {},
   "outputs": [],
   "source": []
  },
  {
   "cell_type": "code",
   "execution_count": null,
   "metadata": {},
   "outputs": [],
   "source": []
  }
 ],
 "metadata": {
  "kernelspec": {
   "display_name": "Python [default]",
   "language": "python",
   "name": "python3"
  },
  "language_info": {
   "codemirror_mode": {
    "name": "ipython",
    "version": 3
   },
   "file_extension": ".py",
   "mimetype": "text/x-python",
   "name": "python",
   "nbconvert_exporter": "python",
   "pygments_lexer": "ipython3",
   "version": "3.5.4"
  }
 },
 "nbformat": 4,
 "nbformat_minor": 2
}
