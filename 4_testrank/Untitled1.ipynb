{
 "cells": [
  {
   "cell_type": "code",
   "execution_count": 159,
   "metadata": {},
   "outputs": [],
   "source": [
    "import pickle\n",
    "from docx import Document\n",
    "import os \n",
    "from gensim.summarization import keywords\n",
    "from nltk.stem import WordNetLemmatizer\n",
    "from nltk.tokenize import sent_tokenize, word_tokenize\n",
    "from nltk.corpus import stopwords\n",
    "from tf_idf_model import bow_extractor,display_features,build_df,build_idf,build_idf_diag_matrix\n",
    "from tf_idf_model import calculate_tfidf\n",
    "import operator\n",
    "import numpy as np\n",
    "import copy\n",
    "from statistics import mean\n",
    "import pandas as pd"
   ]
  },
  {
   "cell_type": "code",
   "execution_count": 54,
   "metadata": {},
   "outputs": [],
   "source": [
    "data_path = 'data/processed_docs.p'\n",
    "names,docs_list = pickle.load(open( data_path, \"rb\" ))"
   ]
  },
  {
   "cell_type": "code",
   "execution_count": 55,
   "metadata": {},
   "outputs": [
    {
     "name": "stdout",
     "output_type": "stream",
     "text": [
      "['1.', 'the', 'international', 'monetary', 'and', 'financial', 'committee', 'held', 'it', 'inaugural_meeting', 'in', 'washington', ',', 'd.c.', 'on', 'april', '16', ',', '2000', ',', 'under', 'the', 'chairmanship', 'of', 'mr._gordon_brown', ',', 'chancellor', 'of', 'the', 'exchequér', 'of', 'the', 'united_kingdom', '.']\n"
     ]
    }
   ],
   "source": [
    "print(docs_list[0][1])"
   ]
  },
  {
   "cell_type": "markdown",
   "metadata": {},
   "source": [
    "#### First of all, try use gensim"
   ]
  },
  {
   "cell_type": "code",
   "execution_count": 56,
   "metadata": {
    "collapsed": true
   },
   "outputs": [],
   "source": [
    "pos_filters = ('NN','NNS','NNP','NNPS','JJ','JJR','JJS')"
   ]
  },
  {
   "cell_type": "code",
   "execution_count": 57,
   "metadata": {},
   "outputs": [],
   "source": [
    "doc = docs_list[-1]\n",
    "p_list = [' '.join(p) for p in doc]\n",
    "text= ' '.join(p_list)\n",
    "ranks = keywords(text,split=True,ratio=1,scores=True,\n",
    "                 lemmatize=False,\n",
    "                 pos_filter=pos_filters)"
   ]
  },
  {
   "cell_type": "code",
   "execution_count": 58,
   "metadata": {},
   "outputs": [],
   "source": [
    "r = [(v,d[0]) for v,d in ranks]"
   ]
  },
  {
   "cell_type": "code",
   "execution_count": null,
   "metadata": {
    "collapsed": true
   },
   "outputs": [],
   "source": []
  },
  {
   "cell_type": "code",
   "execution_count": 59,
   "metadata": {},
   "outputs": [
    {
     "name": "stdout",
     "output_type": "stream",
     "text": [
      "IMFC_37.docx\n",
      "[('global growth', 0.16515996574044764), ('including', 0.14031533956094744), ('risk', 0.13599208221354295), ('sustain', 0.13380213097688948), ('sustainable', 0.13380213097688948), ('sustainability', 0.13380213097688948), ('work', 0.12316852310730401), ('working', 0.12316852310730401), ('advance policy', 0.11554694692409254), ('enhance resilience', 0.11024898119097234), ('low country', 0.10783852472832718), ('developing', 0.10748106056649637), ('support', 0.10737695864147381), ('supporting', 0.10737695864147381), ('share', 0.10215409515323824), ('competition', 0.098663019896403914), ('debt threaten', 0.097484324227672031), ('proliferation financing', 0.095731117096001683), ('enhancing debt_transparency', 0.093564332880550355), ('enhanced engagement', 0.093564332880550355)]\n"
     ]
    }
   ],
   "source": [
    "print(names[-1])\n",
    "print(r[:20])"
   ]
  },
  {
   "cell_type": "markdown",
   "metadata": {},
   "source": [
    "- so basically it does not work that well, a lot technology related and ebt related term did not show up \n",
    "- now let's multiply this by tfidf "
   ]
  },
  {
   "cell_type": "markdown",
   "metadata": {},
   "source": [
    "#### Calculate TFIDF"
   ]
  },
  {
   "cell_type": "code",
   "execution_count": 60,
   "metadata": {
    "collapsed": true
   },
   "outputs": [],
   "source": [
    "data_path = '../3_general_word_frequency/data/processed_docs.p'\n",
    "names,docs = pickle.load(open( data_path, \"rb\" ))"
   ]
  },
  {
   "cell_type": "code",
   "execution_count": 64,
   "metadata": {},
   "outputs": [],
   "source": [
    "bow_transformer,features = bow_extractor(docs)\n",
    "shape = features.shape\n",
    "vocabs = bow_transformer.get_feature_names()\n",
    "tf = features.todense()"
   ]
  },
  {
   "cell_type": "code",
   "execution_count": 66,
   "metadata": {
    "collapsed": true
   },
   "outputs": [],
   "source": [
    "df = build_df(tf)\n",
    "idf = build_idf(docs,df)"
   ]
  },
  {
   "cell_type": "code",
   "execution_count": 76,
   "metadata": {},
   "outputs": [],
   "source": [
    "voc2idf = {v:i for v,i in zip(vocabs,idf)}\n",
    "sorted_x = sorted(voc2idf.items(),key=operator.itemgetter(1),reverse=True)"
   ]
  },
  {
   "cell_type": "markdown",
   "metadata": {},
   "source": [
    "calculate tfidf"
   ]
  },
  {
   "cell_type": "code",
   "execution_count": 128,
   "metadata": {},
   "outputs": [],
   "source": [
    "idf_matrix = np.repeat(idf,shape[0],axis=0).reshape(shape[1],shape[0]).T\n",
    "tfidf = np.multiply(tf,idf_matrix)\n"
   ]
  },
  {
   "cell_type": "code",
   "execution_count": 181,
   "metadata": {
    "collapsed": true
   },
   "outputs": [],
   "source": [
    "tfidf = np.asarray(tfidf)"
   ]
  },
  {
   "cell_type": "code",
   "execution_count": 183,
   "metadata": {},
   "outputs": [],
   "source": [
    "tfidf_doc37 = copy.deepcopy(tfidf[36,:])\n",
    "#tfidf_doc37 = np.squeeze(np.asarray(tfidf_doc37))"
   ]
  },
  {
   "cell_type": "code",
   "execution_count": 135,
   "metadata": {},
   "outputs": [],
   "source": [
    "voc2tfidf = {v:i for v,i in zip(vocabs,tfidf_doc37)}"
   ]
  },
  {
   "cell_type": "markdown",
   "metadata": {},
   "source": [
    "merge into textrank"
   ]
  },
  {
   "cell_type": "code",
   "execution_count": 157,
   "metadata": {},
   "outputs": [],
   "source": [
    "data = []\n",
    "for k,v in r:\n",
    "    k = k.split()\n",
    "    i_idf = [voc2idf.get(i,0.0) for i in k]\n",
    "    i_idf = mean(i_idf)\n",
    "    i_tfidf = [voc2tfidf.get(i,0.0) for i in k]\n",
    "    i_tfidf = mean(i_tfidf)\n",
    "    data.append((' '.join(k),v,i_idf,i_tfidf))"
   ]
  },
  {
   "cell_type": "code",
   "execution_count": 160,
   "metadata": {},
   "outputs": [],
   "source": [
    "_df = pd.DataFrame(data, columns=['vocab','text_rank','idf','tfidf'])"
   ]
  },
  {
   "cell_type": "code",
   "execution_count": 161,
   "metadata": {},
   "outputs": [
    {
     "data": {
      "text/html": [
       "<div>\n",
       "<style>\n",
       "    .dataframe thead tr:only-child th {\n",
       "        text-align: right;\n",
       "    }\n",
       "\n",
       "    .dataframe thead th {\n",
       "        text-align: left;\n",
       "    }\n",
       "\n",
       "    .dataframe tbody tr th {\n",
       "        vertical-align: top;\n",
       "    }\n",
       "</style>\n",
       "<table border=\"1\" class=\"dataframe\">\n",
       "  <thead>\n",
       "    <tr style=\"text-align: right;\">\n",
       "      <th></th>\n",
       "      <th>vocab</th>\n",
       "      <th>text_rank</th>\n",
       "      <th>idf</th>\n",
       "      <th>tfidf</th>\n",
       "    </tr>\n",
       "  </thead>\n",
       "  <tbody>\n",
       "    <tr>\n",
       "      <th>0</th>\n",
       "      <td>global growth</td>\n",
       "      <td>0.165160</td>\n",
       "      <td>0.000000</td>\n",
       "      <td>0.000000</td>\n",
       "    </tr>\n",
       "    <tr>\n",
       "      <th>1</th>\n",
       "      <td>including</td>\n",
       "      <td>0.140315</td>\n",
       "      <td>0.026668</td>\n",
       "      <td>0.160009</td>\n",
       "    </tr>\n",
       "    <tr>\n",
       "      <th>2</th>\n",
       "      <td>risk</td>\n",
       "      <td>0.135992</td>\n",
       "      <td>0.111226</td>\n",
       "      <td>0.556128</td>\n",
       "    </tr>\n",
       "    <tr>\n",
       "      <th>3</th>\n",
       "      <td>sustain</td>\n",
       "      <td>0.133802</td>\n",
       "      <td>0.998529</td>\n",
       "      <td>0.998529</td>\n",
       "    </tr>\n",
       "    <tr>\n",
       "      <th>4</th>\n",
       "      <td>sustainable</td>\n",
       "      <td>0.133802</td>\n",
       "      <td>0.171850</td>\n",
       "      <td>1.031102</td>\n",
       "    </tr>\n",
       "  </tbody>\n",
       "</table>\n",
       "</div>"
      ],
      "text/plain": [
       "           vocab  text_rank       idf     tfidf\n",
       "0  global growth   0.165160  0.000000  0.000000\n",
       "1      including   0.140315  0.026668  0.160009\n",
       "2           risk   0.135992  0.111226  0.556128\n",
       "3        sustain   0.133802  0.998529  0.998529\n",
       "4    sustainable   0.133802  0.171850  1.031102"
      ]
     },
     "execution_count": 161,
     "metadata": {},
     "output_type": "execute_result"
    }
   ],
   "source": [
    "_df.head()"
   ]
  },
  {
   "cell_type": "code",
   "execution_count": 162,
   "metadata": {
    "collapsed": true
   },
   "outputs": [],
   "source": [
    "_df['text_rank_idf'] = _df['text_rank']*_df['idf']"
   ]
  },
  {
   "cell_type": "code",
   "execution_count": 163,
   "metadata": {
    "collapsed": true
   },
   "outputs": [],
   "source": [
    "_df['text_rank_tfidf'] = _df['text_rank']*_df['tfidf']"
   ]
  },
  {
   "cell_type": "code",
   "execution_count": 164,
   "metadata": {},
   "outputs": [
    {
     "data": {
      "text/html": [
       "<div>\n",
       "<style>\n",
       "    .dataframe thead tr:only-child th {\n",
       "        text-align: right;\n",
       "    }\n",
       "\n",
       "    .dataframe thead th {\n",
       "        text-align: left;\n",
       "    }\n",
       "\n",
       "    .dataframe tbody tr th {\n",
       "        vertical-align: top;\n",
       "    }\n",
       "</style>\n",
       "<table border=\"1\" class=\"dataframe\">\n",
       "  <thead>\n",
       "    <tr style=\"text-align: right;\">\n",
       "      <th></th>\n",
       "      <th>vocab</th>\n",
       "      <th>text_rank</th>\n",
       "      <th>idf</th>\n",
       "      <th>tfidf</th>\n",
       "      <th>text_rank_idf</th>\n",
       "      <th>text_rank_tfidf</th>\n",
       "    </tr>\n",
       "  </thead>\n",
       "  <tbody>\n",
       "    <tr>\n",
       "      <th>0</th>\n",
       "      <td>global growth</td>\n",
       "      <td>0.165160</td>\n",
       "      <td>0.000000</td>\n",
       "      <td>0.000000</td>\n",
       "      <td>0.000000</td>\n",
       "      <td>0.000000</td>\n",
       "    </tr>\n",
       "    <tr>\n",
       "      <th>1</th>\n",
       "      <td>including</td>\n",
       "      <td>0.140315</td>\n",
       "      <td>0.026668</td>\n",
       "      <td>0.160009</td>\n",
       "      <td>0.003742</td>\n",
       "      <td>0.022452</td>\n",
       "    </tr>\n",
       "    <tr>\n",
       "      <th>2</th>\n",
       "      <td>risk</td>\n",
       "      <td>0.135992</td>\n",
       "      <td>0.111226</td>\n",
       "      <td>0.556128</td>\n",
       "      <td>0.015126</td>\n",
       "      <td>0.075629</td>\n",
       "    </tr>\n",
       "    <tr>\n",
       "      <th>3</th>\n",
       "      <td>sustain</td>\n",
       "      <td>0.133802</td>\n",
       "      <td>0.998529</td>\n",
       "      <td>0.998529</td>\n",
       "      <td>0.133605</td>\n",
       "      <td>0.133605</td>\n",
       "    </tr>\n",
       "    <tr>\n",
       "      <th>4</th>\n",
       "      <td>sustainable</td>\n",
       "      <td>0.133802</td>\n",
       "      <td>0.171850</td>\n",
       "      <td>1.031102</td>\n",
       "      <td>0.022994</td>\n",
       "      <td>0.137964</td>\n",
       "    </tr>\n",
       "  </tbody>\n",
       "</table>\n",
       "</div>"
      ],
      "text/plain": [
       "           vocab  text_rank       idf     tfidf  text_rank_idf  \\\n",
       "0  global growth   0.165160  0.000000  0.000000       0.000000   \n",
       "1      including   0.140315  0.026668  0.160009       0.003742   \n",
       "2           risk   0.135992  0.111226  0.556128       0.015126   \n",
       "3        sustain   0.133802  0.998529  0.998529       0.133605   \n",
       "4    sustainable   0.133802  0.171850  1.031102       0.022994   \n",
       "\n",
       "   text_rank_tfidf  \n",
       "0         0.000000  \n",
       "1         0.022452  \n",
       "2         0.075629  \n",
       "3         0.133605  \n",
       "4         0.137964  "
      ]
     },
     "execution_count": 164,
     "metadata": {},
     "output_type": "execute_result"
    }
   ],
   "source": [
    "_df.head()"
   ]
  },
  {
   "cell_type": "code",
   "execution_count": 174,
   "metadata": {
    "collapsed": true
   },
   "outputs": [],
   "source": [
    "result = _df.sort_values('text_rank_tfidf',ascending=False)"
   ]
  },
  {
   "cell_type": "code",
   "execution_count": 178,
   "metadata": {},
   "outputs": [
    {
     "data": {
      "text/html": [
       "<div>\n",
       "<style>\n",
       "    .dataframe thead tr:only-child th {\n",
       "        text-align: right;\n",
       "    }\n",
       "\n",
       "    .dataframe thead th {\n",
       "        text-align: left;\n",
       "    }\n",
       "\n",
       "    .dataframe tbody tr th {\n",
       "        vertical-align: top;\n",
       "    }\n",
       "</style>\n",
       "<table border=\"1\" class=\"dataframe\">\n",
       "  <thead>\n",
       "    <tr style=\"text-align: right;\">\n",
       "      <th></th>\n",
       "      <th>vocab</th>\n",
       "      <th>text_rank</th>\n",
       "      <th>idf</th>\n",
       "      <th>tfidf</th>\n",
       "      <th>text_rank_idf</th>\n",
       "      <th>text_rank_tfidf</th>\n",
       "    </tr>\n",
       "  </thead>\n",
       "  <tbody>\n",
       "    <tr>\n",
       "      <th>28</th>\n",
       "      <td>lic</td>\n",
       "      <td>0.085698</td>\n",
       "      <td>2.251292</td>\n",
       "      <td>4.502584</td>\n",
       "      <td>0.192931</td>\n",
       "      <td>0.385862</td>\n",
       "    </tr>\n",
       "    <tr>\n",
       "      <th>21</th>\n",
       "      <td>inclusion</td>\n",
       "      <td>0.089964</td>\n",
       "      <td>1.239691</td>\n",
       "      <td>3.719073</td>\n",
       "      <td>0.111527</td>\n",
       "      <td>0.334581</td>\n",
       "    </tr>\n",
       "    <tr>\n",
       "      <th>27</th>\n",
       "      <td>lics</td>\n",
       "      <td>0.085698</td>\n",
       "      <td>1.691676</td>\n",
       "      <td>3.383352</td>\n",
       "      <td>0.144973</td>\n",
       "      <td>0.289947</td>\n",
       "    </tr>\n",
       "    <tr>\n",
       "      <th>18</th>\n",
       "      <td>enhancing debt_transparency</td>\n",
       "      <td>0.093564</td>\n",
       "      <td>1.607365</td>\n",
       "      <td>3.079584</td>\n",
       "      <td>0.150392</td>\n",
       "      <td>0.288139</td>\n",
       "    </tr>\n",
       "    <tr>\n",
       "      <th>48</th>\n",
       "      <td>target</td>\n",
       "      <td>0.067770</td>\n",
       "      <td>1.335001</td>\n",
       "      <td>4.005003</td>\n",
       "      <td>0.090473</td>\n",
       "      <td>0.271418</td>\n",
       "    </tr>\n",
       "    <tr>\n",
       "      <th>130</th>\n",
       "      <td>technology</td>\n",
       "      <td>0.044545</td>\n",
       "      <td>1.845827</td>\n",
       "      <td>5.537480</td>\n",
       "      <td>0.082223</td>\n",
       "      <td>0.246668</td>\n",
       "    </tr>\n",
       "    <tr>\n",
       "      <th>14</th>\n",
       "      <td>share</td>\n",
       "      <td>0.102154</td>\n",
       "      <td>0.459532</td>\n",
       "      <td>2.297662</td>\n",
       "      <td>0.046943</td>\n",
       "      <td>0.234716</td>\n",
       "    </tr>\n",
       "    <tr>\n",
       "      <th>16</th>\n",
       "      <td>debt threaten</td>\n",
       "      <td>0.097484</td>\n",
       "      <td>1.574019</td>\n",
       "      <td>2.083016</td>\n",
       "      <td>0.153442</td>\n",
       "      <td>0.203061</td>\n",
       "    </tr>\n",
       "    <tr>\n",
       "      <th>35</th>\n",
       "      <td>subdued productivity</td>\n",
       "      <td>0.076691</td>\n",
       "      <td>1.624910</td>\n",
       "      <td>2.623439</td>\n",
       "      <td>0.124617</td>\n",
       "      <td>0.201195</td>\n",
       "    </tr>\n",
       "    <tr>\n",
       "      <th>32</th>\n",
       "      <td>tackle shared challenge</td>\n",
       "      <td>0.082547</td>\n",
       "      <td>0.944793</td>\n",
       "      <td>2.382865</td>\n",
       "      <td>0.077990</td>\n",
       "      <td>0.196699</td>\n",
       "    </tr>\n",
       "  </tbody>\n",
       "</table>\n",
       "</div>"
      ],
      "text/plain": [
       "                           vocab  text_rank       idf     tfidf  \\\n",
       "28                           lic   0.085698  2.251292  4.502584   \n",
       "21                     inclusion   0.089964  1.239691  3.719073   \n",
       "27                          lics   0.085698  1.691676  3.383352   \n",
       "18   enhancing debt_transparency   0.093564  1.607365  3.079584   \n",
       "48                        target   0.067770  1.335001  4.005003   \n",
       "130                   technology   0.044545  1.845827  5.537480   \n",
       "14                         share   0.102154  0.459532  2.297662   \n",
       "16                 debt threaten   0.097484  1.574019  2.083016   \n",
       "35          subdued productivity   0.076691  1.624910  2.623439   \n",
       "32       tackle shared challenge   0.082547  0.944793  2.382865   \n",
       "\n",
       "     text_rank_idf  text_rank_tfidf  \n",
       "28        0.192931         0.385862  \n",
       "21        0.111527         0.334581  \n",
       "27        0.144973         0.289947  \n",
       "18        0.150392         0.288139  \n",
       "48        0.090473         0.271418  \n",
       "130       0.082223         0.246668  \n",
       "14        0.046943         0.234716  \n",
       "16        0.153442         0.203061  \n",
       "35        0.124617         0.201195  \n",
       "32        0.077990         0.196699  "
      ]
     },
     "execution_count": 178,
     "metadata": {},
     "output_type": "execute_result"
    }
   ],
   "source": [
    "result.head(10)"
   ]
  },
  {
   "cell_type": "code",
   "execution_count": null,
   "metadata": {
    "collapsed": true
   },
   "outputs": [],
   "source": []
  }
 ],
 "metadata": {
  "kernelspec": {
   "display_name": "Python 3",
   "language": "python",
   "name": "python3"
  },
  "language_info": {
   "codemirror_mode": {
    "name": "ipython",
    "version": 3
   },
   "file_extension": ".py",
   "mimetype": "text/x-python",
   "name": "python",
   "nbconvert_exporter": "python",
   "pygments_lexer": "ipython3",
   "version": "3.5.3"
  }
 },
 "nbformat": 4,
 "nbformat_minor": 2
}
