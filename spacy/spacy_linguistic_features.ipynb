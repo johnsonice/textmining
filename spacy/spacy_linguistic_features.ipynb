{
 "cells": [
  {
   "cell_type": "markdown",
   "metadata": {},
   "source": [
    "### Linguistic Features"
   ]
  },
  {
   "cell_type": "code",
   "execution_count": 9,
   "metadata": {},
   "outputs": [],
   "source": [
    "import spacy\n",
    "import pandas as pd"
   ]
  },
  {
   "cell_type": "code",
   "execution_count": null,
   "metadata": {},
   "outputs": [],
   "source": [
    "nlp = spacy.load(\"en_core_web_sm\")"
   ]
  },
  {
   "cell_type": "code",
   "execution_count": 2,
   "metadata": {},
   "outputs": [
    {
     "name": "stdout",
     "output_type": "stream",
     "text": [
      "16. With improved financial management, the immediate focus of reform has now shifted toward increasing revenue mobilization. To achieve this, the authorities have started modernizing customs and are about to approve an ambitious customs policy reform package. Key elements of this package include using the market exchange rate for customs valuation and streamlining tariffs. This is to be followed by a reform of tax policy and administration. The authorities are preparing draft decrees to: (a) reduce the top marginal taxrate for individuals and increase the personal exemptions; (b) restore wage withholding on higher-income employees; (c) introduce a rent tax and an airport departure fee; and (d) expand the business receipts tax to cover certain services provided to expatriates.\n"
     ]
    }
   ],
   "source": [
    "test_sentence = \"16. With improved financial management, the immediate focus of reform has now shifted toward increasing revenue mobilization. To achieve this, the authorities have started modernizing customs and are about to approve an ambitious customs policy reform package. Key elements of this package include using the market exchange rate for customs valuation and streamlining tariffs. This is to be followed by a reform of tax policy and administration. The authorities are preparing draft decrees to: (a) reduce the top marginal taxrate for individuals and increase the personal exemptions; (b) restore wage withholding on higher-income employees; (c) introduce a rent tax and an airport departure fee; and (d) expand the business receipts tax to cover certain services provided to expatriates.\"\n",
    "print(test_sentence)"
   ]
  },
  {
   "cell_type": "code",
   "execution_count": 19,
   "metadata": {},
   "outputs": [],
   "source": [
    "def view_data(attributes):\n",
    "    df = pd.DataFrame(attributes)\n",
    "    return df\n"
   ]
  },
  {
   "cell_type": "markdown",
   "metadata": {},
   "source": [
    "### Dependency parsing for Noun chunks"
   ]
  },
  {
   "cell_type": "code",
   "execution_count": 6,
   "metadata": {},
   "outputs": [],
   "source": [
    "doc = nlp(test_sentence)\n",
    "# for chunk in doc.noun_chunks:\n",
    "#     print(chunk.text, chunk.root.text, chunk.root.dep_,\n",
    "#             chunk.root.head.text)"
   ]
  },
  {
   "cell_type": "code",
   "execution_count": 14,
   "metadata": {},
   "outputs": [
    {
     "data": {
      "text/html": [
       "<div>\n",
       "<style scoped>\n",
       "    .dataframe tbody tr th:only-of-type {\n",
       "        vertical-align: middle;\n",
       "    }\n",
       "\n",
       "    .dataframe tbody tr th {\n",
       "        vertical-align: top;\n",
       "    }\n",
       "\n",
       "    .dataframe thead th {\n",
       "        text-align: right;\n",
       "    }\n",
       "</style>\n",
       "<table border=\"1\" class=\"dataframe\">\n",
       "  <thead>\n",
       "    <tr style=\"text-align: right;\">\n",
       "      <th></th>\n",
       "      <th>text</th>\n",
       "      <th>lemma</th>\n",
       "      <th>root_text</th>\n",
       "      <th>dependency</th>\n",
       "      <th>head_text</th>\n",
       "    </tr>\n",
       "  </thead>\n",
       "  <tbody>\n",
       "    <tr>\n",
       "      <th>0</th>\n",
       "      <td>improved financial management</td>\n",
       "      <td>improved financial management</td>\n",
       "      <td>management</td>\n",
       "      <td>pobj</td>\n",
       "      <td>With</td>\n",
       "    </tr>\n",
       "    <tr>\n",
       "      <th>1</th>\n",
       "      <td>the immediate focus</td>\n",
       "      <td>the immediate focus</td>\n",
       "      <td>focus</td>\n",
       "      <td>nsubj</td>\n",
       "      <td>shifted</td>\n",
       "    </tr>\n",
       "    <tr>\n",
       "      <th>2</th>\n",
       "      <td>reform</td>\n",
       "      <td>reform</td>\n",
       "      <td>reform</td>\n",
       "      <td>pobj</td>\n",
       "      <td>of</td>\n",
       "    </tr>\n",
       "    <tr>\n",
       "      <th>3</th>\n",
       "      <td>increasing revenue mobilization</td>\n",
       "      <td>increase revenue mobilization</td>\n",
       "      <td>mobilization</td>\n",
       "      <td>pobj</td>\n",
       "      <td>toward</td>\n",
       "    </tr>\n",
       "    <tr>\n",
       "      <th>4</th>\n",
       "      <td>the authorities</td>\n",
       "      <td>the authority</td>\n",
       "      <td>authorities</td>\n",
       "      <td>nsubj</td>\n",
       "      <td>started</td>\n",
       "    </tr>\n",
       "    <tr>\n",
       "      <th>5</th>\n",
       "      <td>customs</td>\n",
       "      <td>custom</td>\n",
       "      <td>customs</td>\n",
       "      <td>dobj</td>\n",
       "      <td>modernizing</td>\n",
       "    </tr>\n",
       "    <tr>\n",
       "      <th>6</th>\n",
       "      <td>an ambitious customs policy reform package</td>\n",
       "      <td>an ambitious custom policy reform package</td>\n",
       "      <td>package</td>\n",
       "      <td>dobj</td>\n",
       "      <td>approve</td>\n",
       "    </tr>\n",
       "    <tr>\n",
       "      <th>7</th>\n",
       "      <td>Key elements</td>\n",
       "      <td>key element</td>\n",
       "      <td>elements</td>\n",
       "      <td>nsubj</td>\n",
       "      <td>include</td>\n",
       "    </tr>\n",
       "    <tr>\n",
       "      <th>8</th>\n",
       "      <td>this package</td>\n",
       "      <td>this package</td>\n",
       "      <td>package</td>\n",
       "      <td>pobj</td>\n",
       "      <td>of</td>\n",
       "    </tr>\n",
       "    <tr>\n",
       "      <th>9</th>\n",
       "      <td>the market exchange rate</td>\n",
       "      <td>the market exchange rate</td>\n",
       "      <td>rate</td>\n",
       "      <td>dobj</td>\n",
       "      <td>using</td>\n",
       "    </tr>\n",
       "  </tbody>\n",
       "</table>\n",
       "</div>"
      ],
      "text/plain": [
       "                                         text  \\\n",
       "0               improved financial management   \n",
       "1                         the immediate focus   \n",
       "2                                      reform   \n",
       "3             increasing revenue mobilization   \n",
       "4                             the authorities   \n",
       "5                                     customs   \n",
       "6  an ambitious customs policy reform package   \n",
       "7                                Key elements   \n",
       "8                                this package   \n",
       "9                    the market exchange rate   \n",
       "\n",
       "                                       lemma     root_text dependency  \\\n",
       "0              improved financial management    management       pobj   \n",
       "1                        the immediate focus         focus      nsubj   \n",
       "2                                     reform        reform       pobj   \n",
       "3              increase revenue mobilization  mobilization       pobj   \n",
       "4                              the authority   authorities      nsubj   \n",
       "5                                     custom       customs       dobj   \n",
       "6  an ambitious custom policy reform package       package       dobj   \n",
       "7                                key element      elements      nsubj   \n",
       "8                               this package       package       pobj   \n",
       "9                   the market exchange rate          rate       dobj   \n",
       "\n",
       "     head_text  \n",
       "0         With  \n",
       "1      shifted  \n",
       "2           of  \n",
       "3       toward  \n",
       "4      started  \n",
       "5  modernizing  \n",
       "6      approve  \n",
       "7      include  \n",
       "8           of  \n",
       "9        using  "
      ]
     },
     "execution_count": 14,
     "metadata": {},
     "output_type": "execute_result"
    }
   ],
   "source": [
    "token_attributes = [(chunk.text,\n",
    "                     chunk.lemma_,\n",
    "                     chunk.root.text,\n",
    "                     chunk.root.dep_,\n",
    "                     chunk.root.head.text)\n",
    "                    for chunk in doc.noun_chunks]\n",
    "\n",
    "df = pd.DataFrame(token_attributes,\n",
    "                  columns=['text',\n",
    "                           'lemma',\n",
    "                           'root_text',\n",
    "                           'dependency',\n",
    "                        'head_text'])\n",
    "df.head(10)"
   ]
  },
  {
   "cell_type": "markdown",
   "metadata": {},
   "source": [
    "### Nevigate Depedency tree"
   ]
  },
  {
   "cell_type": "code",
   "execution_count": 24,
   "metadata": {},
   "outputs": [
    {
     "data": {
      "text/html": [
       "<div>\n",
       "<style scoped>\n",
       "    .dataframe tbody tr th:only-of-type {\n",
       "        vertical-align: middle;\n",
       "    }\n",
       "\n",
       "    .dataframe tbody tr th {\n",
       "        vertical-align: top;\n",
       "    }\n",
       "\n",
       "    .dataframe thead th {\n",
       "        text-align: right;\n",
       "    }\n",
       "</style>\n",
       "<table border=\"1\" class=\"dataframe\">\n",
       "  <thead>\n",
       "    <tr style=\"text-align: right;\">\n",
       "      <th></th>\n",
       "      <th>0</th>\n",
       "      <th>1</th>\n",
       "      <th>2</th>\n",
       "      <th>3</th>\n",
       "      <th>4</th>\n",
       "    </tr>\n",
       "  </thead>\n",
       "  <tbody>\n",
       "    <tr>\n",
       "      <th>0</th>\n",
       "      <td>16</td>\n",
       "      <td>ROOT</td>\n",
       "      <td>16</td>\n",
       "      <td>NUM</td>\n",
       "      <td>[.]</td>\n",
       "    </tr>\n",
       "    <tr>\n",
       "      <th>1</th>\n",
       "      <td>.</td>\n",
       "      <td>punct</td>\n",
       "      <td>16</td>\n",
       "      <td>NUM</td>\n",
       "      <td>[]</td>\n",
       "    </tr>\n",
       "    <tr>\n",
       "      <th>2</th>\n",
       "      <td>With</td>\n",
       "      <td>prep</td>\n",
       "      <td>shifted</td>\n",
       "      <td>VERB</td>\n",
       "      <td>[management]</td>\n",
       "    </tr>\n",
       "    <tr>\n",
       "      <th>3</th>\n",
       "      <td>improved</td>\n",
       "      <td>amod</td>\n",
       "      <td>management</td>\n",
       "      <td>NOUN</td>\n",
       "      <td>[]</td>\n",
       "    </tr>\n",
       "    <tr>\n",
       "      <th>4</th>\n",
       "      <td>financial</td>\n",
       "      <td>amod</td>\n",
       "      <td>management</td>\n",
       "      <td>NOUN</td>\n",
       "      <td>[]</td>\n",
       "    </tr>\n",
       "    <tr>\n",
       "      <th>5</th>\n",
       "      <td>management</td>\n",
       "      <td>pobj</td>\n",
       "      <td>With</td>\n",
       "      <td>ADP</td>\n",
       "      <td>[improved, financial]</td>\n",
       "    </tr>\n",
       "    <tr>\n",
       "      <th>6</th>\n",
       "      <td>,</td>\n",
       "      <td>punct</td>\n",
       "      <td>shifted</td>\n",
       "      <td>VERB</td>\n",
       "      <td>[]</td>\n",
       "    </tr>\n",
       "    <tr>\n",
       "      <th>7</th>\n",
       "      <td>the</td>\n",
       "      <td>det</td>\n",
       "      <td>focus</td>\n",
       "      <td>NOUN</td>\n",
       "      <td>[]</td>\n",
       "    </tr>\n",
       "    <tr>\n",
       "      <th>8</th>\n",
       "      <td>immediate</td>\n",
       "      <td>amod</td>\n",
       "      <td>focus</td>\n",
       "      <td>NOUN</td>\n",
       "      <td>[]</td>\n",
       "    </tr>\n",
       "    <tr>\n",
       "      <th>9</th>\n",
       "      <td>focus</td>\n",
       "      <td>nsubj</td>\n",
       "      <td>shifted</td>\n",
       "      <td>VERB</td>\n",
       "      <td>[the, immediate, of]</td>\n",
       "    </tr>\n",
       "  </tbody>\n",
       "</table>\n",
       "</div>"
      ],
      "text/plain": [
       "            0      1           2     3                      4\n",
       "0          16   ROOT          16   NUM                    [.]\n",
       "1           .  punct          16   NUM                     []\n",
       "2        With   prep     shifted  VERB           [management]\n",
       "3    improved   amod  management  NOUN                     []\n",
       "4   financial   amod  management  NOUN                     []\n",
       "5  management   pobj        With   ADP  [improved, financial]\n",
       "6           ,  punct     shifted  VERB                     []\n",
       "7         the    det       focus  NOUN                     []\n",
       "8   immediate   amod       focus  NOUN                     []\n",
       "9       focus  nsubj     shifted  VERB   [the, immediate, of]"
      ]
     },
     "execution_count": 24,
     "metadata": {},
     "output_type": "execute_result"
    }
   ],
   "source": [
    "doc = nlp(test_sentence)\n",
    "features = [(token.text, token.dep_, token.head.text, token.head.pos_,[child for child in token.children])\n",
    "            for token in doc]\n",
    "viz_df = view_data(features)\n",
    "viz_df[:10]"
   ]
  },
  {
   "cell_type": "markdown",
   "metadata": {},
   "source": [
    "### Filtering based dependency rules"
   ]
  },
  {
   "cell_type": "code",
   "execution_count": 26,
   "metadata": {},
   "outputs": [
    {
     "name": "stdout",
     "output_type": "stream",
     "text": [
      "verbs {is, include, shifted, started, preparing}\n",
      "nsubjs {This, focus, authorities, authorities, elements}\n"
     ]
    }
   ],
   "source": [
    "from spacy.symbols import nsubj, VERB\n",
    "doc = nlp(test_sentence)\n",
    "# Finding a verb with a subject from below — good\n",
    "verbs = set()\n",
    "nsubjs = set()\n",
    "for possible_subject in doc:\n",
    "    if possible_subject.dep == nsubj and possible_subject.head.pos == VERB:\n",
    "        verbs.add(possible_subject.head)\n",
    "        nsubjs.add(possible_subject)\n",
    "print(\"verbs {}\".format(verbs))\n",
    "print(\"nsubjs {}\".format(nsubjs))"
   ]
  },
  {
   "cell_type": "markdown",
   "metadata": {},
   "source": [
    "### Nevigating in local trees"
   ]
  },
  {
   "cell_type": "code",
   "execution_count": 27,
   "metadata": {},
   "outputs": [
    {
     "name": "stdout",
     "output_type": "stream",
     "text": [
      "Credit nmod 0 2 ['holders', 'submit']\n",
      "and cc 0 0 ['Credit', 'holders', 'submit']\n",
      "mortgage compound 0 0 ['account', 'Credit', 'holders', 'submit']\n",
      "account conj 1 0 ['Credit', 'holders', 'submit']\n",
      "holders nsubj 1 0 ['submit']\n"
     ]
    }
   ],
   "source": [
    "doc = nlp(u\"Credit and mortgage account holders must submit their requests\")\n",
    "\n",
    "root = [token for token in doc if token.head == token][0]\n",
    "subject = list(root.lefts)[0]\n",
    "for descendant in subject.subtree:\n",
    "    assert subject is descendant or subject.is_ancestor(descendant)\n",
    "    print(descendant.text, descendant.dep_, descendant.n_lefts,\n",
    "            descendant.n_rights,\n",
    "            [ancestor.text for ancestor in descendant.ancestors])"
   ]
  },
  {
   "cell_type": "code",
   "execution_count": null,
   "metadata": {},
   "outputs": [],
   "source": []
  }
 ],
 "metadata": {
  "kernelspec": {
   "display_name": "Python 3",
   "language": "python",
   "name": "python3"
  },
  "language_info": {
   "codemirror_mode": {
    "name": "ipython",
    "version": 3
   },
   "file_extension": ".py",
   "mimetype": "text/x-python",
   "name": "python",
   "nbconvert_exporter": "python",
   "pygments_lexer": "ipython3",
   "version": "3.7.3"
  }
 },
 "nbformat": 4,
 "nbformat_minor": 2
}
