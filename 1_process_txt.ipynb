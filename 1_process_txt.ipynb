{
 "cells": [
  {
   "cell_type": "code",
   "execution_count": 465,
   "metadata": {
    "collapsed": true
   },
   "outputs": [],
   "source": [
    "import nltk\n",
    "import os \n",
    "import glob\n",
    "import re\n",
    "import  pickle\n",
    "from nltk.tokenize import sent_tokenize, word_tokenize"
   ]
  },
  {
   "cell_type": "code",
   "execution_count": 466,
   "metadata": {
    "collapsed": true
   },
   "outputs": [],
   "source": [
    "def useless_words(delete_words,target):\n",
    "    for w in delete_words:\n",
    "        if w in target:\n",
    "            return False\n",
    "    return True\n",
    "\n",
    "def process_documents(text):\n",
    "    delete_words = ['____','DOCUMENT OF INTERNATIONAL MONETARY FUND','Download Date']\n",
    "    replace_regex = re.compile(r'\\uf0b7|\\x0c')\n",
    "    replace_regex = re.compile(r'\\d+?\\.\\d+|\\.\\d+|\\d+-\\d+|\\d+/\\d+|\\d+/|-\\d+|\\d+|½|¼|¼|⅔|¾/') ## clean up all kinds of numbers\n",
    "    #test = '123.45 123.25 1234 .245 2015-218  -60 1/asdf 2/asdf  2021/22 ////'\n",
    "    #replace_regex.findall(test)\n",
    "    text = replace_regex.sub(' ',text)\n",
    "    text = re.sub(r'\\(.*?\\d+.*?\\)|\\s\\s\\s\\s+\\d','',text)  # clean up things like '(box 1)' and  '     1'\n",
    "    sentances = sent_tokenize(text)\n",
    "    \n",
    "    clean_sentances= list()\n",
    "    for line in sentances:\n",
    "        if useless_words(delete_words,line):\n",
    "            tokens = word_tokenize(line)\n",
    "            if len(tokens)>5:\n",
    "                wl = [len(t) for t in tokens]\n",
    "                if max(wl)<30:\n",
    "                    line = number_regex.sub(' ',line)\n",
    "                    tokens = word_tokenize(line.lower())\n",
    "                    clean_sentances.append(tokens)\n",
    "    \n",
    "    return clean_sentances"
   ]
  },
  {
   "cell_type": "code",
   "execution_count": 467,
   "metadata": {
    "collapsed": false
   },
   "outputs": [],
   "source": [
    "files_path = 'txt_files_finished/'\n",
    "files = sorted(glob.glob(files_path+'*.txt'))"
   ]
  },
  {
   "cell_type": "code",
   "execution_count": 468,
   "metadata": {
    "collapsed": false
   },
   "outputs": [],
   "source": [
    "total_results = list()\n",
    "for file in files:\n",
    "    with open(file,'r',encoding='utf-8') as f:\n",
    "        text = f.read()\n",
    "    result = process_documents(text)\n",
    "    total_results.extend(result)\n",
    "    del result"
   ]
  },
  {
   "cell_type": "code",
   "execution_count": 469,
   "metadata": {
    "collapsed": false
   },
   "outputs": [],
   "source": [
    "pickle.dump(total_results,open(\"sentances.p\", \"wb\"))\n",
    "#total_results = pickle.load(open(\"sentances.p\", \"rb\"))"
   ]
  },
  {
   "cell_type": "code",
   "execution_count": 478,
   "metadata": {
    "collapsed": false
   },
   "outputs": [
    {
     "data": {
      "text/plain": [
       "['123.45',\n",
       " '123.25',\n",
       " '1234',\n",
       " '.245',\n",
       " '2015-218',\n",
       " '-60',\n",
       " '1/',\n",
       " '2/',\n",
       " '2021/22',\n",
       " '⅔',\n",
       " '¼']"
      ]
     },
     "execution_count": 478,
     "metadata": {},
     "output_type": "execute_result"
    }
   ],
   "source": [
    "replace_regex = re.compile(r'\\d+?\\.\\d+|\\.\\d+|\\d+-\\d+|\\d+/\\d+|\\d+/|-\\d+|\\d+|½|¼|¼|⅔|¾/') ## clean up all kinds of numbers\n",
    "#test = '123.45 123.25 1234 .245 2015-218  -60 1/asdf 2/asdf  2021/22 ⅔ ¼ ////'\n",
    "#replace_regex.findall(test)"
   ]
  },
  {
   "cell_type": "markdown",
   "metadata": {},
   "source": [
    "### Train Word to vect"
   ]
  },
  {
   "cell_type": "code",
   "execution_count": 471,
   "metadata": {
    "collapsed": false,
    "scrolled": true
   },
   "outputs": [],
   "source": [
    "import gensim\n",
    "from gensim.models.word2vec import Word2Vec"
   ]
  },
  {
   "cell_type": "code",
   "execution_count": 472,
   "metadata": {
    "collapsed": false
   },
   "outputs": [],
   "source": [
    "### initialize model and build vocabulary \n",
    "n_dim = 300\n",
    "window = 7 \n",
    "downsampling = 0.001\n",
    "seed = 1 \n",
    "num_workers = os.cpu_count()    ## not sure if this is a good idea\n",
    "min_count = 5 \n",
    "imf_w2v = Word2Vec(\n",
    "    sg=1,\n",
    "    seed=seed,\n",
    "    workers=num_workers,\n",
    "    size=n_dim,\n",
    "    min_count=min_count,\n",
    "    window= window,\n",
    "    sample=downsampling\n",
    ")\n",
    "## build the vocabulary\n",
    "imf_w2v.build_vocab(total_results)"
   ]
  },
  {
   "cell_type": "code",
   "execution_count": 473,
   "metadata": {
    "collapsed": false
   },
   "outputs": [],
   "source": [
    "## train w2v model \n",
    "corpus_count = imf_w2v.corpus_count\n",
    "iteration = 10\n",
    "if gensim.__version__[0] =='1':\n",
    "    imf_w2v.train(total_results)\n",
    "else:\n",
    "    imf_w2v.train(total_results,total_examples=corpus_count,epochs = iteration)"
   ]
  },
  {
   "cell_type": "code",
   "execution_count": 481,
   "metadata": {
    "collapsed": false
   },
   "outputs": [
    {
     "data": {
      "text/plain": [
       "[('stances', 0.5617283582687378),\n",
       " ('monetary', 0.5204352140426636),\n",
       " ('.monetary', 0.49978727102279663),\n",
       " ('stimulatory', 0.49678149819374084),\n",
       " ('stance', 0.4936649799346924),\n",
       " ('blunt', 0.49233806133270264),\n",
       " ('nimble', 0.48076796531677246),\n",
       " ('quasi-peg', 0.47360220551490784),\n",
       " ('recalibrate', 0.47244811058044434),\n",
       " ('.fiscal', 0.46385127305984497),\n",
       " ('stimuli', 0.45854613184928894),\n",
       " ('policies', 0.4516708552837372),\n",
       " ('resisting', 0.4499441087245941),\n",
       " ('pre-conditions', 0.4491077959537506),\n",
       " ('normalizes', 0.4458550214767456),\n",
       " ('arrow', 0.44334185123443604),\n",
       " ('ift', 0.44234374165534973),\n",
       " ('loosen', 0.44200435280799866),\n",
       " ('rescinded', 0.4405853748321533),\n",
       " ('dilemma', 0.44055449962615967),\n",
       " ('‧', 0.43977826833724976),\n",
       " ('well-communicated', 0.43827080726623535),\n",
       " ('.more', 0.43738624453544617),\n",
       " ('looser', 0.43419045209884644),\n",
       " ('resolute', 0.43388432264328003),\n",
       " ('asynchronous', 0.43379366397857666),\n",
       " ('norges', 0.4323478937149048),\n",
       " ('pre-emptive', 0.4298253655433655),\n",
       " ('stimulative', 0.429351806640625),\n",
       " ('conditioned', 0.42331796884536743),\n",
       " ('trade-offs', 0.4228247106075287),\n",
       " ('macro-economic', 0.4227168560028076),\n",
       " ('anchors', 0.4219643771648407),\n",
       " ('articulating', 0.4205164313316345),\n",
       " ('grip', 0.4204428791999817),\n",
       " ('one-week', 0.4185539484024048),\n",
       " ('bolder', 0.4181687533855438),\n",
       " ('microprudential', 0.41692349314689636),\n",
       " ('apace', 0.41668009757995605),\n",
       " ('mofped', 0.41462886333465576),\n",
       " ('judgments', 0.4141039550304413),\n",
       " ('low-interest-rate', 0.41239404678344727),\n",
       " ('charting', 0.4097546339035034),\n",
       " ('responses', 0.40906527638435364),\n",
       " ('timed', 0.4086620509624481),\n",
       " ('free-floating', 0.40819472074508667),\n",
       " ('overburdening', 0.4078614115715027),\n",
       " ('arresting', 0.40784943103790283),\n",
       " ('informing', 0.4077652096748352),\n",
       " ('subordination', 0.40746477246284485)]"
      ]
     },
     "execution_count": 481,
     "metadata": {},
     "output_type": "execute_result"
    }
   ],
   "source": [
    "imf_w2v.most_similar('policy',topn=50)"
   ]
  },
  {
   "cell_type": "code",
   "execution_count": 475,
   "metadata": {
    "collapsed": false
   },
   "outputs": [],
   "source": [
    "model = imf_w2v.wv\n",
    "vocabs = model.vocab.keys()"
   ]
  },
  {
   "cell_type": "code",
   "execution_count": null,
   "metadata": {
    "collapsed": false
   },
   "outputs": [],
   "source": []
  },
  {
   "cell_type": "code",
   "execution_count": null,
   "metadata": {
    "collapsed": true
   },
   "outputs": [],
   "source": []
  }
 ],
 "metadata": {
  "kernelspec": {
   "display_name": "Python 3",
   "language": "python",
   "name": "python3"
  },
  "language_info": {
   "codemirror_mode": {
    "name": "ipython",
    "version": 3
   },
   "file_extension": ".py",
   "mimetype": "text/x-python",
   "name": "python",
   "nbconvert_exporter": "python",
   "pygments_lexer": "ipython3",
   "version": "3.6.0"
  }
 },
 "nbformat": 4,
 "nbformat_minor": 2
}
