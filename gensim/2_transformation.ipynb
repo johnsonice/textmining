{
 "cells": [
  {
   "cell_type": "code",
   "execution_count": 1,
   "metadata": {
    "nbpresent": {
     "id": "466ad051-48bd-4121-94fa-3a6ef6cd7482"
    }
   },
   "outputs": [],
   "source": [
    "import gensim\n",
    "from gensim import corpora, models, similarities\n",
    "import os\n",
    "import numpy as np"
   ]
  },
  {
   "cell_type": "markdown",
   "metadata": {
    "nbpresent": {
     "id": "4a8f8266-775d-4792-b407-a295f2c1da21"
    }
   },
   "source": [
    "#### Load some data"
   ]
  },
  {
   "cell_type": "code",
   "execution_count": 2,
   "metadata": {
    "nbpresent": {
     "id": "c48a52b4-076e-409b-a9a5-137d76cdbbaa"
    }
   },
   "outputs": [
    {
     "name": "stdout",
     "output_type": "stream",
     "text": [
      "Used files generated from first tutorial\n"
     ]
    }
   ],
   "source": [
    "if os.path.isfile('vocab.dict'):\n",
    "    dictionary = corpora.Dictionary.load('vocab.dict')\n",
    "    corpus = corpora.MmCorpus('corpus.mm')\n",
    "    print(\"Used files generated from first tutorial\")\n",
    "else:\n",
    "    print(\"Please run first tutorial to generate data set\")"
   ]
  },
  {
   "cell_type": "markdown",
   "metadata": {
    "nbpresent": {
     "id": "db5bcc69-1983-4e17-ae4f-937cb9ec66e5"
    }
   },
   "source": [
    "#### Tfidf model "
   ]
  },
  {
   "cell_type": "code",
   "execution_count": 3,
   "metadata": {
    "nbpresent": {
     "id": "0caa3a77-08fe-4fcb-92dd-0ae5ef30121e"
    }
   },
   "outputs": [],
   "source": [
    "tfidf = models.TfidfModel(corpus) # step 1 -- initialize a model"
   ]
  },
  {
   "cell_type": "code",
   "execution_count": 4,
   "metadata": {
    "nbpresent": {
     "id": "1333d0a5-a16c-42f0-a179-23cedd9b0a37"
    }
   },
   "outputs": [
    {
     "name": "stdout",
     "output_type": "stream",
     "text": [
      "[(0, 0.7071067811865475), (1, 0.7071067811865475)]\n"
     ]
    }
   ],
   "source": [
    "doc_bow = [(0, 1), (1, 1)]\n",
    "print(tfidf[doc_bow]) # step 2 -- use the model to transform vectors"
   ]
  },
  {
   "cell_type": "markdown",
   "metadata": {
    "nbpresent": {
     "id": "066c81af-ba83-4065-bea9-244428078f17"
    }
   },
   "source": [
    "Apply to the entire corpus"
   ]
  },
  {
   "cell_type": "code",
   "execution_count": 5,
   "metadata": {
    "nbpresent": {
     "id": "c1fd6d66-83c0-45cc-9782-0cee678f0290"
    }
   },
   "outputs": [
    {
     "data": {
      "text/plain": [
       "[(0, 0.39510679503439006),\n",
       " (1, 0.39510679503439006),\n",
       " (2, 0.270464478621662),\n",
       " (3, 0.39510679503439006),\n",
       " (4, 0.270464478621662),\n",
       " (5, 0.270464478621662),\n",
       " (6, 0.39510679503439006),\n",
       " (7, 0.39510679503439006)]"
      ]
     },
     "execution_count": 5,
     "metadata": {},
     "output_type": "execute_result"
    }
   ],
   "source": [
    "corpus_tfidf = tfidf[corpus]\n",
    "corpus_tfidf[0]"
   ]
  },
  {
   "cell_type": "markdown",
   "metadata": {
    "nbpresent": {
     "id": "336ae6bc-7bf0-4310-be7c-ffd24f1b2c6e"
    }
   },
   "source": [
    "#### compare gensim tfidf with customized model "
   ]
  },
  {
   "cell_type": "code",
   "execution_count": 6,
   "metadata": {
    "nbpresent": {
     "id": "bce24df0-a9d8-4176-adb0-60c88578db32"
    }
   },
   "outputs": [],
   "source": [
    "from tf_idf_model import bow_extractor,display_features,build_df,build_idf,build_idf_diag_matrix\n",
    "from tf_idf_model import calculate_tfidf"
   ]
  },
  {
   "cell_type": "code",
   "execution_count": 7,
   "metadata": {
    "nbpresent": {
     "id": "17ff94f7-6ab4-4fcc-a668-5ff5fa0fa581"
    }
   },
   "outputs": [],
   "source": [
    "tf  = gensim.matutils.corpus2dense(corpus,num_terms=len(dictionary)) ## column as a document\n",
    "tf = tf.T ## convert to normal document term matrix "
   ]
  },
  {
   "cell_type": "code",
   "execution_count": 8,
   "metadata": {
    "nbpresent": {
     "id": "74853c8c-f045-465c-aea1-d13e265b5be4"
    }
   },
   "outputs": [
    {
     "data": {
      "text/plain": [
       "array([1., 1., 1., 1., 1., 1., 1., 1., 0., 0., 0., 0., 0., 0., 0., 0., 0.,\n",
       "       0., 0., 0., 0., 0., 0., 0., 0., 0., 0., 0., 0., 0., 0., 0., 0., 0.,\n",
       "       0., 0., 0., 0., 0., 0., 0.], dtype=float32)"
      ]
     },
     "execution_count": 8,
     "metadata": {},
     "output_type": "execute_result"
    }
   ],
   "source": [
    "tf[0,:]"
   ]
  },
  {
   "cell_type": "code",
   "execution_count": 9,
   "metadata": {
    "nbpresent": {
     "id": "c1cf3ecd-e12a-4d81-b5a7-a19e463bf87e"
    }
   },
   "outputs": [],
   "source": [
    "## if we change our tfidf to be the same defination as gensim, we got same results \n",
    "## be very careful here since there are a lot viations of tfidf, especially when data size is small\n",
    "## they can make a big difference \n",
    "shape = tf.shape\n",
    "df = build_df(tf)\n",
    "idf = build_idf(corpus,df)\n",
    "idf_matrix = np.repeat(idf,shape[0],axis=0).reshape(shape[1],shape[0]).T\n",
    "tfidf = np.multiply(tf,idf_matrix)\n",
    "norms = np.linalg.norm(tfidf,axis=1) ## get norm along the second axis\n",
    "tfidf = tfidf/norms[:,None] "
   ]
  },
  {
   "cell_type": "code",
   "execution_count": 10,
   "metadata": {
    "nbpresent": {
     "id": "a7ed5c2c-490e-470b-9a0c-989964a9f884"
    }
   },
   "outputs": [
    {
     "data": {
      "text/plain": [
       "array([0.3951068 , 0.3951068 , 0.27046448, 0.3951068 , 0.27046448,\n",
       "       0.27046448, 0.3951068 , 0.3951068 , 0.        , 0.        ,\n",
       "       0.        , 0.        , 0.        , 0.        , 0.        ,\n",
       "       0.        , 0.        , 0.        , 0.        , 0.        ,\n",
       "       0.        , 0.        , 0.        , 0.        , 0.        ,\n",
       "       0.        , 0.        , 0.        , 0.        , 0.        ,\n",
       "       0.        , 0.        , 0.        , 0.        , 0.        ,\n",
       "       0.        , 0.        , 0.        , 0.        , 0.        ,\n",
       "       0.        ])"
      ]
     },
     "execution_count": 10,
     "metadata": {},
     "output_type": "execute_result"
    }
   ],
   "source": [
    "tfidf[0,:]"
   ]
  },
  {
   "cell_type": "code",
   "execution_count": null,
   "metadata": {
    "nbpresent": {
     "id": "1f80b582-616e-4f23-92a4-1b4556254e2a"
    }
   },
   "outputs": [],
   "source": []
  }
 ],
 "metadata": {
  "kernelspec": {
   "display_name": "Python [conda env:udacity-nlp]",
   "language": "python",
   "name": "conda-env-udacity-nlp-py"
  },
  "language_info": {
   "codemirror_mode": {
    "name": "ipython",
    "version": 3
   },
   "file_extension": ".py",
   "mimetype": "text/x-python",
   "name": "python",
   "nbconvert_exporter": "python",
   "pygments_lexer": "ipython3",
   "version": "3.5.4"
  }
 },
 "nbformat": 4,
 "nbformat_minor": 2
}
