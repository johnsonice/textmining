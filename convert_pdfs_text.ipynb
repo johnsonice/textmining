{
 "cells": [
  {
   "cell_type": "code",
   "execution_count": 1,
   "metadata": {},
   "outputs": [],
   "source": [
    "from pdfminer.pdfinterp import PDFResourceManager, PDFPageInterpreter\n",
    "from pdfminer.converter import HTMLConverter,TextConverter,XMLConverter\n",
    "from pdfminer.layout import LAParams\n",
    "from pdfminer.pdfpage import PDFPage\n",
    "from pdfminer.pdfdevice import PDFDevice, TagExtractor\n",
    "import io\n",
    "import os "
   ]
  },
  {
   "cell_type": "code",
   "execution_count": 2,
   "metadata": {},
   "outputs": [],
   "source": [
    "def convert(case,fname, pages=None):\n",
    "    if not pages:\n",
    "        pagenums = set();\n",
    "    else:\n",
    "        pagenums = set(pages);      \n",
    "    codec = 'utf-8'\n",
    "    caching = True\n",
    "    laparams = LAParams()\n",
    "    #laparams = None\n",
    "    #password = ''\n",
    "    #maxpages = 0\n",
    "    manager = PDFResourceManager(caching=caching) \n",
    "    if case == 'txt' :\n",
    "        output = io.StringIO()\n",
    "        converter = TextConverter(manager, output, codec=codec, laparams=laparams)     \n",
    "    if case == 'HTML' :\n",
    "        output = io.BytesIO()\n",
    "        converter = HTMLConverter(manager, output, codec=codec, laparams=laparams)\n",
    "        \n",
    "    interpreter = PDFPageInterpreter(manager, converter)   \n",
    "    infile = open(fname, 'rb')\n",
    "\n",
    "    for index,page in enumerate(PDFPage.get_pages(infile, pagenums,caching=caching, check_extractable=True)):\n",
    "        interpreter.process_page(page)\n",
    "\n",
    "    convertedPDF = output.getvalue()\n",
    "\n",
    "\n",
    "    infile.close();\n",
    "    converter.close();\n",
    "    output.close()\n",
    "    \n",
    "    return convertedPDF"
   ]
  },
  {
   "cell_type": "code",
   "execution_count": 3,
   "metadata": {
    "collapsed": true
   },
   "outputs": [],
   "source": [
    "def check_pdf(f):\n",
    "    filename, file_extension = os.path.splitext(f)\n",
    "    if file_extension.lower() == '.pdf':\n",
    "        return filename\n",
    "    else:\n",
    "        return None"
   ]
  },
  {
   "cell_type": "code",
   "execution_count": null,
   "metadata": {},
   "outputs": [],
   "source": [
    "## read file names \n",
    "in_path = '../Documents/'\n",
    "out_path = '../txt_files/'\n",
    "in_files = os.listdir(in_path)\n",
    "in_files = [check_pdf(f) for f in in_files]\n",
    "in_files = [f for f in in_files if f is not None]"
   ]
  },
  {
   "cell_type": "code",
   "execution_count": null,
   "metadata": {},
   "outputs": [],
   "source": [
    "#in_files = in_files[:10]\n",
    "for f in in_files:\n",
    "    in_file = os.path.join(in_path,f+'.pdf')\n",
    "    out_file = os.path.join(out_path,f+'.txt')\n",
    "    case = \"txt\"\n",
    "    try:\n",
    "        convertedPDF = convert(case, in_file)\n",
    "        fileConverted = open(out_file, \"w\",encoding=\"utf-8\")\n",
    "        fileConverted.write(convertedPDF)\n",
    "        fileConverted.close()\n",
    "    except:\n",
    "        print(f)\n",
    "    "
   ]
  },
  {
   "cell_type": "code",
   "execution_count": null,
   "metadata": {
    "collapsed": true
   },
   "outputs": [],
   "source": []
  }
 ],
 "metadata": {
  "kernelspec": {
   "display_name": "Python 3",
   "language": "python",
   "name": "python3"
  },
  "language_info": {
   "codemirror_mode": {
    "name": "ipython",
    "version": 3
   },
   "file_extension": ".py",
   "mimetype": "text/x-python",
   "name": "python",
   "nbconvert_exporter": "python",
   "pygments_lexer": "ipython3",
   "version": "3.6.1"
  }
 },
 "nbformat": 4,
 "nbformat_minor": 2
}
